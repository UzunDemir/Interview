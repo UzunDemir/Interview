{
 "cells": [
  {
   "cell_type": "markdown",
   "id": "fe1db50a-ca05-4dfa-a549-2e2a32c2c984",
   "metadata": {
    "tags": []
   },
   "source": [
    " # \"СберАвтоподписка\": разработка модели, предсказывающей целевое событие  "
   ]
  },
  {
   "cell_type": "markdown",
   "id": "ecfba788-3fce-4777-aca2-cb2f57fb4292",
   "metadata": {},
   "source": [
    "---\n",
    "\n",
    "**Цель проекта**: разработать модель предсказания совершения одного из целевых действий (\"Заказать звонок\", \"Оставить заявку\") для сессий по введенным атрибутам типа utm_*, device_*, geo_* и упаковать модель в сервис.\n",
    "\n",
    "\n",
    "\n",
    "**Целевая метрика**: ориентировочное значение roc-auc > 0.65 — факт совершения\n",
    "пользователем целевого действия.\n",
    "\n",
    "**Формат вывода ответа** - 0/1\n",
    "\n",
    "**Скорость ответа сервиса** - не более 3 секунд\n",
    "\n",
    "**Сервис** - это должен быть (минимум) - py-скрипт с инструкцией по запуску, (максимум) - localhost web app.\n",
    "\n",
    "---"
   ]
  },
  {
   "cell_type": "markdown",
   "id": "4d8e0393-5a37-4de4-a585-48fcc324c69b",
   "metadata": {},
   "source": [
    "В данной работе я буду использовать библиотеку [Feature-engine](https://feature-engine.trainindata.com/en/latest/). Мы не рассматривали ее в настоящем курсе, однако, в процессе самостоятельного изучения аспектов создания моделей предсказания, я нашел ее очень интересным инструментом и решил изучить и использовать его на практике.\n",
    "\n",
    "Вот небольшая характеристика Feature-engine:\n",
    "\n",
    "* Feature-engine содержит наиболее исчерпывающую коллекцию преобразований для разработки функций.\n",
    "\n",
    "* Feature-engine может преобразовывать определенную группу переменных в фрейм данных.\n",
    "\n",
    "* Feature-engine возвращает кадры данных, поэтому подходит для исследования данных и развертывания модели.\n",
    "\n",
    "* Feature-engine совместим с конвейером Scikit-learn, грид- и случайным поиском и перекрестной проверкой.\n",
    "\n",
    "* Feature-engine автоматически распознает числовые, категориальные переменные и переменные даты и времени.\n",
    "\n",
    "* Feature-engine предупреждает вас, если преобразование невозможно, например, если применяется логарифмирование к отрицательным переменным или деление на 0.\n",
    "\n",
    "\n"
   ]
  },
  {
   "cell_type": "markdown",
   "id": "8e50f8b1-e0c0-4d4d-8a7c-bd51ded7776e",
   "metadata": {
    "tags": []
   },
   "source": [
    "### Импорт библиотек"
   ]
  },
  {
   "cell_type": "markdown",
   "id": "f794e5f7-3937-4fb1-9cd6-098492d72b2c",
   "metadata": {
    "tags": []
   },
   "source": [
    "#### Перед импортом библиотек предварительно устанавливается:\n",
    "* `pip install xgboost` согласно [документации](https://xgboost.readthedocs.io/en/stable/install.html#python)\n",
    "* `pip install lightgbm` согласно [документации](https://github.com/microsoft/LightGBM/tree/master/python-package)\n",
    "* `pip install bayesian-optimization` согласно [документации](https://github.com/fmfn/BayesianOptimization)\n",
    "* `pip install feature-engine`\n",
    "* `pip install bayesian-optimization`\n",
    "* `pip install colorama`"
   ]
  },
  {
   "cell_type": "code",
   "execution_count": 194,
   "id": "899a0201-7553-4a0d-a3ba-4de62f616f50",
   "metadata": {
    "id": "s45aMMmq98og"
   },
   "outputs": [],
   "source": [
    "import sys\n",
    "from datetime import datetime\n",
    "import warnings\n",
    "from pathlib import Path\n",
    "from typing import Union\n",
    "from functools import partial\n",
    "\n",
    "\n",
    "import dill\n",
    "import pandas as pd\n",
    "import matplotlib.pyplot as plt\n",
    "import seaborn as sns\n",
    "\n",
    "# препроцессинг и метрики\n",
    "from sklearn.preprocessing import FunctionTransformer, StandardScaler\n",
    "from sklearn.model_selection import (\n",
    "    train_test_split, GridSearchCV, StratifiedKFold)\n",
    "from sklearn.metrics import (\n",
    "    roc_auc_score, accuracy_score, confusion_matrix, precision_score, \n",
    "    recall_score, f1_score, make_scorer, roc_curve)\n",
    "from sklearn.pipeline import Pipeline\n",
    "from feature_engine.encoding import RareLabelEncoder, OneHotEncoder\n",
    "from feature_engine.wrappers import SklearnTransformerWrapper\n",
    "from feature_engine.outliers import Winsorizer\n",
    "from feature_engine.selection import (\n",
    "    DropDuplicateFeatures, DropConstantFeatures, \n",
    "    DropCorrelatedFeatures, DropFeatures)\n",
    "from feature_engine.transformation import YeoJohnsonTransformer\n",
    "from bayes_opt import BayesianOptimization\n",
    "\n",
    "# модели\n",
    "from sklearn.base import BaseEstimator\n",
    "from sklearn.dummy import DummyClassifier\n",
    "from sklearn.linear_model import LogisticRegression\n",
    "from sklearn.neighbors import KNeighborsClassifier\n",
    "from sklearn.neural_network import MLPClassifier\n",
    "from sklearn.svm import LinearSVC\n",
    "from sklearn.naive_bayes import GaussianNB\n",
    "from sklearn.tree import DecisionTreeClassifier\n",
    "from sklearn.ensemble import (\n",
    "    RandomForestClassifier, HistGradientBoostingClassifier)\n",
    "from catboost import CatBoostClassifier\n",
    "from xgboost import XGBClassifier\n",
    "from lightgbm import LGBMClassifier\n",
    "\n",
    "# дополнительные данные\n",
    "from additional_data import (\n",
    "    get_distance_from_moscow, target_events, missing_values, organic_mediums, \n",
    "    social_media_sources, moscow_region_cities, big_cities, russian_holidays)"
   ]
  },
  {
   "cell_type": "markdown",
   "id": "b11d547d-2ab6-4bb8-810a-a6916c831d2a",
   "metadata": {
    "id": "30fUVLzuiQEa",
    "tags": []
   },
   "source": [
    "### Создание констант"
   ]
  },
  {
   "cell_type": "code",
   "execution_count": 195,
   "id": "050373e7-66db-4777-954b-8921c0bc4656",
   "metadata": {
    "id": "2BJ2wLSSWCH8"
   },
   "outputs": [],
   "source": [
    "# необходимо указать путь к папкам с данными и моделями\n",
    "\n",
    "data_folder = Path('..', 'data')\n",
    "models_folder = Path('.', 'models')\n",
    "\n",
    "sessions_filename = 'ga_sessions.csv'\n",
    "hits_filename = 'ga_hits.csv'"
   ]
  },
  {
   "cell_type": "code",
   "execution_count": 196,
   "id": "892b0225-6cb6-4cae-bdcc-d925a3713635",
   "metadata": {
    "id": "s1ljYcGeWGTs"
   },
   "outputs": [],
   "source": [
    "TEST_SIZE = 200_000\n",
    "RANDOM_SEED = 0"
   ]
  },
  {
   "cell_type": "markdown",
   "id": "05138d53-7927-4851-81fc-0ceb1586161c",
   "metadata": {
    "id": "W4r8kBnGh3xP",
    "tags": []
   },
   "source": [
    "### Настройка ноутбука"
   ]
  },
  {
   "cell_type": "code",
   "execution_count": 197,
   "id": "58604011-229f-414d-98c9-64bb4a26a841",
   "metadata": {
    "id": "XWlAoE1QLlkl"
   },
   "outputs": [],
   "source": [
    "pd.set_option('display.max_columns', 100)\n",
    "warnings.filterwarnings('ignore')"
   ]
  },
  {
   "cell_type": "markdown",
   "id": "d9a5f3f7-dd54-4793-bade-5d06166086f8",
   "metadata": {
    "id": "_e6pxmqQi9Zv",
    "tags": []
   },
   "source": [
    "### Загрузка данных\n",
    "\n",
    "Для файла `ga_hits.csv` нужно загрузить только колонки 'session_id' и 'event_action', так как остальные не используются."
   ]
  },
  {
   "cell_type": "code",
   "execution_count": 198,
   "id": "7c5cf862-04a8-409c-b7a6-55f04d7ddace",
   "metadata": {
    "id": "phTdIgg9MQkL",
    "tags": []
   },
   "outputs": [],
   "source": [
    "sessions = pd.read_csv(data_folder / sessions_filename)\n",
    "hits = pd.read_csv(data_folder / hits_filename, \n",
    "                   usecols=['session_id', 'event_action'])"
   ]
  },
  {
   "cell_type": "code",
   "execution_count": 199,
   "id": "d1dc8b05-f505-40f5-a44a-08f98d7e384c",
   "metadata": {},
   "outputs": [
    {
     "name": "stdout",
     "output_type": "stream",
     "text": [
      "<class 'pandas.core.frame.DataFrame'>\n",
      "RangeIndex: 1860042 entries, 0 to 1860041\n",
      "Data columns (total 18 columns):\n",
      " #   Column                    Dtype \n",
      "---  ------                    ----- \n",
      " 0   session_id                object\n",
      " 1   client_id                 object\n",
      " 2   visit_date                object\n",
      " 3   visit_time                object\n",
      " 4   visit_number              int64 \n",
      " 5   utm_source                object\n",
      " 6   utm_medium                object\n",
      " 7   utm_campaign              object\n",
      " 8   utm_adcontent             object\n",
      " 9   utm_keyword               object\n",
      " 10  device_category           object\n",
      " 11  device_os                 object\n",
      " 12  device_brand              object\n",
      " 13  device_model              object\n",
      " 14  device_screen_resolution  object\n",
      " 15  device_browser            object\n",
      " 16  geo_country               object\n",
      " 17  geo_city                  object\n",
      "dtypes: int64(1), object(17)\n",
      "memory usage: 1.8 GB\n"
     ]
    }
   ],
   "source": [
    "sessions.info(memory_usage='deep')"
   ]
  },
  {
   "cell_type": "code",
   "execution_count": 200,
   "id": "3dd7bc93-60f0-489b-ae76-88e28f76e088",
   "metadata": {},
   "outputs": [
    {
     "name": "stdout",
     "output_type": "stream",
     "text": [
      "<class 'pandas.core.frame.DataFrame'>\n",
      "RangeIndex: 15726470 entries, 0 to 15726469\n",
      "Data columns (total 2 columns):\n",
      " #   Column        Dtype \n",
      "---  ------        ----- \n",
      " 0   session_id    object\n",
      " 1   event_action  object\n",
      "dtypes: object(2)\n",
      "memory usage: 2.5 GB\n"
     ]
    }
   ],
   "source": [
    "hits.info(memory_usage='deep')"
   ]
  },
  {
   "cell_type": "markdown",
   "id": "75f12ae8-4979-4e37-829a-050369289f90",
   "metadata": {
    "id": "sG0_hMFGB9dn",
    "tags": []
   },
   "source": [
    "## Подготовка данных"
   ]
  },
  {
   "cell_type": "markdown",
   "id": "65d9f3d5-3c37-4e3a-a6f2-3eb625a0539e",
   "metadata": {
    "id": "O1OIZL9lr4tl",
    "tags": []
   },
   "source": [
    "### Целевая переменная  \n",
    "\n",
    "Целевая переменная считается положительной, если для сессии из `sessions` есть хотя бы одно целевое событие в `hits`. "
   ]
  },
  {
   "cell_type": "code",
   "execution_count": 201,
   "id": "ac8efd10-a8b8-44ac-944a-a91f4bf68a52",
   "metadata": {
    "id": "M5fWRJzNvsg_"
   },
   "outputs": [],
   "source": [
    "hits['target'] = hits['event_action'].isin(target_events) # заполняет столбец hits['target'] 'True', если hits['event_action'] содержит целевую\n",
    "is_target_event = hits.groupby('session_id')['target'].any().astype(int) # target группирует по id (session_id) и по столбцу 'target', то есть все одинаковые session_id собираются"
   ]
  },
  {
   "cell_type": "code",
   "execution_count": 202,
   "id": "813eaf62-dd8c-4f82-98fd-67d83b956035",
   "metadata": {},
   "outputs": [
    {
     "data": {
      "text/plain": [
       "0           False\n",
       "1           False\n",
       "2           False\n",
       "3           False\n",
       "4           False\n",
       "            ...  \n",
       "15726465    False\n",
       "15726466    False\n",
       "15726467    False\n",
       "15726468    False\n",
       "15726469    False\n",
       "Name: target, Length: 15726470, dtype: bool"
      ]
     },
     "execution_count": 202,
     "metadata": {},
     "output_type": "execute_result"
    }
   ],
   "source": [
    "hits['target']"
   ]
  },
  {
   "cell_type": "code",
   "execution_count": 203,
   "id": "77ce0eb7-3c1e-4dc7-9ce6-ab66605dd125",
   "metadata": {},
   "outputs": [
    {
     "data": {
      "text/plain": [
       "session_id\n",
       "1000009318903347362.1632663668.1632663668    0\n",
       "1000010177899156286.1635013443.1635013443    0\n",
       "1000013386240115915.1635402956.1635402956    0\n",
       "1000017303238376207.1623489300.1623489300    0\n",
       "1000020580299877109.1624943350.1624943350    0\n",
       "                                            ..\n",
       "999960188766601545.1626816843.1626816843     0\n",
       "99996598443387715.1626811203.1626811203      0\n",
       "999966717128502952.1638428330.1638428330     0\n",
       "999988617151873171.1623556243.1623556243     0\n",
       "999989480451054428.1634311006.1634311006     0\n",
       "Name: target, Length: 1734610, dtype: int32"
      ]
     },
     "execution_count": 203,
     "metadata": {},
     "output_type": "execute_result"
    }
   ],
   "source": [
    "is_target_event"
   ]
  },
  {
   "cell_type": "code",
   "execution_count": 204,
   "id": "81a98655-8ca1-4d63-a35c-8262618b5e67",
   "metadata": {
    "colab": {
     "base_uri": "https://localhost:8080/"
    },
    "id": "BqV9-6p7wgmj",
    "outputId": "754192e6-374d-4c7b-81ce-a931a9eceb56"
   },
   "outputs": [
    {
     "data": {
      "text/plain": [
       "0.0    0.97295\n",
       "1.0    0.02705\n",
       "Name: target, dtype: float64"
      ]
     },
     "execution_count": 204,
     "metadata": {},
     "output_type": "execute_result"
    }
   ],
   "source": [
    "target = pd.Series(is_target_event, index=sessions['session_id']).fillna(0.0) # Заполним пропуски 0,0\n",
    "target.value_counts(dropna=False, normalize=True) # посчитаем значения, так и есть - целевых значений  2,7%"
   ]
  },
  {
   "cell_type": "code",
   "execution_count": 205,
   "id": "06b77c4c-57d4-4fe4-bb1a-98fed888b1eb",
   "metadata": {},
   "outputs": [
    {
     "data": {
      "text/plain": [
       "session_id\n",
       "9055434745589932991.1637753792.1637753792    0.0\n",
       "905544597018549464.1636867290.1636867290     0.0\n",
       "9055446045651783499.1640648526.1640648526    0.0\n",
       "9055447046360770272.1622255328.1622255328    0.0\n",
       "9055447046360770272.1622255345.1622255345    0.0\n",
       "                                            ... \n",
       "9055415581448263752.1640159305.1640159305    0.0\n",
       "9055421130527858185.1622007305.1622007305    0.0\n",
       "9055422955903931195.1636979515.1636979515    0.0\n",
       "905543020766873816.1638189404.1638189404     0.0\n",
       "9055430416266113553.1640968742.1640968742    0.0\n",
       "Name: target, Length: 1860042, dtype: float64"
      ]
     },
     "execution_count": 205,
     "metadata": {},
     "output_type": "execute_result"
    }
   ],
   "source": [
    "target"
   ]
  },
  {
   "cell_type": "code",
   "execution_count": 206,
   "id": "b98b535d-1538-4633-823e-3f190b550d88",
   "metadata": {
    "id": "VuTc3J5CkhkT"
   },
   "outputs": [],
   "source": [
    "del hits # удалим датафрейм за ненадобностью чтобы не занимал много памяти"
   ]
  },
  {
   "cell_type": "markdown",
   "id": "b65898b4-acba-46a9-9100-7db91e2c8828",
   "metadata": {
    "id": "r5K3svqb1tjM",
    "tags": []
   },
   "source": [
    "### Заполнение пропусков  \n",
    "\n",
    "Пропуски в колонке `device_screen_resolution` заполняем самым частым значением.  \n",
    "Все остальные пропуски в колонках заполняем значением '(nan)'."
   ]
  },
  {
   "cell_type": "code",
   "execution_count": 207,
   "id": "6484af97-8486-41b6-b6dc-b4cc590a9f24",
   "metadata": {
    "id": "hPrvYDhY1QfY"
   },
   "outputs": [],
   "source": [
    "def fill_missings(data: pd.DataFrame) -> pd.DataFrame:\n",
    "    \"\"\"Заполняет пропущенные значения:\n",
    "    * самым частым значением для `device_screen_resolution`;\n",
    "    * значением '(nan)' во всех остальных случаях.\n",
    "    \"\"\"\n",
    "\n",
    "    data = data.copy()\n",
    "\n",
    "    if 'device_screen_resolution' in data.columns:\n",
    "        # '414x896' - самое частое значение в 'device_screen_resolution'\n",
    "        # согласно предварительному анализу данных\n",
    "        data['device_screen_resolution'] = \\\n",
    "            data['device_screen_resolution'].replace(missing_values, '414x896')\n",
    "    \n",
    "    return data.fillna('(nan)')"
   ]
  },
  {
   "cell_type": "markdown",
   "id": "b396b3da-b7e4-4b39-aa04-8ab9c874f710",
   "metadata": {
    "id": "4jwtfKo29Ad7",
    "tags": []
   },
   "source": [
    "### Генерация признаков\n",
    "\n",
    "Создаётся множество дополнительных переменных: день недели и день месяца, является ли день выходным, час и минута посещения, ночью ли посещение, ширина, высота, площадь и соотношение экрана.\n",
    "\n",
    "В том числе с дополнительными данными: является ли день празничным, является ли трафик органическим, из социальных ли сетей он, находится ли пользователь в большом городе или в московской области, расстояние до Москвы как численно, так и в виде категорий."
   ]
  },
  {
   "cell_type": "code",
   "execution_count": 208,
   "id": "cd8c23e3-75c5-4d31-b726-efd114bdfa14",
   "metadata": {
    "id": "RmS25hxv_s8V"
   },
   "outputs": [],
   "source": [
    "def distance_category(distance: float) -> str:\n",
    "    \"\"\"Возвращает категорию расстояния до Москвы.\"\"\"\n",
    "\n",
    "    if distance == -1: return 'no distance'\n",
    "    elif distance == 0: return 'moscow'\n",
    "    elif distance < 100: return '< 100 km'\n",
    "    elif distance < 500: return '100-500 km'\n",
    "    elif distance < 1000: return '500-1000 km'\n",
    "    elif distance < 3000: return '1000-3000 km'\n",
    "    else: return '>= 3000 km'"
   ]
  },
  {
   "cell_type": "code",
   "execution_count": 209,
   "id": "ef8cebbc-1316-44c0-bda8-216e74bd03e1",
   "metadata": {
    "id": "MXGGgtUq2frS"
   },
   "outputs": [],
   "source": [
    "def create_features(data: pd.DataFrame) -> pd.DataFrame:\n",
    "    \"\"\"Создаёт новые признаки из существующих.\"\"\"\n",
    "\n",
    "    data = data.copy()\n",
    "    \n",
    "    # visit_date признаки \n",
    "    if 'visit_date' in data.columns:\n",
    "        data['visit_date'] = data['visit_date'].astype('datetime64[ns]')\n",
    "        data['visit_date_added_holiday'] = \\\n",
    "            data['visit_date'].isin(russian_holidays)\n",
    "        # числовые признаки сделаем строго положительными \n",
    "        # для лучшей обработки на шаге с YeoJohnsonTransformer\n",
    "        data['visit_date_weekday'] = data['visit_date'].dt.weekday + 1\n",
    "        data['visit_date_weekend'] = data['visit_date'].dt.weekday > 4\n",
    "        data['visit_date_day'] = data['visit_date'].dt.day + 1\n",
    "\n",
    "    # visit_time признаки\n",
    "    if 'visit_time' in data.columns:\n",
    "        data['visit_time'] = data['visit_time'].astype('datetime64[ns]')\n",
    "        data['visit_time_hour'] = data['visit_time'].dt.hour + 1\n",
    "        data['visit_time_minute'] = data['visit_time'].dt.minute + 1\n",
    "        data['visit_time_night'] = data['visit_time'].dt.hour < 9\n",
    "\n",
    "    # utm_* признаки\n",
    "    if 'utm_medium' in data.columns:\n",
    "        data['utm_medium_added_is_organic'] = \\\n",
    "            data['utm_medium'].isin(organic_mediums)\n",
    "    if 'utm_source' in data.columns: \n",
    "        data['utm_source_added_is_social'] = \\\n",
    "            data['utm_source'].isin(social_media_sources)\n",
    "    \n",
    "    # device_screen признаки\n",
    "    if 'device_screen_resolution' in data.columns:\n",
    "        name = 'device_screen_resolution'\n",
    "        data[[name + '_width', name + '_height']] = \\\n",
    "            data[name].str.split('x', expand=True).astype(float)\n",
    "        data[name + '_area'] = data[name + '_width'] * data[name + '_height']\n",
    "        data[name + '_ratio'] = data[name + '_width'] / data[name + '_height']\n",
    "        data[name + '_ratio_greater_1'] = data[name + '_ratio'] > 1\n",
    "\n",
    "    # geo_city признаки \n",
    "    if 'geo_city' in data.columns:\n",
    "        data['geo_city_added_is_moscow_region'] = \\\n",
    "            data['geo_city'].isin(moscow_region_cities)\n",
    "        data['geo_city_added_is_big'] = data['geo_city'].isin(big_cities)\n",
    "        data['geo_city_is_big_or_in_moscow_region'] = \\\n",
    "            data['geo_city_added_is_moscow_region'] \\\n",
    "            | data['geo_city_added_is_big']\n",
    "        data['geo_city_added_distance_from_moscow'] = \\\n",
    "            data['geo_city'].apply(get_distance_from_moscow)\n",
    "        data['geo_city_added_distance_from_moscow_category'] = \\\n",
    "            data['geo_city_added_distance_from_moscow'].apply(distance_category)\n",
    "\n",
    "    return data"
   ]
  },
  {
   "cell_type": "markdown",
   "id": "e99efb5a-34d3-46f5-a36c-71b6c8a6d795",
   "metadata": {
    "id": "SdmCT5bFkTpy",
    "tags": []
   },
   "source": [
    "### Дополнительно"
   ]
  },
  {
   "cell_type": "code",
   "execution_count": 210,
   "id": "22ab52f0-7dd6-456c-a118-b47e175fa8d7",
   "metadata": {
    "id": "-h_M6P4-5Gag"
   },
   "outputs": [],
   "source": [
    "def set_index(data: pd.DataFrame, column: str = 'session_id') -> pd.DataFrame:\n",
    "    \"\"\"Устанавливает в качестве индекса датафрейма колонку `column`.\"\"\"\n",
    "    \n",
    "    data = data.copy()\n",
    "\n",
    "    if column in data.columns:\n",
    "        data = data.set_index(column)\n",
    "    \n",
    "    return data"
   ]
  },
  {
   "cell_type": "code",
   "execution_count": 211,
   "id": "829caacf-c302-45a5-b206-b58d740213f7",
   "metadata": {
    "id": "XVHwnlccAUWB"
   },
   "outputs": [],
   "source": [
    "def converse_types(data: pd.DataFrame) -> pd.DataFrame:\n",
    "    \"\"\"Приводит типы переменных к float. В первую очередь \n",
    "    необходимо для преобразования bool значений.\n",
    "    \"\"\"\n",
    "\n",
    "    return data.astype(float)"
   ]
  },
  {
   "cell_type": "markdown",
   "id": "25b92a17-5a2e-4ae3-a5f8-512f7577646f",
   "metadata": {
    "id": "I4Owup725D1u",
    "tags": []
   },
   "source": [
    "### Собираем пайплайн  \n",
    "\n",
    "Пайплайн по подготовке данных состоит из 4 частей:  \n",
    "1. Создание дополнительных признаков\n",
    "2. Преобразование численных переменных\n",
    "3. Преобразование категориальных переменных\n",
    "4. Удаление лишних признаков"
   ]
  },
  {
   "cell_type": "code",
   "execution_count": 212,
   "id": "3827e122-8c55-4067-8267-b33464c453d9",
   "metadata": {
    "id": "4aBifLGa14rl"
   },
   "outputs": [],
   "source": [
    "preprocessor = Pipeline(steps=[\n",
    "\n",
    "    # Создание дополнительных признаков и\n",
    "    # Приведение датафрейма к удобному виду \n",
    "    ('indexer', FunctionTransformer(set_index)), \n",
    "    ('imputer', FunctionTransformer(fill_missings)), \n",
    "    ('engineer', FunctionTransformer(create_features)), \n",
    "    ('dropper', DropFeatures(['client_id', 'visit_date', 'visit_time', \n",
    "                              'device_screen_resolution'])), \n",
    "\n",
    "    # Преобразования численных переменных\n",
    "    ('normalization', YeoJohnsonTransformer()), \n",
    "    ('outlier_remover', Winsorizer()), \n",
    "    ('scaler', SklearnTransformerWrapper(StandardScaler())), \n",
    "\n",
    "    # Преобразования категориальных признаков\n",
    "    ('rare_encoder', RareLabelEncoder(tol=0.05, replace_with='rare')), \n",
    "    ('onehot_encoder', OneHotEncoder(drop_last_binary=True)), \n",
    "    ('bool_converter', FunctionTransformer(converse_types)), \n",
    "\n",
    "    # Удаление дубликатов и коррелируемых признаков\n",
    "    ('constant_dropper', DropConstantFeatures(tol=0.99)), \n",
    "    ('duplicated_dropper', DropDuplicateFeatures()), \n",
    "    ('correlated_dropper', DropCorrelatedFeatures(threshold=0.8)), \n",
    "\n",
    "])"
   ]
  },
  {
   "cell_type": "markdown",
   "id": "a434954f-a68a-472a-b8f0-8efffb72157e",
   "metadata": {
    "id": "Vapx7kE14bXl",
    "tags": []
   },
   "source": [
    "## Моделирование"
   ]
  },
  {
   "cell_type": "markdown",
   "id": "8c5a3f14-7b2d-4284-929f-b8665f57f151",
   "metadata": {
    "id": "p7no5DMn5KQA",
    "tags": []
   },
   "source": [
    "### Разделение данных  \n",
    "\n",
    "Разделим данные на тренировочную, валидационную и тестовую выборки.  \n"
   ]
  },
  {
   "cell_type": "code",
   "execution_count": 213,
   "id": "c5968ea4-77c4-4486-83f6-90fd4b85eabc",
   "metadata": {
    "colab": {
     "base_uri": "https://localhost:8080/"
    },
    "id": "IbEwzDFl5SBC",
    "outputId": "fe8d6058-adff-403e-e6bb-9c3303eac4d1"
   },
   "outputs": [
    {
     "name": "stdout",
     "output_type": "stream",
     "text": [
      "train shapes: (1460042, 18) (1460042,)\n",
      "valid shapes: (200000, 18) (200000,)\n",
      "test  shapes: (200000, 18) (200000,)\n"
     ]
    }
   ],
   "source": [
    "X, X_test, y, y_test = train_test_split(\n",
    "    sessions, target, test_size=TEST_SIZE, \n",
    "    stratify=target, random_state=RANDOM_SEED)\n",
    "\n",
    "X_train, X_valid, y_train, y_valid = train_test_split(\n",
    "    X, y, test_size=TEST_SIZE, \n",
    "    stratify=y, random_state=RANDOM_SEED)\n",
    "\n",
    "print(f'train shapes: {X_train.shape} {y_train.shape}')\n",
    "print(f'valid shapes: {X_valid.shape} {y_valid.shape}')\n",
    "print(f'test  shapes: {X_test.shape} {y_test.shape}')"
   ]
  },
  {
   "cell_type": "markdown",
   "id": "a3d98cba-ece3-4253-9aa3-accb19aad0c5",
   "metadata": {
    "id": "faISJrub1s56",
    "tags": []
   },
   "source": [
    "### Препроцессинг данных  \n",
    "\n",
    "Преобразуем тренировочные и валидационные данные с помощью построенного конвейера."
   ]
  },
  {
   "cell_type": "code",
   "execution_count": 654,
   "id": "567f0ae0-c1d8-4bab-860d-c378063ecf3a",
   "metadata": {},
   "outputs": [
    {
     "data": {
      "text/html": [
       "<div>\n",
       "<style scoped>\n",
       "    .dataframe tbody tr th:only-of-type {\n",
       "        vertical-align: middle;\n",
       "    }\n",
       "\n",
       "    .dataframe tbody tr th {\n",
       "        vertical-align: top;\n",
       "    }\n",
       "\n",
       "    .dataframe thead th {\n",
       "        text-align: right;\n",
       "    }\n",
       "</style>\n",
       "<table border=\"1\" class=\"dataframe\">\n",
       "  <thead>\n",
       "    <tr style=\"text-align: right;\">\n",
       "      <th></th>\n",
       "      <th>session_id</th>\n",
       "      <th>client_id</th>\n",
       "      <th>visit_date</th>\n",
       "      <th>visit_time</th>\n",
       "      <th>visit_number</th>\n",
       "      <th>utm_source</th>\n",
       "      <th>utm_medium</th>\n",
       "      <th>utm_campaign</th>\n",
       "      <th>utm_adcontent</th>\n",
       "      <th>utm_keyword</th>\n",
       "      <th>device_category</th>\n",
       "      <th>device_os</th>\n",
       "      <th>device_brand</th>\n",
       "      <th>device_model</th>\n",
       "      <th>device_screen_resolution</th>\n",
       "      <th>device_browser</th>\n",
       "      <th>geo_country</th>\n",
       "      <th>geo_city</th>\n",
       "    </tr>\n",
       "  </thead>\n",
       "  <tbody>\n",
       "    <tr>\n",
       "      <th>1056663</th>\n",
       "      <td>547332070992313735.1638727047.1638727047</td>\n",
       "      <td>127435678.163873</td>\n",
       "      <td>2021-12-05</td>\n",
       "      <td>20:57:27</td>\n",
       "      <td>1</td>\n",
       "      <td>ZpYIoDJMcFzVoPFsHGJL</td>\n",
       "      <td>banner</td>\n",
       "      <td>TmThBvoCcwkCZZUWACYq</td>\n",
       "      <td>JNHcPlZPxEMWDnRiyoBf</td>\n",
       "      <td>puhZPIYqKXeFPaUviSjo</td>\n",
       "      <td>mobile</td>\n",
       "      <td>iOS</td>\n",
       "      <td>Apple</td>\n",
       "      <td>NaN</td>\n",
       "      <td>428x926</td>\n",
       "      <td>Safari</td>\n",
       "      <td>Russia</td>\n",
       "      <td>Novotroitsk</td>\n",
       "    </tr>\n",
       "    <tr>\n",
       "      <th>1409550</th>\n",
       "      <td>7049980726847853060.1629809978.1629809978</td>\n",
       "      <td>1641451550.162934</td>\n",
       "      <td>2021-08-24</td>\n",
       "      <td>15:00:00</td>\n",
       "      <td>5</td>\n",
       "      <td>MvfHsxITijuriZxsqZqt</td>\n",
       "      <td>cpm</td>\n",
       "      <td>FTjNLDyTrXaWYgZymFkV</td>\n",
       "      <td>PkybGvWbaqORmxjNunqZ</td>\n",
       "      <td>NaN</td>\n",
       "      <td>mobile</td>\n",
       "      <td>NaN</td>\n",
       "      <td>Xiaomi</td>\n",
       "      <td>NaN</td>\n",
       "      <td>393x851</td>\n",
       "      <td>Chrome</td>\n",
       "      <td>Russia</td>\n",
       "      <td>Balashikha</td>\n",
       "    </tr>\n",
       "    <tr>\n",
       "      <th>739873</th>\n",
       "      <td>4064566220882386809.1639930788.1639930788</td>\n",
       "      <td>946355569.163992</td>\n",
       "      <td>2021-12-19</td>\n",
       "      <td>19:19:48</td>\n",
       "      <td>2</td>\n",
       "      <td>ZpYIoDJMcFzVoPFsHGJL</td>\n",
       "      <td>banner</td>\n",
       "      <td>LEoPHuyFvzoNfnzGgfcd</td>\n",
       "      <td>vCIpmpaGBnIQhyYNkXqp</td>\n",
       "      <td>puhZPIYqKXeFPaUviSjo</td>\n",
       "      <td>mobile</td>\n",
       "      <td>Android</td>\n",
       "      <td>Samsung</td>\n",
       "      <td>NaN</td>\n",
       "      <td>339x753</td>\n",
       "      <td>Chrome</td>\n",
       "      <td>Russia</td>\n",
       "      <td>Almetyevsk</td>\n",
       "    </tr>\n",
       "    <tr>\n",
       "      <th>62902</th>\n",
       "      <td>1033849280328168809.1631647080.1631647080</td>\n",
       "      <td>240711793.163165</td>\n",
       "      <td>2021-09-14</td>\n",
       "      <td>22:00:00</td>\n",
       "      <td>1</td>\n",
       "      <td>ZpYIoDJMcFzVoPFsHGJL</td>\n",
       "      <td>banner</td>\n",
       "      <td>gecBYcKZCPMcVYdSSzKP</td>\n",
       "      <td>JNHcPlZPxEMWDnRiyoBf</td>\n",
       "      <td>NaN</td>\n",
       "      <td>mobile</td>\n",
       "      <td>NaN</td>\n",
       "      <td>Apple</td>\n",
       "      <td>NaN</td>\n",
       "      <td>414x896</td>\n",
       "      <td>Safari</td>\n",
       "      <td>Russia</td>\n",
       "      <td>Saint Petersburg</td>\n",
       "    </tr>\n",
       "    <tr>\n",
       "      <th>1297234</th>\n",
       "      <td>6544287746962620171.1638268683.1638268683</td>\n",
       "      <td>1523710728.163827</td>\n",
       "      <td>2021-11-30</td>\n",
       "      <td>13:38:03</td>\n",
       "      <td>1</td>\n",
       "      <td>ZpYIoDJMcFzVoPFsHGJL</td>\n",
       "      <td>banner</td>\n",
       "      <td>LEoPHuyFvzoNfnzGgfcd</td>\n",
       "      <td>vCIpmpaGBnIQhyYNkXqp</td>\n",
       "      <td>puhZPIYqKXeFPaUviSjo</td>\n",
       "      <td>mobile</td>\n",
       "      <td>Android</td>\n",
       "      <td>Xiaomi</td>\n",
       "      <td>NaN</td>\n",
       "      <td>393x851</td>\n",
       "      <td>Chrome</td>\n",
       "      <td>Russia</td>\n",
       "      <td>Moscow</td>\n",
       "    </tr>\n",
       "    <tr>\n",
       "      <th>...</th>\n",
       "      <td>...</td>\n",
       "      <td>...</td>\n",
       "      <td>...</td>\n",
       "      <td>...</td>\n",
       "      <td>...</td>\n",
       "      <td>...</td>\n",
       "      <td>...</td>\n",
       "      <td>...</td>\n",
       "      <td>...</td>\n",
       "      <td>...</td>\n",
       "      <td>...</td>\n",
       "      <td>...</td>\n",
       "      <td>...</td>\n",
       "      <td>...</td>\n",
       "      <td>...</td>\n",
       "      <td>...</td>\n",
       "      <td>...</td>\n",
       "      <td>...</td>\n",
       "    </tr>\n",
       "    <tr>\n",
       "      <th>1793000</th>\n",
       "      <td>8755082352522037809.1633552946.1633552946</td>\n",
       "      <td>2038451459.163355</td>\n",
       "      <td>2021-10-06</td>\n",
       "      <td>23:00:00</td>\n",
       "      <td>1</td>\n",
       "      <td>fDLlAcSmythWSCVMvqvL</td>\n",
       "      <td>(none)</td>\n",
       "      <td>LTuZkdKfxRGVceoWkVyg</td>\n",
       "      <td>JNHcPlZPxEMWDnRiyoBf</td>\n",
       "      <td>NaN</td>\n",
       "      <td>mobile</td>\n",
       "      <td>NaN</td>\n",
       "      <td>Samsung</td>\n",
       "      <td>NaN</td>\n",
       "      <td>360x800</td>\n",
       "      <td>Chrome</td>\n",
       "      <td>Russia</td>\n",
       "      <td>Moscow</td>\n",
       "    </tr>\n",
       "    <tr>\n",
       "      <th>207261</th>\n",
       "      <td>1682284231298311525.1640424805.1640424805</td>\n",
       "      <td>391687320.1640424805</td>\n",
       "      <td>2021-12-25</td>\n",
       "      <td>12:33:25</td>\n",
       "      <td>1</td>\n",
       "      <td>fDLlAcSmythWSCVMvqvL</td>\n",
       "      <td>(none)</td>\n",
       "      <td>LTuZkdKfxRGVceoWkVyg</td>\n",
       "      <td>JNHcPlZPxEMWDnRiyoBf</td>\n",
       "      <td>puhZPIYqKXeFPaUviSjo</td>\n",
       "      <td>mobile</td>\n",
       "      <td>iOS</td>\n",
       "      <td>Apple</td>\n",
       "      <td>NaN</td>\n",
       "      <td>375x812</td>\n",
       "      <td>Safari</td>\n",
       "      <td>Russia</td>\n",
       "      <td>Saint Petersburg</td>\n",
       "    </tr>\n",
       "    <tr>\n",
       "      <th>93412</th>\n",
       "      <td>1170303784354950884.1640345317.1640345317</td>\n",
       "      <td>272482583.164035</td>\n",
       "      <td>2021-12-24</td>\n",
       "      <td>14:28:37</td>\n",
       "      <td>1</td>\n",
       "      <td>fDLlAcSmythWSCVMvqvL</td>\n",
       "      <td>(none)</td>\n",
       "      <td>LTuZkdKfxRGVceoWkVyg</td>\n",
       "      <td>JNHcPlZPxEMWDnRiyoBf</td>\n",
       "      <td>puhZPIYqKXeFPaUviSjo</td>\n",
       "      <td>desktop</td>\n",
       "      <td>Windows</td>\n",
       "      <td>NaN</td>\n",
       "      <td>NaN</td>\n",
       "      <td>1920x1080</td>\n",
       "      <td>Chrome</td>\n",
       "      <td>Russia</td>\n",
       "      <td>Moscow</td>\n",
       "    </tr>\n",
       "    <tr>\n",
       "      <th>1568591</th>\n",
       "      <td>7753976912353269271.1634047522.1634047522</td>\n",
       "      <td>1805363435.163405</td>\n",
       "      <td>2021-10-12</td>\n",
       "      <td>17:00:00</td>\n",
       "      <td>1</td>\n",
       "      <td>ZpYIoDJMcFzVoPFsHGJL</td>\n",
       "      <td>banner</td>\n",
       "      <td>gecBYcKZCPMcVYdSSzKP</td>\n",
       "      <td>JNHcPlZPxEMWDnRiyoBf</td>\n",
       "      <td>NaN</td>\n",
       "      <td>mobile</td>\n",
       "      <td>NaN</td>\n",
       "      <td>Xiaomi</td>\n",
       "      <td>NaN</td>\n",
       "      <td>393x851</td>\n",
       "      <td>Chrome</td>\n",
       "      <td>Russia</td>\n",
       "      <td>Novosibirsk</td>\n",
       "    </tr>\n",
       "    <tr>\n",
       "      <th>1119538</th>\n",
       "      <td>5753600408244704247.1626854393.1626854393</td>\n",
       "      <td>1339614486.162685</td>\n",
       "      <td>2021-07-21</td>\n",
       "      <td>10:00:00</td>\n",
       "      <td>1</td>\n",
       "      <td>MvfHsxITijuriZxsqZqt</td>\n",
       "      <td>cpm</td>\n",
       "      <td>FTjNLDyTrXaWYgZymFkV</td>\n",
       "      <td>dUuXlWzvmhDSyclWRhNP</td>\n",
       "      <td>NaN</td>\n",
       "      <td>mobile</td>\n",
       "      <td>NaN</td>\n",
       "      <td>Xiaomi</td>\n",
       "      <td>NaN</td>\n",
       "      <td>393x851</td>\n",
       "      <td>Chrome</td>\n",
       "      <td>Russia</td>\n",
       "      <td>Saint Petersburg</td>\n",
       "    </tr>\n",
       "  </tbody>\n",
       "</table>\n",
       "<p>1460042 rows × 18 columns</p>\n",
       "</div>"
      ],
      "text/plain": [
       "                                        session_id             client_id  \\\n",
       "1056663   547332070992313735.1638727047.1638727047      127435678.163873   \n",
       "1409550  7049980726847853060.1629809978.1629809978     1641451550.162934   \n",
       "739873   4064566220882386809.1639930788.1639930788      946355569.163992   \n",
       "62902    1033849280328168809.1631647080.1631647080      240711793.163165   \n",
       "1297234  6544287746962620171.1638268683.1638268683     1523710728.163827   \n",
       "...                                            ...                   ...   \n",
       "1793000  8755082352522037809.1633552946.1633552946     2038451459.163355   \n",
       "207261   1682284231298311525.1640424805.1640424805  391687320.1640424805   \n",
       "93412    1170303784354950884.1640345317.1640345317      272482583.164035   \n",
       "1568591  7753976912353269271.1634047522.1634047522     1805363435.163405   \n",
       "1119538  5753600408244704247.1626854393.1626854393     1339614486.162685   \n",
       "\n",
       "         visit_date visit_time  visit_number            utm_source utm_medium  \\\n",
       "1056663  2021-12-05   20:57:27             1  ZpYIoDJMcFzVoPFsHGJL     banner   \n",
       "1409550  2021-08-24   15:00:00             5  MvfHsxITijuriZxsqZqt        cpm   \n",
       "739873   2021-12-19   19:19:48             2  ZpYIoDJMcFzVoPFsHGJL     banner   \n",
       "62902    2021-09-14   22:00:00             1  ZpYIoDJMcFzVoPFsHGJL     banner   \n",
       "1297234  2021-11-30   13:38:03             1  ZpYIoDJMcFzVoPFsHGJL     banner   \n",
       "...             ...        ...           ...                   ...        ...   \n",
       "1793000  2021-10-06   23:00:00             1  fDLlAcSmythWSCVMvqvL     (none)   \n",
       "207261   2021-12-25   12:33:25             1  fDLlAcSmythWSCVMvqvL     (none)   \n",
       "93412    2021-12-24   14:28:37             1  fDLlAcSmythWSCVMvqvL     (none)   \n",
       "1568591  2021-10-12   17:00:00             1  ZpYIoDJMcFzVoPFsHGJL     banner   \n",
       "1119538  2021-07-21   10:00:00             1  MvfHsxITijuriZxsqZqt        cpm   \n",
       "\n",
       "                 utm_campaign         utm_adcontent           utm_keyword  \\\n",
       "1056663  TmThBvoCcwkCZZUWACYq  JNHcPlZPxEMWDnRiyoBf  puhZPIYqKXeFPaUviSjo   \n",
       "1409550  FTjNLDyTrXaWYgZymFkV  PkybGvWbaqORmxjNunqZ                   NaN   \n",
       "739873   LEoPHuyFvzoNfnzGgfcd  vCIpmpaGBnIQhyYNkXqp  puhZPIYqKXeFPaUviSjo   \n",
       "62902    gecBYcKZCPMcVYdSSzKP  JNHcPlZPxEMWDnRiyoBf                   NaN   \n",
       "1297234  LEoPHuyFvzoNfnzGgfcd  vCIpmpaGBnIQhyYNkXqp  puhZPIYqKXeFPaUviSjo   \n",
       "...                       ...                   ...                   ...   \n",
       "1793000  LTuZkdKfxRGVceoWkVyg  JNHcPlZPxEMWDnRiyoBf                   NaN   \n",
       "207261   LTuZkdKfxRGVceoWkVyg  JNHcPlZPxEMWDnRiyoBf  puhZPIYqKXeFPaUviSjo   \n",
       "93412    LTuZkdKfxRGVceoWkVyg  JNHcPlZPxEMWDnRiyoBf  puhZPIYqKXeFPaUviSjo   \n",
       "1568591  gecBYcKZCPMcVYdSSzKP  JNHcPlZPxEMWDnRiyoBf                   NaN   \n",
       "1119538  FTjNLDyTrXaWYgZymFkV  dUuXlWzvmhDSyclWRhNP                   NaN   \n",
       "\n",
       "        device_category device_os device_brand device_model  \\\n",
       "1056663          mobile       iOS        Apple          NaN   \n",
       "1409550          mobile       NaN       Xiaomi          NaN   \n",
       "739873           mobile   Android      Samsung          NaN   \n",
       "62902            mobile       NaN        Apple          NaN   \n",
       "1297234          mobile   Android       Xiaomi          NaN   \n",
       "...                 ...       ...          ...          ...   \n",
       "1793000          mobile       NaN      Samsung          NaN   \n",
       "207261           mobile       iOS        Apple          NaN   \n",
       "93412           desktop   Windows          NaN          NaN   \n",
       "1568591          mobile       NaN       Xiaomi          NaN   \n",
       "1119538          mobile       NaN       Xiaomi          NaN   \n",
       "\n",
       "        device_screen_resolution device_browser geo_country          geo_city  \n",
       "1056663                  428x926         Safari      Russia       Novotroitsk  \n",
       "1409550                  393x851         Chrome      Russia        Balashikha  \n",
       "739873                   339x753         Chrome      Russia        Almetyevsk  \n",
       "62902                    414x896         Safari      Russia  Saint Petersburg  \n",
       "1297234                  393x851         Chrome      Russia            Moscow  \n",
       "...                          ...            ...         ...               ...  \n",
       "1793000                  360x800         Chrome      Russia            Moscow  \n",
       "207261                   375x812         Safari      Russia  Saint Petersburg  \n",
       "93412                  1920x1080         Chrome      Russia            Moscow  \n",
       "1568591                  393x851         Chrome      Russia       Novosibirsk  \n",
       "1119538                  393x851         Chrome      Russia  Saint Petersburg  \n",
       "\n",
       "[1460042 rows x 18 columns]"
      ]
     },
     "execution_count": 654,
     "metadata": {},
     "output_type": "execute_result"
    }
   ],
   "source": [
    "X_train"
   ]
  },
  {
   "cell_type": "code",
   "execution_count": 214,
   "id": "420c3d7c-cc04-413e-9658-c2d130d2685b",
   "metadata": {
    "colab": {
     "base_uri": "https://localhost:8080/"
    },
    "id": "2vtF_r6P1sen",
    "outputId": "491885c9-2d6a-4a7e-d1a2-1e5325b51986"
   },
   "outputs": [
    {
     "name": "stdout",
     "output_type": "stream",
     "text": [
      "X_train.shape = (1460042, 55)\n"
     ]
    }
   ],
   "source": [
    "X_train_preprocessed = preprocessor.fit_transform(X_train)\n",
    "X_valid_preprocessed = preprocessor.transform(X_valid)\n",
    "\n",
    "print(f'X_train.shape = {X_train_preprocessed.shape}')"
   ]
  },
  {
   "cell_type": "markdown",
   "id": "a260a92f-8924-4c21-be3a-590857de7db5",
   "metadata": {
    "id": "-G6lNagZNfgM",
    "jp-MarkdownHeadingCollapsed": true,
    "tags": []
   },
   "source": [
    "### Выбор метрик  \n",
    "\n",
    "Будем использовать в качестве основной метрики - `roc_auc`. Но также взглянем и на другие метрики: `accuracy`, `precision`, `recall`, `f1`.  \n"
   ]
  },
  {
   "cell_type": "code",
   "execution_count": 215,
   "id": "697ca8a7-e512-4fcf-aae6-b50d8fe9cab5",
   "metadata": {
    "id": "klHCY5FJOgDz"
   },
   "outputs": [],
   "source": [
    "def find_best_threshold(\n",
    "    y_true: pd.Series, \n",
    "    y_proba: pd.Series, \n",
    "    metriс_name: str = 'roc_auc', \n",
    "    iterations: int = 250, \n",
    "    learning_rate: float = 0.05\n",
    ") -> float:\n",
    "    \"\"\"Находит лучший порог перевода вероятностей `y_proba` \n",
    "    в принадлежность к классу 1.\n",
    "    \"\"\"\n",
    "    \n",
    "    # Получение функции метрики, которую оптимизируем\n",
    "    metrics = {'roc_auc': roc_auc_score, 'f1': f1_score, \n",
    "               'precision': precision_score, 'recall': recall_score}\n",
    "    metric_function = metrics.get(metriс_name, accuracy_score)\n",
    "\n",
    "    # Получение метрики\n",
    "    def get_metric(threshold: float) -> float:\n",
    "        prediction = (y_proba > threshold).astype(int)\n",
    "        return metric_function(y_true, prediction)\n",
    "\n",
    "    direction = -1\n",
    "    shift = 0.25\n",
    "\n",
    "    best_threshold = 0.5\n",
    "    best_metric = get_metric(best_threshold)\n",
    "\n",
    "    # На каждой итерации\n",
    "    for i in range(iterations):\n",
    "\n",
    "        # Меняем порог\n",
    "        threshold = best_threshold + direction * shift\n",
    "        shift *= (1 - learning_rate)\n",
    "        metric = get_metric(threshold)\n",
    "\n",
    "        # И проверяем, улучшилась ли метрика\n",
    "        if metric > best_metric: \n",
    "            best_threshold = threshold\n",
    "            best_metric = metric\n",
    "        else: \n",
    "            direction *= -1\n",
    "            \n",
    "    return best_threshold"
   ]
  },
  {
   "cell_type": "code",
   "execution_count": 216,
   "id": "7bfd74bc-a35a-4619-9f09-24e459455ba2",
   "metadata": {
    "id": "Gy9AoqAeowRX"
   },
   "outputs": [],
   "source": [
    "def print_metrics(\n",
    "    model: BaseEstimator, \n",
    "    X: pd.DataFrame, \n",
    "    y: pd.Series, \n",
    "    threshold: Union[float, None] = None, \n",
    "    show_roc_curve: bool = False\n",
    ") -> None:\n",
    "    \"\"\"Получает метрики бинарной классификации из модели `model` на данных \n",
    "    `X` и `y`. Если возможно, то через метод `predict_proba` с заданным \n",
    "    порогом перевода вероятностей в классы `threshold`, иначе через `predict`. \n",
    "    Если `threshold` равен None, автоматически найдёт лучший порог.  \n",
    "    ---\n",
    "    Метрики: roc_auc, accuracy, precision, recall, f1, confusion_matrix, \n",
    "    roc_curve.\n",
    "    \"\"\"\n",
    "\n",
    "    # Получим предсказания, если возможно в виде вероятностей\n",
    "    try: \n",
    "        probas = model.predict_proba(X)[:, 1]\n",
    "    except AttributeError:\n",
    "        prediction = model.predict(X)\n",
    "        threshold = None\n",
    "        probas = None\n",
    "    else:\n",
    "        threshold = threshold or find_best_threshold(y, probas, 'roc_auc')\n",
    "        prediction = (probas > threshold).astype(int)\n",
    "\n",
    "    # Распечатаем порог перевода вероятностей в классы\n",
    "    if threshold is None:\n",
    "        print(\"Порог перевода вероятностей в классы: не используется\")\n",
    "    else:\n",
    "        print(f\"Порог перевода вероятностей в классы: {threshold}\")\n",
    "        print(f\"{roc_auc_score(y, probas)} - roc_auc на вероятностях\")\n",
    "\n",
    "    # Распечатаем однострочные метрики\n",
    "    print()\n",
    "    print(f\"{roc_auc_score(y, prediction):0.8f} - roc_auc\")\n",
    "    print(f\"{accuracy_score(y, prediction):0.8f} - accuracy\")\n",
    "    print(f\"{precision_score(y, prediction):0.8f} - precision\")\n",
    "    print(f\"{recall_score(y, prediction):0.8f} - recall\")\n",
    "    print(f\"{f1_score(y, prediction):0.8f} - f1\")\n",
    "\n",
    "    # Распечатаем матрицу ошибок\n",
    "    conf_mat = confusion_matrix(y, prediction)\n",
    "    classes = model.classes_\n",
    "    n_classes = len(classes)\n",
    "    print()\n",
    "    print(\"|\".join(f\"{i:^10}\" for i in [\"prediction\"] + list(classes)))\n",
    "    print(f\"{'true label':^10}\" + (\"|\" + \" \" * 10) * n_classes)\n",
    "    print(\"-\" * ((n_classes * 10) + n_classes + 10))\n",
    "    for i in range(n_classes):\n",
    "        print(\"|\".join(f\"{j:>10}\" for j in [classes[i]] + list(conf_mat[i])))\n",
    "\n",
    "    # Отобразим ROC-кривую\n",
    "    if show_roc_curve:\n",
    "        print()\n",
    "        plt.figure(figsize=(7, 4))\n",
    "        if probas is not None:\n",
    "            plt.plot(*roc_curve(y_test, probas)[:2], \n",
    "                     c='r', label='on probability')\n",
    "        plt.plot(*roc_curve(y_test, prediction)[:2], c='b', label='on class')\n",
    "        plt.plot([0, 1], [0, 1], c='y', label='random', linestyle='dashed')\n",
    "        plt.title('Receiver operating characteristic')\n",
    "        plt.xlabel('False Positive Rate')\n",
    "        plt.ylabel('True Positive Rate')\n",
    "        plt.legend()\n",
    "        plt.show()"
   ]
  },
  {
   "cell_type": "markdown",
   "id": "4d0e8fa6-2e14-4b19-a47d-dad05e838935",
   "metadata": {
    "id": "Fm7hN89g4g4_",
    "tags": []
   },
   "source": [
    "### Базовая модель  \n",
    "\n",
    "Так как целевая переменная распределена не равномерно, то в качестве бейзлайна можно выбрать стратегию, которая для каждой сессии предсказывает значение 0.  \n"
   ]
  },
  {
   "cell_type": "code",
   "execution_count": 217,
   "id": "59101a7e-1a0e-4e69-a993-166d061131be",
   "metadata": {
    "colab": {
     "base_uri": "https://localhost:8080/"
    },
    "id": "MoTDCM7V4FUm",
    "outputId": "9e083a1b-b379-488e-c3f4-f51f4451742a"
   },
   "outputs": [
    {
     "name": "stdout",
     "output_type": "stream",
     "text": [
      "Порог перевода вероятностей в классы: 0.5\n",
      "0.5 - roc_auc на вероятностях\n",
      "\n",
      "0.50000000 - roc_auc\n",
      "0.97295000 - accuracy\n",
      "0.00000000 - precision\n",
      "0.00000000 - recall\n",
      "0.00000000 - f1\n",
      "\n",
      "prediction|   0.0    |   1.0    \n",
      "true label|          |          \n",
      "--------------------------------\n",
      "       0.0|    194590|         0\n",
      "       1.0|      5410|         0\n"
     ]
    }
   ],
   "source": [
    "# Обучим базовую модель \n",
    "baseline = DummyClassifier(strategy='constant', constant=0)\n",
    "baseline.fit(X_train_preprocessed, y_train)\n",
    "\n",
    "# И получим её метрики\n",
    "print_metrics(baseline, X_valid_preprocessed, y_valid, 0.5)"
   ]
  },
  {
   "cell_type": "markdown",
   "id": "66b4b78d-7419-4ce2-9430-e373a4945d3a",
   "metadata": {
    "id": "PWvFBh-uZo0b",
    "tags": []
   },
   "source": [
    "### Выбор модели  \n",
    "\n",
    "Обучим несколько моделей, оценим на валидационной выборке и выберем лучшую, которую уже будем оптимизировать."
   ]
  },
  {
   "cell_type": "markdown",
   "id": "24c0100b-1214-410c-9109-a3d3acbef360",
   "metadata": {
    "id": "mx3teaVL1vJH",
    "tags": []
   },
   "source": [
    "#### Логистическая регрессия"
   ]
  },
  {
   "cell_type": "code",
   "execution_count": 218,
   "id": "8cdadecb-45b6-4a41-9f94-4529d60834b3",
   "metadata": {
    "id": "MQN5cdrGBsAl"
   },
   "outputs": [],
   "source": [
    "logreg = LogisticRegression(random_state=RANDOM_SEED)"
   ]
  },
  {
   "cell_type": "code",
   "execution_count": 219,
   "id": "f7ec62f2-66a7-42bd-83bd-553b84db050b",
   "metadata": {
    "colab": {
     "base_uri": "https://localhost:8080/"
    },
    "id": "HmSC_wnWt7CO",
    "outputId": "d22897ac-3f5f-47ab-ad03-6b22e0f09a02"
   },
   "outputs": [
    {
     "name": "stdout",
     "output_type": "stream",
     "text": [
      "Wall time: 11.1 s\n"
     ]
    },
    {
     "data": {
      "text/html": [
       "<style>#sk-container-id-10 {color: black;background-color: white;}#sk-container-id-10 pre{padding: 0;}#sk-container-id-10 div.sk-toggleable {background-color: white;}#sk-container-id-10 label.sk-toggleable__label {cursor: pointer;display: block;width: 100%;margin-bottom: 0;padding: 0.3em;box-sizing: border-box;text-align: center;}#sk-container-id-10 label.sk-toggleable__label-arrow:before {content: \"▸\";float: left;margin-right: 0.25em;color: #696969;}#sk-container-id-10 label.sk-toggleable__label-arrow:hover:before {color: black;}#sk-container-id-10 div.sk-estimator:hover label.sk-toggleable__label-arrow:before {color: black;}#sk-container-id-10 div.sk-toggleable__content {max-height: 0;max-width: 0;overflow: hidden;text-align: left;background-color: #f0f8ff;}#sk-container-id-10 div.sk-toggleable__content pre {margin: 0.2em;color: black;border-radius: 0.25em;background-color: #f0f8ff;}#sk-container-id-10 input.sk-toggleable__control:checked~div.sk-toggleable__content {max-height: 200px;max-width: 100%;overflow: auto;}#sk-container-id-10 input.sk-toggleable__control:checked~label.sk-toggleable__label-arrow:before {content: \"▾\";}#sk-container-id-10 div.sk-estimator input.sk-toggleable__control:checked~label.sk-toggleable__label {background-color: #d4ebff;}#sk-container-id-10 div.sk-label input.sk-toggleable__control:checked~label.sk-toggleable__label {background-color: #d4ebff;}#sk-container-id-10 input.sk-hidden--visually {border: 0;clip: rect(1px 1px 1px 1px);clip: rect(1px, 1px, 1px, 1px);height: 1px;margin: -1px;overflow: hidden;padding: 0;position: absolute;width: 1px;}#sk-container-id-10 div.sk-estimator {font-family: monospace;background-color: #f0f8ff;border: 1px dotted black;border-radius: 0.25em;box-sizing: border-box;margin-bottom: 0.5em;}#sk-container-id-10 div.sk-estimator:hover {background-color: #d4ebff;}#sk-container-id-10 div.sk-parallel-item::after {content: \"\";width: 100%;border-bottom: 1px solid gray;flex-grow: 1;}#sk-container-id-10 div.sk-label:hover label.sk-toggleable__label {background-color: #d4ebff;}#sk-container-id-10 div.sk-serial::before {content: \"\";position: absolute;border-left: 1px solid gray;box-sizing: border-box;top: 0;bottom: 0;left: 50%;z-index: 0;}#sk-container-id-10 div.sk-serial {display: flex;flex-direction: column;align-items: center;background-color: white;padding-right: 0.2em;padding-left: 0.2em;position: relative;}#sk-container-id-10 div.sk-item {position: relative;z-index: 1;}#sk-container-id-10 div.sk-parallel {display: flex;align-items: stretch;justify-content: center;background-color: white;position: relative;}#sk-container-id-10 div.sk-item::before, #sk-container-id-10 div.sk-parallel-item::before {content: \"\";position: absolute;border-left: 1px solid gray;box-sizing: border-box;top: 0;bottom: 0;left: 50%;z-index: -1;}#sk-container-id-10 div.sk-parallel-item {display: flex;flex-direction: column;z-index: 1;position: relative;background-color: white;}#sk-container-id-10 div.sk-parallel-item:first-child::after {align-self: flex-end;width: 50%;}#sk-container-id-10 div.sk-parallel-item:last-child::after {align-self: flex-start;width: 50%;}#sk-container-id-10 div.sk-parallel-item:only-child::after {width: 0;}#sk-container-id-10 div.sk-dashed-wrapped {border: 1px dashed gray;margin: 0 0.4em 0.5em 0.4em;box-sizing: border-box;padding-bottom: 0.4em;background-color: white;}#sk-container-id-10 div.sk-label label {font-family: monospace;font-weight: bold;display: inline-block;line-height: 1.2em;}#sk-container-id-10 div.sk-label-container {text-align: center;}#sk-container-id-10 div.sk-container {/* jupyter's `normalize.less` sets `[hidden] { display: none; }` but bootstrap.min.css set `[hidden] { display: none !important; }` so we also need the `!important` here to be able to override the default hidden behavior on the sphinx rendered scikit-learn.org. See: https://github.com/scikit-learn/scikit-learn/issues/21755 */display: inline-block !important;position: relative;}#sk-container-id-10 div.sk-text-repr-fallback {display: none;}</style><div id=\"sk-container-id-10\" class=\"sk-top-container\"><div class=\"sk-text-repr-fallback\"><pre>LogisticRegression(random_state=0)</pre><b>In a Jupyter environment, please rerun this cell to show the HTML representation or trust the notebook. <br />On GitHub, the HTML representation is unable to render, please try loading this page with nbviewer.org.</b></div><div class=\"sk-container\" hidden><div class=\"sk-item\"><div class=\"sk-estimator sk-toggleable\"><input class=\"sk-toggleable__control sk-hidden--visually\" id=\"sk-estimator-id-10\" type=\"checkbox\" checked><label for=\"sk-estimator-id-10\" class=\"sk-toggleable__label sk-toggleable__label-arrow\">LogisticRegression</label><div class=\"sk-toggleable__content\"><pre>LogisticRegression(random_state=0)</pre></div></div></div></div></div>"
      ],
      "text/plain": [
       "LogisticRegression(random_state=0)"
      ]
     },
     "execution_count": 219,
     "metadata": {},
     "output_type": "execute_result"
    }
   ],
   "source": [
    "%%time\n",
    "logreg.fit(X_train_preprocessed, y_train);"
   ]
  },
  {
   "cell_type": "code",
   "execution_count": 220,
   "id": "f11f2105-1b54-42bf-bbf3-5149968a6cc4",
   "metadata": {
    "colab": {
     "base_uri": "https://localhost:8080/"
    },
    "id": "TwU_sjsouHq4",
    "outputId": "795b7551-fcba-4c81-b120-dacde071370f"
   },
   "outputs": [
    {
     "name": "stdout",
     "output_type": "stream",
     "text": [
      "Порог перевода вероятностей в классы: 0.5\n",
      "0.6683645332681568 - roc_auc на вероятностях\n",
      "\n",
      "0.50000000 - roc_auc\n",
      "0.97295000 - accuracy\n",
      "0.00000000 - precision\n",
      "0.00000000 - recall\n",
      "0.00000000 - f1\n",
      "\n",
      "prediction|   0.0    |   1.0    \n",
      "true label|          |          \n",
      "--------------------------------\n",
      "       0.0|    194590|         0\n",
      "       1.0|      5410|         0\n"
     ]
    }
   ],
   "source": [
    "print_metrics(logreg, X_valid_preprocessed, y_valid)"
   ]
  },
  {
   "cell_type": "markdown",
   "id": "9ddf2776-ac48-426d-b585-d189388af7da",
   "metadata": {
    "tags": []
   },
   "source": [
    "#### Метод опорных векторов"
   ]
  },
  {
   "cell_type": "code",
   "execution_count": 221,
   "id": "6cedeea3-d504-40d1-9add-14f05218d059",
   "metadata": {
    "id": "FIH3-eifJ3Ik"
   },
   "outputs": [],
   "source": [
    "svc = LinearSVC(class_weight='balanced')\n"
   ]
  },
  {
   "cell_type": "code",
   "execution_count": 222,
   "id": "19e43dd3-45f8-46ea-8f6c-a598ab268140",
   "metadata": {
    "colab": {
     "base_uri": "https://localhost:8080/"
    },
    "id": "rOSy-TIcJ3EE",
    "outputId": "a7249970-0541-43b1-fc57-4195235ab6f1"
   },
   "outputs": [
    {
     "name": "stdout",
     "output_type": "stream",
     "text": [
      "Wall time: 10min 29s\n"
     ]
    },
    {
     "data": {
      "text/html": [
       "<style>#sk-container-id-11 {color: black;background-color: white;}#sk-container-id-11 pre{padding: 0;}#sk-container-id-11 div.sk-toggleable {background-color: white;}#sk-container-id-11 label.sk-toggleable__label {cursor: pointer;display: block;width: 100%;margin-bottom: 0;padding: 0.3em;box-sizing: border-box;text-align: center;}#sk-container-id-11 label.sk-toggleable__label-arrow:before {content: \"▸\";float: left;margin-right: 0.25em;color: #696969;}#sk-container-id-11 label.sk-toggleable__label-arrow:hover:before {color: black;}#sk-container-id-11 div.sk-estimator:hover label.sk-toggleable__label-arrow:before {color: black;}#sk-container-id-11 div.sk-toggleable__content {max-height: 0;max-width: 0;overflow: hidden;text-align: left;background-color: #f0f8ff;}#sk-container-id-11 div.sk-toggleable__content pre {margin: 0.2em;color: black;border-radius: 0.25em;background-color: #f0f8ff;}#sk-container-id-11 input.sk-toggleable__control:checked~div.sk-toggleable__content {max-height: 200px;max-width: 100%;overflow: auto;}#sk-container-id-11 input.sk-toggleable__control:checked~label.sk-toggleable__label-arrow:before {content: \"▾\";}#sk-container-id-11 div.sk-estimator input.sk-toggleable__control:checked~label.sk-toggleable__label {background-color: #d4ebff;}#sk-container-id-11 div.sk-label input.sk-toggleable__control:checked~label.sk-toggleable__label {background-color: #d4ebff;}#sk-container-id-11 input.sk-hidden--visually {border: 0;clip: rect(1px 1px 1px 1px);clip: rect(1px, 1px, 1px, 1px);height: 1px;margin: -1px;overflow: hidden;padding: 0;position: absolute;width: 1px;}#sk-container-id-11 div.sk-estimator {font-family: monospace;background-color: #f0f8ff;border: 1px dotted black;border-radius: 0.25em;box-sizing: border-box;margin-bottom: 0.5em;}#sk-container-id-11 div.sk-estimator:hover {background-color: #d4ebff;}#sk-container-id-11 div.sk-parallel-item::after {content: \"\";width: 100%;border-bottom: 1px solid gray;flex-grow: 1;}#sk-container-id-11 div.sk-label:hover label.sk-toggleable__label {background-color: #d4ebff;}#sk-container-id-11 div.sk-serial::before {content: \"\";position: absolute;border-left: 1px solid gray;box-sizing: border-box;top: 0;bottom: 0;left: 50%;z-index: 0;}#sk-container-id-11 div.sk-serial {display: flex;flex-direction: column;align-items: center;background-color: white;padding-right: 0.2em;padding-left: 0.2em;position: relative;}#sk-container-id-11 div.sk-item {position: relative;z-index: 1;}#sk-container-id-11 div.sk-parallel {display: flex;align-items: stretch;justify-content: center;background-color: white;position: relative;}#sk-container-id-11 div.sk-item::before, #sk-container-id-11 div.sk-parallel-item::before {content: \"\";position: absolute;border-left: 1px solid gray;box-sizing: border-box;top: 0;bottom: 0;left: 50%;z-index: -1;}#sk-container-id-11 div.sk-parallel-item {display: flex;flex-direction: column;z-index: 1;position: relative;background-color: white;}#sk-container-id-11 div.sk-parallel-item:first-child::after {align-self: flex-end;width: 50%;}#sk-container-id-11 div.sk-parallel-item:last-child::after {align-self: flex-start;width: 50%;}#sk-container-id-11 div.sk-parallel-item:only-child::after {width: 0;}#sk-container-id-11 div.sk-dashed-wrapped {border: 1px dashed gray;margin: 0 0.4em 0.5em 0.4em;box-sizing: border-box;padding-bottom: 0.4em;background-color: white;}#sk-container-id-11 div.sk-label label {font-family: monospace;font-weight: bold;display: inline-block;line-height: 1.2em;}#sk-container-id-11 div.sk-label-container {text-align: center;}#sk-container-id-11 div.sk-container {/* jupyter's `normalize.less` sets `[hidden] { display: none; }` but bootstrap.min.css set `[hidden] { display: none !important; }` so we also need the `!important` here to be able to override the default hidden behavior on the sphinx rendered scikit-learn.org. See: https://github.com/scikit-learn/scikit-learn/issues/21755 */display: inline-block !important;position: relative;}#sk-container-id-11 div.sk-text-repr-fallback {display: none;}</style><div id=\"sk-container-id-11\" class=\"sk-top-container\"><div class=\"sk-text-repr-fallback\"><pre>LinearSVC(class_weight=&#x27;balanced&#x27;)</pre><b>In a Jupyter environment, please rerun this cell to show the HTML representation or trust the notebook. <br />On GitHub, the HTML representation is unable to render, please try loading this page with nbviewer.org.</b></div><div class=\"sk-container\" hidden><div class=\"sk-item\"><div class=\"sk-estimator sk-toggleable\"><input class=\"sk-toggleable__control sk-hidden--visually\" id=\"sk-estimator-id-11\" type=\"checkbox\" checked><label for=\"sk-estimator-id-11\" class=\"sk-toggleable__label sk-toggleable__label-arrow\">LinearSVC</label><div class=\"sk-toggleable__content\"><pre>LinearSVC(class_weight=&#x27;balanced&#x27;)</pre></div></div></div></div></div>"
      ],
      "text/plain": [
       "LinearSVC(class_weight='balanced')"
      ]
     },
     "execution_count": 222,
     "metadata": {},
     "output_type": "execute_result"
    }
   ],
   "source": [
    "%%time\n",
    "svc.fit(X_train_preprocessed, y_train);"
   ]
  },
  {
   "cell_type": "code",
   "execution_count": 223,
   "id": "bffcdb8e-1111-4ded-8f59-1bd183181c7f",
   "metadata": {
    "colab": {
     "base_uri": "https://localhost:8080/"
    },
    "id": "3MM_qupCKUuU",
    "outputId": "2ded8b17-c265-44fa-f036-03b86b7ec8b1"
   },
   "outputs": [
    {
     "name": "stdout",
     "output_type": "stream",
     "text": [
      "Порог перевода вероятностей в классы: не используется\n",
      "\n",
      "0.62056289 - roc_auc\n",
      "0.61588500 - accuracy\n",
      "0.04328417 - precision\n",
      "0.62550832 - recall\n",
      "0.08096565 - f1\n",
      "\n",
      "prediction|   0.0    |   1.0    \n",
      "true label|          |          \n",
      "--------------------------------\n",
      "       0.0|    119793|     74797\n",
      "       1.0|      2026|      3384\n"
     ]
    }
   ],
   "source": [
    "print_metrics(svc, X_valid_preprocessed, y_valid)"
   ]
  },
  {
   "cell_type": "markdown",
   "id": "9a2bbeb2-8fb6-4767-bc70-72c2b8390537",
   "metadata": {
    "id": "Z8jQU-SKCPXh",
    "tags": []
   },
   "source": [
    "#### Нейронная сеть"
   ]
  },
  {
   "cell_type": "code",
   "execution_count": 224,
   "id": "57380d52-ad8c-468f-92d5-4cb63f170c69",
   "metadata": {
    "id": "I1CuFrrmCOaX"
   },
   "outputs": [],
   "source": [
    "mlp = MLPClassifier((32,), random_state=RANDOM_SEED)"
   ]
  },
  {
   "cell_type": "code",
   "execution_count": 225,
   "id": "961e9bd4-a00d-44a3-a65b-77ebb3929fb9",
   "metadata": {
    "colab": {
     "base_uri": "https://localhost:8080/"
    },
    "id": "tGqKzgskCOa3",
    "outputId": "c2f3a0be-79f6-4d38-df54-7b8a473a3ff7"
   },
   "outputs": [
    {
     "name": "stdout",
     "output_type": "stream",
     "text": [
      "Wall time: 1min 9s\n"
     ]
    },
    {
     "data": {
      "text/html": [
       "<style>#sk-container-id-12 {color: black;background-color: white;}#sk-container-id-12 pre{padding: 0;}#sk-container-id-12 div.sk-toggleable {background-color: white;}#sk-container-id-12 label.sk-toggleable__label {cursor: pointer;display: block;width: 100%;margin-bottom: 0;padding: 0.3em;box-sizing: border-box;text-align: center;}#sk-container-id-12 label.sk-toggleable__label-arrow:before {content: \"▸\";float: left;margin-right: 0.25em;color: #696969;}#sk-container-id-12 label.sk-toggleable__label-arrow:hover:before {color: black;}#sk-container-id-12 div.sk-estimator:hover label.sk-toggleable__label-arrow:before {color: black;}#sk-container-id-12 div.sk-toggleable__content {max-height: 0;max-width: 0;overflow: hidden;text-align: left;background-color: #f0f8ff;}#sk-container-id-12 div.sk-toggleable__content pre {margin: 0.2em;color: black;border-radius: 0.25em;background-color: #f0f8ff;}#sk-container-id-12 input.sk-toggleable__control:checked~div.sk-toggleable__content {max-height: 200px;max-width: 100%;overflow: auto;}#sk-container-id-12 input.sk-toggleable__control:checked~label.sk-toggleable__label-arrow:before {content: \"▾\";}#sk-container-id-12 div.sk-estimator input.sk-toggleable__control:checked~label.sk-toggleable__label {background-color: #d4ebff;}#sk-container-id-12 div.sk-label input.sk-toggleable__control:checked~label.sk-toggleable__label {background-color: #d4ebff;}#sk-container-id-12 input.sk-hidden--visually {border: 0;clip: rect(1px 1px 1px 1px);clip: rect(1px, 1px, 1px, 1px);height: 1px;margin: -1px;overflow: hidden;padding: 0;position: absolute;width: 1px;}#sk-container-id-12 div.sk-estimator {font-family: monospace;background-color: #f0f8ff;border: 1px dotted black;border-radius: 0.25em;box-sizing: border-box;margin-bottom: 0.5em;}#sk-container-id-12 div.sk-estimator:hover {background-color: #d4ebff;}#sk-container-id-12 div.sk-parallel-item::after {content: \"\";width: 100%;border-bottom: 1px solid gray;flex-grow: 1;}#sk-container-id-12 div.sk-label:hover label.sk-toggleable__label {background-color: #d4ebff;}#sk-container-id-12 div.sk-serial::before {content: \"\";position: absolute;border-left: 1px solid gray;box-sizing: border-box;top: 0;bottom: 0;left: 50%;z-index: 0;}#sk-container-id-12 div.sk-serial {display: flex;flex-direction: column;align-items: center;background-color: white;padding-right: 0.2em;padding-left: 0.2em;position: relative;}#sk-container-id-12 div.sk-item {position: relative;z-index: 1;}#sk-container-id-12 div.sk-parallel {display: flex;align-items: stretch;justify-content: center;background-color: white;position: relative;}#sk-container-id-12 div.sk-item::before, #sk-container-id-12 div.sk-parallel-item::before {content: \"\";position: absolute;border-left: 1px solid gray;box-sizing: border-box;top: 0;bottom: 0;left: 50%;z-index: -1;}#sk-container-id-12 div.sk-parallel-item {display: flex;flex-direction: column;z-index: 1;position: relative;background-color: white;}#sk-container-id-12 div.sk-parallel-item:first-child::after {align-self: flex-end;width: 50%;}#sk-container-id-12 div.sk-parallel-item:last-child::after {align-self: flex-start;width: 50%;}#sk-container-id-12 div.sk-parallel-item:only-child::after {width: 0;}#sk-container-id-12 div.sk-dashed-wrapped {border: 1px dashed gray;margin: 0 0.4em 0.5em 0.4em;box-sizing: border-box;padding-bottom: 0.4em;background-color: white;}#sk-container-id-12 div.sk-label label {font-family: monospace;font-weight: bold;display: inline-block;line-height: 1.2em;}#sk-container-id-12 div.sk-label-container {text-align: center;}#sk-container-id-12 div.sk-container {/* jupyter's `normalize.less` sets `[hidden] { display: none; }` but bootstrap.min.css set `[hidden] { display: none !important; }` so we also need the `!important` here to be able to override the default hidden behavior on the sphinx rendered scikit-learn.org. See: https://github.com/scikit-learn/scikit-learn/issues/21755 */display: inline-block !important;position: relative;}#sk-container-id-12 div.sk-text-repr-fallback {display: none;}</style><div id=\"sk-container-id-12\" class=\"sk-top-container\"><div class=\"sk-text-repr-fallback\"><pre>MLPClassifier(hidden_layer_sizes=(32,), random_state=0)</pre><b>In a Jupyter environment, please rerun this cell to show the HTML representation or trust the notebook. <br />On GitHub, the HTML representation is unable to render, please try loading this page with nbviewer.org.</b></div><div class=\"sk-container\" hidden><div class=\"sk-item\"><div class=\"sk-estimator sk-toggleable\"><input class=\"sk-toggleable__control sk-hidden--visually\" id=\"sk-estimator-id-12\" type=\"checkbox\" checked><label for=\"sk-estimator-id-12\" class=\"sk-toggleable__label sk-toggleable__label-arrow\">MLPClassifier</label><div class=\"sk-toggleable__content\"><pre>MLPClassifier(hidden_layer_sizes=(32,), random_state=0)</pre></div></div></div></div></div>"
      ],
      "text/plain": [
       "MLPClassifier(hidden_layer_sizes=(32,), random_state=0)"
      ]
     },
     "execution_count": 225,
     "metadata": {},
     "output_type": "execute_result"
    }
   ],
   "source": [
    "%%time\n",
    "mlp.fit(X_train_preprocessed, y_train);"
   ]
  },
  {
   "cell_type": "code",
   "execution_count": 226,
   "id": "046583f3-cd6d-41c5-802c-75110c83813f",
   "metadata": {
    "colab": {
     "base_uri": "https://localhost:8080/"
    },
    "id": "GWrCizlgCOa4",
    "outputId": "1f9249a7-7436-4fb1-b1d8-b9419b75e01c"
   },
   "outputs": [
    {
     "name": "stdout",
     "output_type": "stream",
     "text": [
      "Порог перевода вероятностей в классы: 0.5\n",
      "0.6983782119645087 - roc_auc на вероятностях\n",
      "\n",
      "0.50000000 - roc_auc\n",
      "0.97295000 - accuracy\n",
      "0.00000000 - precision\n",
      "0.00000000 - recall\n",
      "0.00000000 - f1\n",
      "\n",
      "prediction|   0.0    |   1.0    \n",
      "true label|          |          \n",
      "--------------------------------\n",
      "       0.0|    194590|         0\n",
      "       1.0|      5410|         0\n"
     ]
    }
   ],
   "source": [
    "print_metrics(mlp, X_valid_preprocessed, y_valid)"
   ]
  },
  {
   "cell_type": "code",
   "execution_count": 227,
   "id": "14c63583-7100-411d-92af-82485c489bf3",
   "metadata": {},
   "outputs": [
    {
     "name": "stdout",
     "output_type": "stream",
     "text": [
      "|████████████████████████████████████████| 1000/1000 [100%] in 15.6s (64.18/s) \n",
      "|██████████████████████████▋⚠︎            | (!) 1000/1500 [67%] in 15.6s (64.11/s) \n",
      "|████████████████████████████████████████✗︎ (!) 1000/700 [143%] in 15.6s (64.10/s) \n",
      "|████████████████████████████████████████| 1000 in 15.6s (64.16/s) \n"
     ]
    }
   ],
   "source": [
    "from alive_progress import alive_bar\n",
    "import time\n",
    "\n",
    "for x in 1000, 1500, 700, 0:\n",
    "   with alive_bar(x) as bar:\n",
    "       for i in range(1000):\n",
    "           time.sleep(.005)\n",
    "           bar()"
   ]
  },
  {
   "cell_type": "markdown",
   "id": "1ec88c51-8404-42b0-84c2-0f71cbe6b444",
   "metadata": {
    "id": "fnB04lZh17ub",
    "tags": []
   },
   "source": [
    "#### Байесовский классификатор"
   ]
  },
  {
   "cell_type": "code",
   "execution_count": 228,
   "id": "7524b120-2f7a-4af6-85e2-5b00297c7804",
   "metadata": {
    "id": "05T2TlUWBxHN"
   },
   "outputs": [],
   "source": [
    "gaussnb = GaussianNB()"
   ]
  },
  {
   "cell_type": "code",
   "execution_count": 229,
   "id": "4cb0ee68-4e5f-41d9-bac5-3c79d6d24101",
   "metadata": {
    "colab": {
     "base_uri": "https://localhost:8080/"
    },
    "id": "-Xr1YU0v2FZq",
    "outputId": "e6c868b1-c9ea-4efa-fff6-1ad66baccdad"
   },
   "outputs": [
    {
     "name": "stdout",
     "output_type": "stream",
     "text": [
      "Wall time: 1.33 s\n"
     ]
    },
    {
     "data": {
      "text/html": [
       "<style>#sk-container-id-13 {color: black;background-color: white;}#sk-container-id-13 pre{padding: 0;}#sk-container-id-13 div.sk-toggleable {background-color: white;}#sk-container-id-13 label.sk-toggleable__label {cursor: pointer;display: block;width: 100%;margin-bottom: 0;padding: 0.3em;box-sizing: border-box;text-align: center;}#sk-container-id-13 label.sk-toggleable__label-arrow:before {content: \"▸\";float: left;margin-right: 0.25em;color: #696969;}#sk-container-id-13 label.sk-toggleable__label-arrow:hover:before {color: black;}#sk-container-id-13 div.sk-estimator:hover label.sk-toggleable__label-arrow:before {color: black;}#sk-container-id-13 div.sk-toggleable__content {max-height: 0;max-width: 0;overflow: hidden;text-align: left;background-color: #f0f8ff;}#sk-container-id-13 div.sk-toggleable__content pre {margin: 0.2em;color: black;border-radius: 0.25em;background-color: #f0f8ff;}#sk-container-id-13 input.sk-toggleable__control:checked~div.sk-toggleable__content {max-height: 200px;max-width: 100%;overflow: auto;}#sk-container-id-13 input.sk-toggleable__control:checked~label.sk-toggleable__label-arrow:before {content: \"▾\";}#sk-container-id-13 div.sk-estimator input.sk-toggleable__control:checked~label.sk-toggleable__label {background-color: #d4ebff;}#sk-container-id-13 div.sk-label input.sk-toggleable__control:checked~label.sk-toggleable__label {background-color: #d4ebff;}#sk-container-id-13 input.sk-hidden--visually {border: 0;clip: rect(1px 1px 1px 1px);clip: rect(1px, 1px, 1px, 1px);height: 1px;margin: -1px;overflow: hidden;padding: 0;position: absolute;width: 1px;}#sk-container-id-13 div.sk-estimator {font-family: monospace;background-color: #f0f8ff;border: 1px dotted black;border-radius: 0.25em;box-sizing: border-box;margin-bottom: 0.5em;}#sk-container-id-13 div.sk-estimator:hover {background-color: #d4ebff;}#sk-container-id-13 div.sk-parallel-item::after {content: \"\";width: 100%;border-bottom: 1px solid gray;flex-grow: 1;}#sk-container-id-13 div.sk-label:hover label.sk-toggleable__label {background-color: #d4ebff;}#sk-container-id-13 div.sk-serial::before {content: \"\";position: absolute;border-left: 1px solid gray;box-sizing: border-box;top: 0;bottom: 0;left: 50%;z-index: 0;}#sk-container-id-13 div.sk-serial {display: flex;flex-direction: column;align-items: center;background-color: white;padding-right: 0.2em;padding-left: 0.2em;position: relative;}#sk-container-id-13 div.sk-item {position: relative;z-index: 1;}#sk-container-id-13 div.sk-parallel {display: flex;align-items: stretch;justify-content: center;background-color: white;position: relative;}#sk-container-id-13 div.sk-item::before, #sk-container-id-13 div.sk-parallel-item::before {content: \"\";position: absolute;border-left: 1px solid gray;box-sizing: border-box;top: 0;bottom: 0;left: 50%;z-index: -1;}#sk-container-id-13 div.sk-parallel-item {display: flex;flex-direction: column;z-index: 1;position: relative;background-color: white;}#sk-container-id-13 div.sk-parallel-item:first-child::after {align-self: flex-end;width: 50%;}#sk-container-id-13 div.sk-parallel-item:last-child::after {align-self: flex-start;width: 50%;}#sk-container-id-13 div.sk-parallel-item:only-child::after {width: 0;}#sk-container-id-13 div.sk-dashed-wrapped {border: 1px dashed gray;margin: 0 0.4em 0.5em 0.4em;box-sizing: border-box;padding-bottom: 0.4em;background-color: white;}#sk-container-id-13 div.sk-label label {font-family: monospace;font-weight: bold;display: inline-block;line-height: 1.2em;}#sk-container-id-13 div.sk-label-container {text-align: center;}#sk-container-id-13 div.sk-container {/* jupyter's `normalize.less` sets `[hidden] { display: none; }` but bootstrap.min.css set `[hidden] { display: none !important; }` so we also need the `!important` here to be able to override the default hidden behavior on the sphinx rendered scikit-learn.org. See: https://github.com/scikit-learn/scikit-learn/issues/21755 */display: inline-block !important;position: relative;}#sk-container-id-13 div.sk-text-repr-fallback {display: none;}</style><div id=\"sk-container-id-13\" class=\"sk-top-container\"><div class=\"sk-text-repr-fallback\"><pre>GaussianNB()</pre><b>In a Jupyter environment, please rerun this cell to show the HTML representation or trust the notebook. <br />On GitHub, the HTML representation is unable to render, please try loading this page with nbviewer.org.</b></div><div class=\"sk-container\" hidden><div class=\"sk-item\"><div class=\"sk-estimator sk-toggleable\"><input class=\"sk-toggleable__control sk-hidden--visually\" id=\"sk-estimator-id-13\" type=\"checkbox\" checked><label for=\"sk-estimator-id-13\" class=\"sk-toggleable__label sk-toggleable__label-arrow\">GaussianNB</label><div class=\"sk-toggleable__content\"><pre>GaussianNB()</pre></div></div></div></div></div>"
      ],
      "text/plain": [
       "GaussianNB()"
      ]
     },
     "execution_count": 229,
     "metadata": {},
     "output_type": "execute_result"
    }
   ],
   "source": [
    "%%time\n",
    "gaussnb.fit(X_train_preprocessed, y_train);"
   ]
  },
  {
   "cell_type": "code",
   "execution_count": 230,
   "id": "ffb10ca1-b31f-4baf-a4b6-485d57ad4616",
   "metadata": {
    "colab": {
     "base_uri": "https://localhost:8080/"
    },
    "id": "mTmSxITR2FTk",
    "outputId": "28dc1f86-e74e-4028-e073-e908cd710fb0"
   },
   "outputs": [
    {
     "name": "stdout",
     "output_type": "stream",
     "text": [
      "Порог перевода вероятностей в классы: 0.05419511287276451\n",
      "0.6458839691283222 - roc_auc на вероятностях\n",
      "\n",
      "0.60928251 - roc_auc\n",
      "0.56001500 - accuracy\n",
      "0.03986940 - precision\n",
      "0.66136784 - recall\n",
      "0.07520520 - f1\n",
      "\n",
      "prediction|   0.0    |   1.0    \n",
      "true label|          |          \n",
      "--------------------------------\n",
      "       0.0|    108425|     86165\n",
      "       1.0|      1832|      3578\n"
     ]
    }
   ],
   "source": [
    "print_metrics(gaussnb, X_valid_preprocessed, y_valid)"
   ]
  },
  {
   "cell_type": "markdown",
   "id": "c1179cbb-b70d-4003-ac4a-00ccd52ec4d8",
   "metadata": {
    "id": "BIZBspdkNsSP",
    "tags": []
   },
   "source": [
    "#### Дерево решений"
   ]
  },
  {
   "cell_type": "code",
   "execution_count": 231,
   "id": "251b2b49-172e-4461-9581-0287324a6276",
   "metadata": {
    "id": "UOlsEARaNr98"
   },
   "outputs": [],
   "source": [
    "tree = DecisionTreeClassifier(random_state=RANDOM_SEED)"
   ]
  },
  {
   "cell_type": "code",
   "execution_count": 232,
   "id": "0df5f1de-98f9-4c99-8cf2-4be90ba31e4d",
   "metadata": {
    "colab": {
     "base_uri": "https://localhost:8080/"
    },
    "id": "2IUaLZBcN2hL",
    "outputId": "e90c5abb-65d5-48f3-f9eb-530da4ecc911"
   },
   "outputs": [
    {
     "name": "stdout",
     "output_type": "stream",
     "text": [
      "Wall time: 26.7 s\n"
     ]
    },
    {
     "data": {
      "text/html": [
       "<style>#sk-container-id-14 {color: black;background-color: white;}#sk-container-id-14 pre{padding: 0;}#sk-container-id-14 div.sk-toggleable {background-color: white;}#sk-container-id-14 label.sk-toggleable__label {cursor: pointer;display: block;width: 100%;margin-bottom: 0;padding: 0.3em;box-sizing: border-box;text-align: center;}#sk-container-id-14 label.sk-toggleable__label-arrow:before {content: \"▸\";float: left;margin-right: 0.25em;color: #696969;}#sk-container-id-14 label.sk-toggleable__label-arrow:hover:before {color: black;}#sk-container-id-14 div.sk-estimator:hover label.sk-toggleable__label-arrow:before {color: black;}#sk-container-id-14 div.sk-toggleable__content {max-height: 0;max-width: 0;overflow: hidden;text-align: left;background-color: #f0f8ff;}#sk-container-id-14 div.sk-toggleable__content pre {margin: 0.2em;color: black;border-radius: 0.25em;background-color: #f0f8ff;}#sk-container-id-14 input.sk-toggleable__control:checked~div.sk-toggleable__content {max-height: 200px;max-width: 100%;overflow: auto;}#sk-container-id-14 input.sk-toggleable__control:checked~label.sk-toggleable__label-arrow:before {content: \"▾\";}#sk-container-id-14 div.sk-estimator input.sk-toggleable__control:checked~label.sk-toggleable__label {background-color: #d4ebff;}#sk-container-id-14 div.sk-label input.sk-toggleable__control:checked~label.sk-toggleable__label {background-color: #d4ebff;}#sk-container-id-14 input.sk-hidden--visually {border: 0;clip: rect(1px 1px 1px 1px);clip: rect(1px, 1px, 1px, 1px);height: 1px;margin: -1px;overflow: hidden;padding: 0;position: absolute;width: 1px;}#sk-container-id-14 div.sk-estimator {font-family: monospace;background-color: #f0f8ff;border: 1px dotted black;border-radius: 0.25em;box-sizing: border-box;margin-bottom: 0.5em;}#sk-container-id-14 div.sk-estimator:hover {background-color: #d4ebff;}#sk-container-id-14 div.sk-parallel-item::after {content: \"\";width: 100%;border-bottom: 1px solid gray;flex-grow: 1;}#sk-container-id-14 div.sk-label:hover label.sk-toggleable__label {background-color: #d4ebff;}#sk-container-id-14 div.sk-serial::before {content: \"\";position: absolute;border-left: 1px solid gray;box-sizing: border-box;top: 0;bottom: 0;left: 50%;z-index: 0;}#sk-container-id-14 div.sk-serial {display: flex;flex-direction: column;align-items: center;background-color: white;padding-right: 0.2em;padding-left: 0.2em;position: relative;}#sk-container-id-14 div.sk-item {position: relative;z-index: 1;}#sk-container-id-14 div.sk-parallel {display: flex;align-items: stretch;justify-content: center;background-color: white;position: relative;}#sk-container-id-14 div.sk-item::before, #sk-container-id-14 div.sk-parallel-item::before {content: \"\";position: absolute;border-left: 1px solid gray;box-sizing: border-box;top: 0;bottom: 0;left: 50%;z-index: -1;}#sk-container-id-14 div.sk-parallel-item {display: flex;flex-direction: column;z-index: 1;position: relative;background-color: white;}#sk-container-id-14 div.sk-parallel-item:first-child::after {align-self: flex-end;width: 50%;}#sk-container-id-14 div.sk-parallel-item:last-child::after {align-self: flex-start;width: 50%;}#sk-container-id-14 div.sk-parallel-item:only-child::after {width: 0;}#sk-container-id-14 div.sk-dashed-wrapped {border: 1px dashed gray;margin: 0 0.4em 0.5em 0.4em;box-sizing: border-box;padding-bottom: 0.4em;background-color: white;}#sk-container-id-14 div.sk-label label {font-family: monospace;font-weight: bold;display: inline-block;line-height: 1.2em;}#sk-container-id-14 div.sk-label-container {text-align: center;}#sk-container-id-14 div.sk-container {/* jupyter's `normalize.less` sets `[hidden] { display: none; }` but bootstrap.min.css set `[hidden] { display: none !important; }` so we also need the `!important` here to be able to override the default hidden behavior on the sphinx rendered scikit-learn.org. See: https://github.com/scikit-learn/scikit-learn/issues/21755 */display: inline-block !important;position: relative;}#sk-container-id-14 div.sk-text-repr-fallback {display: none;}</style><div id=\"sk-container-id-14\" class=\"sk-top-container\"><div class=\"sk-text-repr-fallback\"><pre>DecisionTreeClassifier(random_state=0)</pre><b>In a Jupyter environment, please rerun this cell to show the HTML representation or trust the notebook. <br />On GitHub, the HTML representation is unable to render, please try loading this page with nbviewer.org.</b></div><div class=\"sk-container\" hidden><div class=\"sk-item\"><div class=\"sk-estimator sk-toggleable\"><input class=\"sk-toggleable__control sk-hidden--visually\" id=\"sk-estimator-id-14\" type=\"checkbox\" checked><label for=\"sk-estimator-id-14\" class=\"sk-toggleable__label sk-toggleable__label-arrow\">DecisionTreeClassifier</label><div class=\"sk-toggleable__content\"><pre>DecisionTreeClassifier(random_state=0)</pre></div></div></div></div></div>"
      ],
      "text/plain": [
       "DecisionTreeClassifier(random_state=0)"
      ]
     },
     "execution_count": 232,
     "metadata": {},
     "output_type": "execute_result"
    }
   ],
   "source": [
    "%%time\n",
    "tree.fit(X_train_preprocessed, y_train);"
   ]
  },
  {
   "cell_type": "code",
   "execution_count": 233,
   "id": "443b2bb2-09d1-49b9-a08c-6d00583502f0",
   "metadata": {
    "colab": {
     "base_uri": "https://localhost:8080/"
    },
    "id": "er40gzjIN2dV",
    "outputId": "cfe7c571-0b7c-4122-8b3e-ef2d20fdab55"
   },
   "outputs": [
    {
     "name": "stdout",
     "output_type": "stream",
     "text": [
      "Порог перевода вероятностей в классы: 0.033708156968674276\n",
      "0.5204877305418407 - roc_auc на вероятностях\n",
      "\n",
      "0.52080171 - roc_auc\n",
      "0.93335000 - accuracy\n",
      "0.05183341 - precision\n",
      "0.08465804 - recall\n",
      "0.06429875 - f1\n",
      "\n",
      "prediction|   0.0    |   1.0    \n",
      "true label|          |          \n",
      "--------------------------------\n",
      "       0.0|    186212|      8378\n",
      "       1.0|      4952|       458\n"
     ]
    }
   ],
   "source": [
    "print_metrics(tree, X_valid_preprocessed, y_valid)"
   ]
  },
  {
   "cell_type": "markdown",
   "id": "19ee19af-db67-4d9d-a245-d5c95c164796",
   "metadata": {
    "id": "ND_qC0SnPczC",
    "tags": []
   },
   "source": [
    "#### Случайный лес"
   ]
  },
  {
   "cell_type": "code",
   "execution_count": 234,
   "id": "965d6c4e-357d-4127-9cf5-715e945dba21",
   "metadata": {
    "id": "Ohu0p_RCPgUd"
   },
   "outputs": [],
   "source": [
    "forest = RandomForestClassifier(random_state=RANDOM_SEED)"
   ]
  },
  {
   "cell_type": "code",
   "execution_count": 235,
   "id": "000a8a8e-26dc-465b-8c43-7f3c1b7a94e3",
   "metadata": {
    "colab": {
     "base_uri": "https://localhost:8080/"
    },
    "id": "X_NwrOzUPgQT",
    "outputId": "79c8b478-f712-4133-de0a-f52b5de26bf2"
   },
   "outputs": [
    {
     "name": "stdout",
     "output_type": "stream",
     "text": [
      "Wall time: 7min 3s\n"
     ]
    },
    {
     "data": {
      "text/html": [
       "<style>#sk-container-id-15 {color: black;background-color: white;}#sk-container-id-15 pre{padding: 0;}#sk-container-id-15 div.sk-toggleable {background-color: white;}#sk-container-id-15 label.sk-toggleable__label {cursor: pointer;display: block;width: 100%;margin-bottom: 0;padding: 0.3em;box-sizing: border-box;text-align: center;}#sk-container-id-15 label.sk-toggleable__label-arrow:before {content: \"▸\";float: left;margin-right: 0.25em;color: #696969;}#sk-container-id-15 label.sk-toggleable__label-arrow:hover:before {color: black;}#sk-container-id-15 div.sk-estimator:hover label.sk-toggleable__label-arrow:before {color: black;}#sk-container-id-15 div.sk-toggleable__content {max-height: 0;max-width: 0;overflow: hidden;text-align: left;background-color: #f0f8ff;}#sk-container-id-15 div.sk-toggleable__content pre {margin: 0.2em;color: black;border-radius: 0.25em;background-color: #f0f8ff;}#sk-container-id-15 input.sk-toggleable__control:checked~div.sk-toggleable__content {max-height: 200px;max-width: 100%;overflow: auto;}#sk-container-id-15 input.sk-toggleable__control:checked~label.sk-toggleable__label-arrow:before {content: \"▾\";}#sk-container-id-15 div.sk-estimator input.sk-toggleable__control:checked~label.sk-toggleable__label {background-color: #d4ebff;}#sk-container-id-15 div.sk-label input.sk-toggleable__control:checked~label.sk-toggleable__label {background-color: #d4ebff;}#sk-container-id-15 input.sk-hidden--visually {border: 0;clip: rect(1px 1px 1px 1px);clip: rect(1px, 1px, 1px, 1px);height: 1px;margin: -1px;overflow: hidden;padding: 0;position: absolute;width: 1px;}#sk-container-id-15 div.sk-estimator {font-family: monospace;background-color: #f0f8ff;border: 1px dotted black;border-radius: 0.25em;box-sizing: border-box;margin-bottom: 0.5em;}#sk-container-id-15 div.sk-estimator:hover {background-color: #d4ebff;}#sk-container-id-15 div.sk-parallel-item::after {content: \"\";width: 100%;border-bottom: 1px solid gray;flex-grow: 1;}#sk-container-id-15 div.sk-label:hover label.sk-toggleable__label {background-color: #d4ebff;}#sk-container-id-15 div.sk-serial::before {content: \"\";position: absolute;border-left: 1px solid gray;box-sizing: border-box;top: 0;bottom: 0;left: 50%;z-index: 0;}#sk-container-id-15 div.sk-serial {display: flex;flex-direction: column;align-items: center;background-color: white;padding-right: 0.2em;padding-left: 0.2em;position: relative;}#sk-container-id-15 div.sk-item {position: relative;z-index: 1;}#sk-container-id-15 div.sk-parallel {display: flex;align-items: stretch;justify-content: center;background-color: white;position: relative;}#sk-container-id-15 div.sk-item::before, #sk-container-id-15 div.sk-parallel-item::before {content: \"\";position: absolute;border-left: 1px solid gray;box-sizing: border-box;top: 0;bottom: 0;left: 50%;z-index: -1;}#sk-container-id-15 div.sk-parallel-item {display: flex;flex-direction: column;z-index: 1;position: relative;background-color: white;}#sk-container-id-15 div.sk-parallel-item:first-child::after {align-self: flex-end;width: 50%;}#sk-container-id-15 div.sk-parallel-item:last-child::after {align-self: flex-start;width: 50%;}#sk-container-id-15 div.sk-parallel-item:only-child::after {width: 0;}#sk-container-id-15 div.sk-dashed-wrapped {border: 1px dashed gray;margin: 0 0.4em 0.5em 0.4em;box-sizing: border-box;padding-bottom: 0.4em;background-color: white;}#sk-container-id-15 div.sk-label label {font-family: monospace;font-weight: bold;display: inline-block;line-height: 1.2em;}#sk-container-id-15 div.sk-label-container {text-align: center;}#sk-container-id-15 div.sk-container {/* jupyter's `normalize.less` sets `[hidden] { display: none; }` but bootstrap.min.css set `[hidden] { display: none !important; }` so we also need the `!important` here to be able to override the default hidden behavior on the sphinx rendered scikit-learn.org. See: https://github.com/scikit-learn/scikit-learn/issues/21755 */display: inline-block !important;position: relative;}#sk-container-id-15 div.sk-text-repr-fallback {display: none;}</style><div id=\"sk-container-id-15\" class=\"sk-top-container\"><div class=\"sk-text-repr-fallback\"><pre>RandomForestClassifier(random_state=0)</pre><b>In a Jupyter environment, please rerun this cell to show the HTML representation or trust the notebook. <br />On GitHub, the HTML representation is unable to render, please try loading this page with nbviewer.org.</b></div><div class=\"sk-container\" hidden><div class=\"sk-item\"><div class=\"sk-estimator sk-toggleable\"><input class=\"sk-toggleable__control sk-hidden--visually\" id=\"sk-estimator-id-15\" type=\"checkbox\" checked><label for=\"sk-estimator-id-15\" class=\"sk-toggleable__label sk-toggleable__label-arrow\">RandomForestClassifier</label><div class=\"sk-toggleable__content\"><pre>RandomForestClassifier(random_state=0)</pre></div></div></div></div></div>"
      ],
      "text/plain": [
       "RandomForestClassifier(random_state=0)"
      ]
     },
     "execution_count": 235,
     "metadata": {},
     "output_type": "execute_result"
    }
   ],
   "source": [
    "%%time\n",
    "forest.fit(X_train_preprocessed, y_train);"
   ]
  },
  {
   "cell_type": "code",
   "execution_count": 236,
   "id": "abb3a780-67a3-4a2a-8f9c-98668575ecbc",
   "metadata": {
    "colab": {
     "base_uri": "https://localhost:8080/"
    },
    "id": "MbvfSLq2PdKb",
    "outputId": "089b21ed-6c37-4138-c6a4-fd6583be1973"
   },
   "outputs": [
    {
     "name": "stdout",
     "output_type": "stream",
     "text": [
      "Порог перевода вероятностей в классы: 0.010218123817113232\n",
      "0.6253519433580381 - roc_auc на вероятностях\n",
      "\n",
      "0.59594638 - roc_auc\n",
      "0.59998000 - accuracy\n",
      "0.03952047 - precision\n",
      "0.59168207 - recall\n",
      "0.07409208 - f1\n",
      "\n",
      "prediction|   0.0    |   1.0    \n",
      "true label|          |          \n",
      "--------------------------------\n",
      "       0.0|    116795|     77795\n",
      "       1.0|      2209|      3201\n"
     ]
    }
   ],
   "source": [
    "print_metrics(forest, X_valid_preprocessed, y_valid)"
   ]
  },
  {
   "cell_type": "markdown",
   "id": "c476bdf2-44e1-4e4b-b8bb-ae0af1a1ae74",
   "metadata": {
    "id": "SJFfsUFc3B5b",
    "jp-MarkdownHeadingCollapsed": true,
    "tags": []
   },
   "source": [
    "#### Градиентный Бустинг"
   ]
  },
  {
   "cell_type": "code",
   "execution_count": 237,
   "id": "7e7eec1d-ae20-4bf7-a617-0eafcc60dccb",
   "metadata": {
    "id": "A12fP4saB4-e"
   },
   "outputs": [],
   "source": [
    "histboost = HistGradientBoostingClassifier(random_state=RANDOM_SEED)"
   ]
  },
  {
   "cell_type": "code",
   "execution_count": 238,
   "id": "e1b82446-be9f-4c75-9fc7-89264c8a58b2",
   "metadata": {
    "colab": {
     "base_uri": "https://localhost:8080/"
    },
    "id": "vc9PzIjHDXVm",
    "outputId": "b6c4752e-a560-4ab0-cb1b-b8872be3796e"
   },
   "outputs": [
    {
     "name": "stdout",
     "output_type": "stream",
     "text": [
      "Wall time: 15.6 s\n"
     ]
    },
    {
     "data": {
      "text/html": [
       "<style>#sk-container-id-16 {color: black;background-color: white;}#sk-container-id-16 pre{padding: 0;}#sk-container-id-16 div.sk-toggleable {background-color: white;}#sk-container-id-16 label.sk-toggleable__label {cursor: pointer;display: block;width: 100%;margin-bottom: 0;padding: 0.3em;box-sizing: border-box;text-align: center;}#sk-container-id-16 label.sk-toggleable__label-arrow:before {content: \"▸\";float: left;margin-right: 0.25em;color: #696969;}#sk-container-id-16 label.sk-toggleable__label-arrow:hover:before {color: black;}#sk-container-id-16 div.sk-estimator:hover label.sk-toggleable__label-arrow:before {color: black;}#sk-container-id-16 div.sk-toggleable__content {max-height: 0;max-width: 0;overflow: hidden;text-align: left;background-color: #f0f8ff;}#sk-container-id-16 div.sk-toggleable__content pre {margin: 0.2em;color: black;border-radius: 0.25em;background-color: #f0f8ff;}#sk-container-id-16 input.sk-toggleable__control:checked~div.sk-toggleable__content {max-height: 200px;max-width: 100%;overflow: auto;}#sk-container-id-16 input.sk-toggleable__control:checked~label.sk-toggleable__label-arrow:before {content: \"▾\";}#sk-container-id-16 div.sk-estimator input.sk-toggleable__control:checked~label.sk-toggleable__label {background-color: #d4ebff;}#sk-container-id-16 div.sk-label input.sk-toggleable__control:checked~label.sk-toggleable__label {background-color: #d4ebff;}#sk-container-id-16 input.sk-hidden--visually {border: 0;clip: rect(1px 1px 1px 1px);clip: rect(1px, 1px, 1px, 1px);height: 1px;margin: -1px;overflow: hidden;padding: 0;position: absolute;width: 1px;}#sk-container-id-16 div.sk-estimator {font-family: monospace;background-color: #f0f8ff;border: 1px dotted black;border-radius: 0.25em;box-sizing: border-box;margin-bottom: 0.5em;}#sk-container-id-16 div.sk-estimator:hover {background-color: #d4ebff;}#sk-container-id-16 div.sk-parallel-item::after {content: \"\";width: 100%;border-bottom: 1px solid gray;flex-grow: 1;}#sk-container-id-16 div.sk-label:hover label.sk-toggleable__label {background-color: #d4ebff;}#sk-container-id-16 div.sk-serial::before {content: \"\";position: absolute;border-left: 1px solid gray;box-sizing: border-box;top: 0;bottom: 0;left: 50%;z-index: 0;}#sk-container-id-16 div.sk-serial {display: flex;flex-direction: column;align-items: center;background-color: white;padding-right: 0.2em;padding-left: 0.2em;position: relative;}#sk-container-id-16 div.sk-item {position: relative;z-index: 1;}#sk-container-id-16 div.sk-parallel {display: flex;align-items: stretch;justify-content: center;background-color: white;position: relative;}#sk-container-id-16 div.sk-item::before, #sk-container-id-16 div.sk-parallel-item::before {content: \"\";position: absolute;border-left: 1px solid gray;box-sizing: border-box;top: 0;bottom: 0;left: 50%;z-index: -1;}#sk-container-id-16 div.sk-parallel-item {display: flex;flex-direction: column;z-index: 1;position: relative;background-color: white;}#sk-container-id-16 div.sk-parallel-item:first-child::after {align-self: flex-end;width: 50%;}#sk-container-id-16 div.sk-parallel-item:last-child::after {align-self: flex-start;width: 50%;}#sk-container-id-16 div.sk-parallel-item:only-child::after {width: 0;}#sk-container-id-16 div.sk-dashed-wrapped {border: 1px dashed gray;margin: 0 0.4em 0.5em 0.4em;box-sizing: border-box;padding-bottom: 0.4em;background-color: white;}#sk-container-id-16 div.sk-label label {font-family: monospace;font-weight: bold;display: inline-block;line-height: 1.2em;}#sk-container-id-16 div.sk-label-container {text-align: center;}#sk-container-id-16 div.sk-container {/* jupyter's `normalize.less` sets `[hidden] { display: none; }` but bootstrap.min.css set `[hidden] { display: none !important; }` so we also need the `!important` here to be able to override the default hidden behavior on the sphinx rendered scikit-learn.org. See: https://github.com/scikit-learn/scikit-learn/issues/21755 */display: inline-block !important;position: relative;}#sk-container-id-16 div.sk-text-repr-fallback {display: none;}</style><div id=\"sk-container-id-16\" class=\"sk-top-container\"><div class=\"sk-text-repr-fallback\"><pre>HistGradientBoostingClassifier(random_state=0)</pre><b>In a Jupyter environment, please rerun this cell to show the HTML representation or trust the notebook. <br />On GitHub, the HTML representation is unable to render, please try loading this page with nbviewer.org.</b></div><div class=\"sk-container\" hidden><div class=\"sk-item\"><div class=\"sk-estimator sk-toggleable\"><input class=\"sk-toggleable__control sk-hidden--visually\" id=\"sk-estimator-id-16\" type=\"checkbox\" checked><label for=\"sk-estimator-id-16\" class=\"sk-toggleable__label sk-toggleable__label-arrow\">HistGradientBoostingClassifier</label><div class=\"sk-toggleable__content\"><pre>HistGradientBoostingClassifier(random_state=0)</pre></div></div></div></div></div>"
      ],
      "text/plain": [
       "HistGradientBoostingClassifier(random_state=0)"
      ]
     },
     "execution_count": 238,
     "metadata": {},
     "output_type": "execute_result"
    }
   ],
   "source": [
    "%%time\n",
    "histboost.fit(X_train_preprocessed, y_train);"
   ]
  },
  {
   "cell_type": "code",
   "execution_count": 239,
   "id": "fd7f38f3-0817-432b-9c42-d8704afdd162",
   "metadata": {
    "colab": {
     "base_uri": "https://localhost:8080/"
    },
    "id": "rs88B_PzDfMF",
    "outputId": "8f825910-95df-4501-a13c-cb648d0d9173"
   },
   "outputs": [
    {
     "name": "stdout",
     "output_type": "stream",
     "text": [
      "Порог перевода вероятностей в классы: 0.02822602984682529\n",
      "0.70696812360298 - roc_auc на вероятностях\n",
      "\n",
      "0.64682393 - roc_auc\n",
      "0.62957000 - accuracy\n",
      "0.04742197 - precision\n",
      "0.66506470 - recall\n",
      "0.08853129 - f1\n",
      "\n",
      "prediction|   0.0    |   1.0    \n",
      "true label|          |          \n",
      "--------------------------------\n",
      "       0.0|    122316|     72274\n",
      "       1.0|      1812|      3598\n"
     ]
    }
   ],
   "source": [
    "print_metrics(histboost, X_valid_preprocessed, y_valid)"
   ]
  },
  {
   "cell_type": "markdown",
   "id": "dd5c64ff-10fc-43c7-ba57-8f7ab2f3ab4a",
   "metadata": {
    "id": "5vNwKUyjToUJ",
    "tags": []
   },
   "source": [
    "#### [CatBoost](https://catboost.ai/) (CatBoost - открытая программная библиотека, разработанная компанией Яндекс и реализующая уникальный патентованный алгоритм построения моделей машинного обучения, использующий одну из оригинальных схем градиентного бустинга.)"
   ]
  },
  {
   "cell_type": "code",
   "execution_count": 240,
   "id": "bb4bcb1e-c462-49f7-b25d-2ee809780a25",
   "metadata": {
    "id": "SXMJDwsJgFw5"
   },
   "outputs": [],
   "source": [
    "catboost = CatBoostClassifier(\n",
    "    iterations=100, verbose=False, random_state=RANDOM_SEED)"
   ]
  },
  {
   "cell_type": "code",
   "execution_count": 241,
   "id": "a6ee8db8-017a-4092-836c-9573109324a9",
   "metadata": {
    "colab": {
     "base_uri": "https://localhost:8080/"
    },
    "id": "miBsOhczge8L",
    "outputId": "fca7ea04-a64f-490e-c982-7481e4a8392e"
   },
   "outputs": [
    {
     "name": "stdout",
     "output_type": "stream",
     "text": [
      "Wall time: 10.8 s\n"
     ]
    },
    {
     "data": {
      "text/plain": [
       "<catboost.core.CatBoostClassifier at 0x20caf437b80>"
      ]
     },
     "execution_count": 241,
     "metadata": {},
     "output_type": "execute_result"
    }
   ],
   "source": [
    "%%time\n",
    "catboost.fit(X_train_preprocessed, y_train);"
   ]
  },
  {
   "cell_type": "code",
   "execution_count": 242,
   "id": "89f5e9b0-5daa-4eca-bc67-fb4f47a9e162",
   "metadata": {
    "colab": {
     "base_uri": "https://localhost:8080/"
    },
    "id": "YjePcwU2gj2D",
    "outputId": "31fddb47-3904-49bf-f6c5-b748d7951910"
   },
   "outputs": [
    {
     "name": "stdout",
     "output_type": "stream",
     "text": [
      "Порог перевода вероятностей в классы: 0.02533905564192846\n",
      "0.7068194537469606 - roc_auc на вероятностях\n",
      "\n",
      "0.64895457 - roc_auc\n",
      "0.58476000 - accuracy\n",
      "0.04541303 - precision\n",
      "0.71682070 - recall\n",
      "0.08541474 - f1\n",
      "\n",
      "prediction|   0.0    |   1.0    \n",
      "true label|          |          \n",
      "--------------------------------\n",
      "       0.0|    113074|     81516\n",
      "       1.0|      1532|      3878\n"
     ]
    }
   ],
   "source": [
    "print_metrics(catboost, X_valid_preprocessed, y_valid)"
   ]
  },
  {
   "cell_type": "markdown",
   "id": "92c9206c-03c7-416a-968d-84e98a123d6d",
   "metadata": {
    "tags": []
   },
   "source": [
    "#### [XGBoost](https://github.com/dmlc/xgboost)\n",
    "\n",
    "Основные особенности XGBoost, отличающие его от других алгоритмов градиентного бустинга, включают:\n",
    "\n",
    "* Умная штрафовка деревьев\n",
    "* Пропорциональное уменьшение узлов листьев\n",
    "* Метод Ньютона в оптимизации\n",
    "* Дополнительный параметр рандомизации\n",
    "* Реализация на одиночных, распределенных системах и out-of-core вычислениях\n",
    "* Автоматический отбор признаков\n",
    "\n",
    "Предварительно устанавливается `pip install xgboost` согласно [документации](https://xgboost.readthedocs.io/en/stable/install.html#python)"
   ]
  },
  {
   "cell_type": "code",
   "execution_count": 243,
   "id": "7dc95607-008e-41f9-b958-39b2954ab1a6",
   "metadata": {
    "id": "XQLRpwg6ZNts"
   },
   "outputs": [],
   "source": [
    "xgboost = XGBClassifier()"
   ]
  },
  {
   "cell_type": "code",
   "execution_count": 244,
   "id": "30541c0a-da64-4fea-9fda-1508714dfb3f",
   "metadata": {
    "colab": {
     "base_uri": "https://localhost:8080/"
    },
    "id": "vP04Ay7mZNtt",
    "outputId": "09a797df-f4b0-40cc-b722-62ff3c5668bb"
   },
   "outputs": [
    {
     "name": "stdout",
     "output_type": "stream",
     "text": [
      "Wall time: 1min 14s\n"
     ]
    },
    {
     "data": {
      "text/html": [
       "<style>#sk-container-id-17 {color: black;background-color: white;}#sk-container-id-17 pre{padding: 0;}#sk-container-id-17 div.sk-toggleable {background-color: white;}#sk-container-id-17 label.sk-toggleable__label {cursor: pointer;display: block;width: 100%;margin-bottom: 0;padding: 0.3em;box-sizing: border-box;text-align: center;}#sk-container-id-17 label.sk-toggleable__label-arrow:before {content: \"▸\";float: left;margin-right: 0.25em;color: #696969;}#sk-container-id-17 label.sk-toggleable__label-arrow:hover:before {color: black;}#sk-container-id-17 div.sk-estimator:hover label.sk-toggleable__label-arrow:before {color: black;}#sk-container-id-17 div.sk-toggleable__content {max-height: 0;max-width: 0;overflow: hidden;text-align: left;background-color: #f0f8ff;}#sk-container-id-17 div.sk-toggleable__content pre {margin: 0.2em;color: black;border-radius: 0.25em;background-color: #f0f8ff;}#sk-container-id-17 input.sk-toggleable__control:checked~div.sk-toggleable__content {max-height: 200px;max-width: 100%;overflow: auto;}#sk-container-id-17 input.sk-toggleable__control:checked~label.sk-toggleable__label-arrow:before {content: \"▾\";}#sk-container-id-17 div.sk-estimator input.sk-toggleable__control:checked~label.sk-toggleable__label {background-color: #d4ebff;}#sk-container-id-17 div.sk-label input.sk-toggleable__control:checked~label.sk-toggleable__label {background-color: #d4ebff;}#sk-container-id-17 input.sk-hidden--visually {border: 0;clip: rect(1px 1px 1px 1px);clip: rect(1px, 1px, 1px, 1px);height: 1px;margin: -1px;overflow: hidden;padding: 0;position: absolute;width: 1px;}#sk-container-id-17 div.sk-estimator {font-family: monospace;background-color: #f0f8ff;border: 1px dotted black;border-radius: 0.25em;box-sizing: border-box;margin-bottom: 0.5em;}#sk-container-id-17 div.sk-estimator:hover {background-color: #d4ebff;}#sk-container-id-17 div.sk-parallel-item::after {content: \"\";width: 100%;border-bottom: 1px solid gray;flex-grow: 1;}#sk-container-id-17 div.sk-label:hover label.sk-toggleable__label {background-color: #d4ebff;}#sk-container-id-17 div.sk-serial::before {content: \"\";position: absolute;border-left: 1px solid gray;box-sizing: border-box;top: 0;bottom: 0;left: 50%;z-index: 0;}#sk-container-id-17 div.sk-serial {display: flex;flex-direction: column;align-items: center;background-color: white;padding-right: 0.2em;padding-left: 0.2em;position: relative;}#sk-container-id-17 div.sk-item {position: relative;z-index: 1;}#sk-container-id-17 div.sk-parallel {display: flex;align-items: stretch;justify-content: center;background-color: white;position: relative;}#sk-container-id-17 div.sk-item::before, #sk-container-id-17 div.sk-parallel-item::before {content: \"\";position: absolute;border-left: 1px solid gray;box-sizing: border-box;top: 0;bottom: 0;left: 50%;z-index: -1;}#sk-container-id-17 div.sk-parallel-item {display: flex;flex-direction: column;z-index: 1;position: relative;background-color: white;}#sk-container-id-17 div.sk-parallel-item:first-child::after {align-self: flex-end;width: 50%;}#sk-container-id-17 div.sk-parallel-item:last-child::after {align-self: flex-start;width: 50%;}#sk-container-id-17 div.sk-parallel-item:only-child::after {width: 0;}#sk-container-id-17 div.sk-dashed-wrapped {border: 1px dashed gray;margin: 0 0.4em 0.5em 0.4em;box-sizing: border-box;padding-bottom: 0.4em;background-color: white;}#sk-container-id-17 div.sk-label label {font-family: monospace;font-weight: bold;display: inline-block;line-height: 1.2em;}#sk-container-id-17 div.sk-label-container {text-align: center;}#sk-container-id-17 div.sk-container {/* jupyter's `normalize.less` sets `[hidden] { display: none; }` but bootstrap.min.css set `[hidden] { display: none !important; }` so we also need the `!important` here to be able to override the default hidden behavior on the sphinx rendered scikit-learn.org. See: https://github.com/scikit-learn/scikit-learn/issues/21755 */display: inline-block !important;position: relative;}#sk-container-id-17 div.sk-text-repr-fallback {display: none;}</style><div id=\"sk-container-id-17\" class=\"sk-top-container\"><div class=\"sk-text-repr-fallback\"><pre>XGBClassifier(base_score=None, booster=None, callbacks=None,\n",
       "              colsample_bylevel=None, colsample_bynode=None,\n",
       "              colsample_bytree=None, early_stopping_rounds=None,\n",
       "              enable_categorical=False, eval_metric=None, feature_types=None,\n",
       "              gamma=None, gpu_id=None, grow_policy=None, importance_type=None,\n",
       "              interaction_constraints=None, learning_rate=None, max_bin=None,\n",
       "              max_cat_threshold=None, max_cat_to_onehot=None,\n",
       "              max_delta_step=None, max_depth=None, max_leaves=None,\n",
       "              min_child_weight=None, missing=nan, monotone_constraints=None,\n",
       "              n_estimators=100, n_jobs=None, num_parallel_tree=None,\n",
       "              predictor=None, random_state=None, ...)</pre><b>In a Jupyter environment, please rerun this cell to show the HTML representation or trust the notebook. <br />On GitHub, the HTML representation is unable to render, please try loading this page with nbviewer.org.</b></div><div class=\"sk-container\" hidden><div class=\"sk-item\"><div class=\"sk-estimator sk-toggleable\"><input class=\"sk-toggleable__control sk-hidden--visually\" id=\"sk-estimator-id-17\" type=\"checkbox\" checked><label for=\"sk-estimator-id-17\" class=\"sk-toggleable__label sk-toggleable__label-arrow\">XGBClassifier</label><div class=\"sk-toggleable__content\"><pre>XGBClassifier(base_score=None, booster=None, callbacks=None,\n",
       "              colsample_bylevel=None, colsample_bynode=None,\n",
       "              colsample_bytree=None, early_stopping_rounds=None,\n",
       "              enable_categorical=False, eval_metric=None, feature_types=None,\n",
       "              gamma=None, gpu_id=None, grow_policy=None, importance_type=None,\n",
       "              interaction_constraints=None, learning_rate=None, max_bin=None,\n",
       "              max_cat_threshold=None, max_cat_to_onehot=None,\n",
       "              max_delta_step=None, max_depth=None, max_leaves=None,\n",
       "              min_child_weight=None, missing=nan, monotone_constraints=None,\n",
       "              n_estimators=100, n_jobs=None, num_parallel_tree=None,\n",
       "              predictor=None, random_state=None, ...)</pre></div></div></div></div></div>"
      ],
      "text/plain": [
       "XGBClassifier(base_score=None, booster=None, callbacks=None,\n",
       "              colsample_bylevel=None, colsample_bynode=None,\n",
       "              colsample_bytree=None, early_stopping_rounds=None,\n",
       "              enable_categorical=False, eval_metric=None, feature_types=None,\n",
       "              gamma=None, gpu_id=None, grow_policy=None, importance_type=None,\n",
       "              interaction_constraints=None, learning_rate=None, max_bin=None,\n",
       "              max_cat_threshold=None, max_cat_to_onehot=None,\n",
       "              max_delta_step=None, max_depth=None, max_leaves=None,\n",
       "              min_child_weight=None, missing=nan, monotone_constraints=None,\n",
       "              n_estimators=100, n_jobs=None, num_parallel_tree=None,\n",
       "              predictor=None, random_state=None, ...)"
      ]
     },
     "execution_count": 244,
     "metadata": {},
     "output_type": "execute_result"
    }
   ],
   "source": [
    "%%time\n",
    "xgboost.fit(X_train_preprocessed.values, y_train.values);"
   ]
  },
  {
   "cell_type": "code",
   "execution_count": 245,
   "id": "4ab0e7a5-ecb1-470a-bbb4-0d3cae12a66d",
   "metadata": {
    "colab": {
     "base_uri": "https://localhost:8080/"
    },
    "id": "ct7RtQdDZNtu",
    "outputId": "745534a6-f726-463c-be58-4dd26cd3a559"
   },
   "outputs": [
    {
     "name": "stdout",
     "output_type": "stream",
     "text": [
      "Порог перевода вероятностей в классы: 0.02784477629170188\n",
      "0.7107721766577036 - roc_auc на вероятностях\n",
      "\n",
      "0.65178082 - roc_auc\n",
      "0.63432000 - accuracy\n",
      "0.04836085 - precision\n",
      "0.67024030 - recall\n",
      "0.09021247 - f1\n",
      "\n",
      "prediction|   0.0    |   1.0    \n",
      "true label|          |          \n",
      "--------------------------------\n",
      "       0.0|    123238|     71352\n",
      "       1.0|      1784|      3626\n"
     ]
    }
   ],
   "source": [
    "print_metrics(xgboost, X_valid_preprocessed.values, y_valid.values)"
   ]
  },
  {
   "cell_type": "markdown",
   "id": "7c74d9ee-49cc-4ba9-bfeb-158067325984",
   "metadata": {
    "id": "UB6kxht3n16M",
    "tags": []
   },
   "source": [
    "#### LGBMClassifier — это фреймворк, который предоставляет реализацию деревьев принятия решений с градиентным бустингом."
   ]
  },
  {
   "cell_type": "code",
   "execution_count": 246,
   "id": "c42eec45-a444-4eef-83c7-84c4c9cbff08",
   "metadata": {
    "id": "jCi3bHfsn16O"
   },
   "outputs": [],
   "source": [
    "lightgbm = LGBMClassifier(random_state=RANDOM_SEED)"
   ]
  },
  {
   "cell_type": "code",
   "execution_count": 247,
   "id": "c8affbe3-1da9-435e-be1f-4d3ed0817805",
   "metadata": {
    "colab": {
     "base_uri": "https://localhost:8080/"
    },
    "id": "qwJwaO9Xn16P",
    "outputId": "963405f9-b816-491d-9517-9ae368df1127"
   },
   "outputs": [
    {
     "name": "stdout",
     "output_type": "stream",
     "text": [
      "Wall time: 4.62 s\n"
     ]
    },
    {
     "data": {
      "text/html": [
       "<style>#sk-container-id-18 {color: black;background-color: white;}#sk-container-id-18 pre{padding: 0;}#sk-container-id-18 div.sk-toggleable {background-color: white;}#sk-container-id-18 label.sk-toggleable__label {cursor: pointer;display: block;width: 100%;margin-bottom: 0;padding: 0.3em;box-sizing: border-box;text-align: center;}#sk-container-id-18 label.sk-toggleable__label-arrow:before {content: \"▸\";float: left;margin-right: 0.25em;color: #696969;}#sk-container-id-18 label.sk-toggleable__label-arrow:hover:before {color: black;}#sk-container-id-18 div.sk-estimator:hover label.sk-toggleable__label-arrow:before {color: black;}#sk-container-id-18 div.sk-toggleable__content {max-height: 0;max-width: 0;overflow: hidden;text-align: left;background-color: #f0f8ff;}#sk-container-id-18 div.sk-toggleable__content pre {margin: 0.2em;color: black;border-radius: 0.25em;background-color: #f0f8ff;}#sk-container-id-18 input.sk-toggleable__control:checked~div.sk-toggleable__content {max-height: 200px;max-width: 100%;overflow: auto;}#sk-container-id-18 input.sk-toggleable__control:checked~label.sk-toggleable__label-arrow:before {content: \"▾\";}#sk-container-id-18 div.sk-estimator input.sk-toggleable__control:checked~label.sk-toggleable__label {background-color: #d4ebff;}#sk-container-id-18 div.sk-label input.sk-toggleable__control:checked~label.sk-toggleable__label {background-color: #d4ebff;}#sk-container-id-18 input.sk-hidden--visually {border: 0;clip: rect(1px 1px 1px 1px);clip: rect(1px, 1px, 1px, 1px);height: 1px;margin: -1px;overflow: hidden;padding: 0;position: absolute;width: 1px;}#sk-container-id-18 div.sk-estimator {font-family: monospace;background-color: #f0f8ff;border: 1px dotted black;border-radius: 0.25em;box-sizing: border-box;margin-bottom: 0.5em;}#sk-container-id-18 div.sk-estimator:hover {background-color: #d4ebff;}#sk-container-id-18 div.sk-parallel-item::after {content: \"\";width: 100%;border-bottom: 1px solid gray;flex-grow: 1;}#sk-container-id-18 div.sk-label:hover label.sk-toggleable__label {background-color: #d4ebff;}#sk-container-id-18 div.sk-serial::before {content: \"\";position: absolute;border-left: 1px solid gray;box-sizing: border-box;top: 0;bottom: 0;left: 50%;z-index: 0;}#sk-container-id-18 div.sk-serial {display: flex;flex-direction: column;align-items: center;background-color: white;padding-right: 0.2em;padding-left: 0.2em;position: relative;}#sk-container-id-18 div.sk-item {position: relative;z-index: 1;}#sk-container-id-18 div.sk-parallel {display: flex;align-items: stretch;justify-content: center;background-color: white;position: relative;}#sk-container-id-18 div.sk-item::before, #sk-container-id-18 div.sk-parallel-item::before {content: \"\";position: absolute;border-left: 1px solid gray;box-sizing: border-box;top: 0;bottom: 0;left: 50%;z-index: -1;}#sk-container-id-18 div.sk-parallel-item {display: flex;flex-direction: column;z-index: 1;position: relative;background-color: white;}#sk-container-id-18 div.sk-parallel-item:first-child::after {align-self: flex-end;width: 50%;}#sk-container-id-18 div.sk-parallel-item:last-child::after {align-self: flex-start;width: 50%;}#sk-container-id-18 div.sk-parallel-item:only-child::after {width: 0;}#sk-container-id-18 div.sk-dashed-wrapped {border: 1px dashed gray;margin: 0 0.4em 0.5em 0.4em;box-sizing: border-box;padding-bottom: 0.4em;background-color: white;}#sk-container-id-18 div.sk-label label {font-family: monospace;font-weight: bold;display: inline-block;line-height: 1.2em;}#sk-container-id-18 div.sk-label-container {text-align: center;}#sk-container-id-18 div.sk-container {/* jupyter's `normalize.less` sets `[hidden] { display: none; }` but bootstrap.min.css set `[hidden] { display: none !important; }` so we also need the `!important` here to be able to override the default hidden behavior on the sphinx rendered scikit-learn.org. See: https://github.com/scikit-learn/scikit-learn/issues/21755 */display: inline-block !important;position: relative;}#sk-container-id-18 div.sk-text-repr-fallback {display: none;}</style><div id=\"sk-container-id-18\" class=\"sk-top-container\"><div class=\"sk-text-repr-fallback\"><pre>LGBMClassifier(random_state=0)</pre><b>In a Jupyter environment, please rerun this cell to show the HTML representation or trust the notebook. <br />On GitHub, the HTML representation is unable to render, please try loading this page with nbviewer.org.</b></div><div class=\"sk-container\" hidden><div class=\"sk-item\"><div class=\"sk-estimator sk-toggleable\"><input class=\"sk-toggleable__control sk-hidden--visually\" id=\"sk-estimator-id-18\" type=\"checkbox\" checked><label for=\"sk-estimator-id-18\" class=\"sk-toggleable__label sk-toggleable__label-arrow\">LGBMClassifier</label><div class=\"sk-toggleable__content\"><pre>LGBMClassifier(random_state=0)</pre></div></div></div></div></div>"
      ],
      "text/plain": [
       "LGBMClassifier(random_state=0)"
      ]
     },
     "execution_count": 247,
     "metadata": {},
     "output_type": "execute_result"
    }
   ],
   "source": [
    "%%time\n",
    "lightgbm.fit(X_train_preprocessed, y_train);"
   ]
  },
  {
   "cell_type": "code",
   "execution_count": 248,
   "id": "4b1227e9-9efb-431b-98ba-0baf936d8dec",
   "metadata": {
    "colab": {
     "base_uri": "https://localhost:8080/"
    },
    "id": "t5bs-yUBn16Q",
    "outputId": "08c92767-db0f-400b-c8f3-e2401e7af308"
   },
   "outputs": [
    {
     "name": "stdout",
     "output_type": "stream",
     "text": [
      "Порог перевода вероятностей в классы: 0.028516118176763625\n",
      "0.7069700438449713 - roc_auc на вероятностях\n",
      "\n",
      "0.64701144 - roc_auc\n",
      "0.63535500 - accuracy\n",
      "0.04778107 - precision\n",
      "0.65933457 - recall\n",
      "0.08910483 - f1\n",
      "\n",
      "prediction|   0.0    |   1.0    \n",
      "true label|          |          \n",
      "--------------------------------\n",
      "       0.0|    123504|     71086\n",
      "       1.0|      1843|      3567\n"
     ]
    }
   ],
   "source": [
    "print_metrics(lightgbm, X_valid_preprocessed, y_valid)"
   ]
  },
  {
   "cell_type": "markdown",
   "id": "56f652ab-54c5-45ba-a72c-e85fdcefbd42",
   "metadata": {
    "id": "UqnvrGRY7wWC",
    "tags": []
   },
   "source": [
    "### Оптимизация модели  \n",
    "\n",
    "Лучшей моделью является LightGBM по следующим причинам:\n",
    "+ Один из лучших показателей `roc_auc`.\n",
    "+ Быстрое обучение. \n",
    "+ Модель интерпретируема, то есть можно получить показатели важности признаков.\n",
    "+ Может предсказывать вероятность класса.\n",
    "+ Нет проблем с процессорами без SSE4 как у CatBoost.\n",
    "\n",
    "Оптимизация модели и конвейера по подготовке данных проводится с помощью байесовской оптимизации. При разных гиперпараметрах модель обучается на тренировочных данных, а оценивается на валидационных."
   ]
  },
  {
   "cell_type": "code",
   "execution_count": 249,
   "id": "d229b860-3fbd-4fbe-8a6d-2d166f2d5080",
   "metadata": {
    "id": "r9DJbmb5m26A"
   },
   "outputs": [],
   "source": [
    "def optimize_lightgbm(\n",
    "    rare_encoder_tol: float, \n",
    "    constant_dropper_tol: float, \n",
    "    correlated_dropper_threshold: float, \n",
    "    n_estimators: float, \n",
    "    learning_rate: float, \n",
    "    reg_lambda: float, \n",
    "    num_leaves: float, \n",
    "    reg_alpha: float, \n",
    "    boosting_type: str = 'goss'\n",
    ") -> float:\n",
    "    \"\"\"Используется Баейсовским оптимизатором для поиска лучших гиперпараметров \n",
    "    конвейера по подготовке данных и модели LGBMClassifier.\n",
    "    \"\"\"\n",
    "\n",
    "    # Создадим конвейер с заданными гиперпараметрами\n",
    "    model = Pipeline(steps=[\n",
    "        # Создание дополнительных признаков\n",
    "        ('indexer', FunctionTransformer(set_index)), \n",
    "        ('imputer', FunctionTransformer(fill_missings)), \n",
    "        ('engineer', FunctionTransformer(create_features)), \n",
    "        ('dropper', DropFeatures(['client_id', 'visit_date', 'visit_time', \n",
    "                                  'device_screen_resolution'])), \n",
    "        # Преобразования численных переменных\n",
    "        ('normalization', YeoJohnsonTransformer()), \n",
    "        ('outlier_remover', Winsorizer()), \n",
    "        ('scaler', SklearnTransformerWrapper(StandardScaler())), \n",
    "        # Преобразования категориальных признаков\n",
    "        ('rare_encoder', RareLabelEncoder(\n",
    "            tol=rare_encoder_tol, replace_with='rare')),\n",
    "        ('onehot_encoder', OneHotEncoder(drop_last_binary=True)), \n",
    "        ('bool_converter', FunctionTransformer(converse_types)), \n",
    "        # Удаление дубликатов и коррелируемых признаков\n",
    "        ('constant_dropper', DropConstantFeatures(tol=constant_dropper_tol)), \n",
    "        ('duplicated_dropper', DropDuplicateFeatures()), \n",
    "        ('correlated_dropper', DropCorrelatedFeatures(\n",
    "            threshold=correlated_dropper_threshold)), \n",
    "        # Лучшая модель с оптимизированными гиперпараметрами\n",
    "        ('model', LGBMClassifier(\n",
    "            n_estimators=int(n_estimators), boosting_type=boosting_type, \n",
    "            learning_rate=learning_rate, num_leaves=int(num_leaves), \n",
    "            reg_lambda=reg_lambda, reg_alpha=reg_alpha, \n",
    "            random_state=RANDOM_SEED))])\n",
    "    \n",
    "    # Обучим и оценим модель\n",
    "    model.fit(X_train, y_train)\n",
    "    prediction = model.predict_proba(X_valid)[:, 1]\n",
    "    return roc_auc_score(y_valid, prediction)"
   ]
  },
  {
   "cell_type": "code",
   "execution_count": 539,
   "id": "1f97018a-2759-436a-b588-0d673025de35",
   "metadata": {},
   "outputs": [
    {
     "data": {
      "text/html": [
       "<div>\n",
       "<style scoped>\n",
       "    .dataframe tbody tr th:only-of-type {\n",
       "        vertical-align: middle;\n",
       "    }\n",
       "\n",
       "    .dataframe tbody tr th {\n",
       "        vertical-align: top;\n",
       "    }\n",
       "\n",
       "    .dataframe thead th {\n",
       "        text-align: right;\n",
       "    }\n",
       "</style>\n",
       "<table border=\"1\" class=\"dataframe\">\n",
       "  <thead>\n",
       "    <tr style=\"text-align: right;\">\n",
       "      <th></th>\n",
       "      <th>session_id</th>\n",
       "      <th>client_id</th>\n",
       "      <th>visit_date</th>\n",
       "      <th>visit_time</th>\n",
       "      <th>visit_number</th>\n",
       "      <th>utm_source</th>\n",
       "      <th>utm_medium</th>\n",
       "      <th>utm_campaign</th>\n",
       "      <th>utm_adcontent</th>\n",
       "      <th>utm_keyword</th>\n",
       "      <th>device_category</th>\n",
       "      <th>device_os</th>\n",
       "      <th>device_brand</th>\n",
       "      <th>device_model</th>\n",
       "      <th>device_screen_resolution</th>\n",
       "      <th>device_browser</th>\n",
       "      <th>geo_country</th>\n",
       "      <th>geo_city</th>\n",
       "    </tr>\n",
       "  </thead>\n",
       "  <tbody>\n",
       "    <tr>\n",
       "      <th>1056663</th>\n",
       "      <td>547332070992313735.1638727047.1638727047</td>\n",
       "      <td>127435678.163873</td>\n",
       "      <td>2021-12-05</td>\n",
       "      <td>20:57:27</td>\n",
       "      <td>1</td>\n",
       "      <td>ZpYIoDJMcFzVoPFsHGJL</td>\n",
       "      <td>banner</td>\n",
       "      <td>TmThBvoCcwkCZZUWACYq</td>\n",
       "      <td>JNHcPlZPxEMWDnRiyoBf</td>\n",
       "      <td>puhZPIYqKXeFPaUviSjo</td>\n",
       "      <td>mobile</td>\n",
       "      <td>iOS</td>\n",
       "      <td>Apple</td>\n",
       "      <td>NaN</td>\n",
       "      <td>428x926</td>\n",
       "      <td>Safari</td>\n",
       "      <td>Russia</td>\n",
       "      <td>Novotroitsk</td>\n",
       "    </tr>\n",
       "    <tr>\n",
       "      <th>1409550</th>\n",
       "      <td>7049980726847853060.1629809978.1629809978</td>\n",
       "      <td>1641451550.162934</td>\n",
       "      <td>2021-08-24</td>\n",
       "      <td>15:00:00</td>\n",
       "      <td>5</td>\n",
       "      <td>MvfHsxITijuriZxsqZqt</td>\n",
       "      <td>cpm</td>\n",
       "      <td>FTjNLDyTrXaWYgZymFkV</td>\n",
       "      <td>PkybGvWbaqORmxjNunqZ</td>\n",
       "      <td>NaN</td>\n",
       "      <td>mobile</td>\n",
       "      <td>NaN</td>\n",
       "      <td>Xiaomi</td>\n",
       "      <td>NaN</td>\n",
       "      <td>393x851</td>\n",
       "      <td>Chrome</td>\n",
       "      <td>Russia</td>\n",
       "      <td>Balashikha</td>\n",
       "    </tr>\n",
       "    <tr>\n",
       "      <th>739873</th>\n",
       "      <td>4064566220882386809.1639930788.1639930788</td>\n",
       "      <td>946355569.163992</td>\n",
       "      <td>2021-12-19</td>\n",
       "      <td>19:19:48</td>\n",
       "      <td>2</td>\n",
       "      <td>ZpYIoDJMcFzVoPFsHGJL</td>\n",
       "      <td>banner</td>\n",
       "      <td>LEoPHuyFvzoNfnzGgfcd</td>\n",
       "      <td>vCIpmpaGBnIQhyYNkXqp</td>\n",
       "      <td>puhZPIYqKXeFPaUviSjo</td>\n",
       "      <td>mobile</td>\n",
       "      <td>Android</td>\n",
       "      <td>Samsung</td>\n",
       "      <td>NaN</td>\n",
       "      <td>339x753</td>\n",
       "      <td>Chrome</td>\n",
       "      <td>Russia</td>\n",
       "      <td>Almetyevsk</td>\n",
       "    </tr>\n",
       "    <tr>\n",
       "      <th>62902</th>\n",
       "      <td>1033849280328168809.1631647080.1631647080</td>\n",
       "      <td>240711793.163165</td>\n",
       "      <td>2021-09-14</td>\n",
       "      <td>22:00:00</td>\n",
       "      <td>1</td>\n",
       "      <td>ZpYIoDJMcFzVoPFsHGJL</td>\n",
       "      <td>banner</td>\n",
       "      <td>gecBYcKZCPMcVYdSSzKP</td>\n",
       "      <td>JNHcPlZPxEMWDnRiyoBf</td>\n",
       "      <td>NaN</td>\n",
       "      <td>mobile</td>\n",
       "      <td>NaN</td>\n",
       "      <td>Apple</td>\n",
       "      <td>NaN</td>\n",
       "      <td>414x896</td>\n",
       "      <td>Safari</td>\n",
       "      <td>Russia</td>\n",
       "      <td>Saint Petersburg</td>\n",
       "    </tr>\n",
       "    <tr>\n",
       "      <th>1297234</th>\n",
       "      <td>6544287746962620171.1638268683.1638268683</td>\n",
       "      <td>1523710728.163827</td>\n",
       "      <td>2021-11-30</td>\n",
       "      <td>13:38:03</td>\n",
       "      <td>1</td>\n",
       "      <td>ZpYIoDJMcFzVoPFsHGJL</td>\n",
       "      <td>banner</td>\n",
       "      <td>LEoPHuyFvzoNfnzGgfcd</td>\n",
       "      <td>vCIpmpaGBnIQhyYNkXqp</td>\n",
       "      <td>puhZPIYqKXeFPaUviSjo</td>\n",
       "      <td>mobile</td>\n",
       "      <td>Android</td>\n",
       "      <td>Xiaomi</td>\n",
       "      <td>NaN</td>\n",
       "      <td>393x851</td>\n",
       "      <td>Chrome</td>\n",
       "      <td>Russia</td>\n",
       "      <td>Moscow</td>\n",
       "    </tr>\n",
       "    <tr>\n",
       "      <th>...</th>\n",
       "      <td>...</td>\n",
       "      <td>...</td>\n",
       "      <td>...</td>\n",
       "      <td>...</td>\n",
       "      <td>...</td>\n",
       "      <td>...</td>\n",
       "      <td>...</td>\n",
       "      <td>...</td>\n",
       "      <td>...</td>\n",
       "      <td>...</td>\n",
       "      <td>...</td>\n",
       "      <td>...</td>\n",
       "      <td>...</td>\n",
       "      <td>...</td>\n",
       "      <td>...</td>\n",
       "      <td>...</td>\n",
       "      <td>...</td>\n",
       "      <td>...</td>\n",
       "    </tr>\n",
       "    <tr>\n",
       "      <th>1793000</th>\n",
       "      <td>8755082352522037809.1633552946.1633552946</td>\n",
       "      <td>2038451459.163355</td>\n",
       "      <td>2021-10-06</td>\n",
       "      <td>23:00:00</td>\n",
       "      <td>1</td>\n",
       "      <td>fDLlAcSmythWSCVMvqvL</td>\n",
       "      <td>(none)</td>\n",
       "      <td>LTuZkdKfxRGVceoWkVyg</td>\n",
       "      <td>JNHcPlZPxEMWDnRiyoBf</td>\n",
       "      <td>NaN</td>\n",
       "      <td>mobile</td>\n",
       "      <td>NaN</td>\n",
       "      <td>Samsung</td>\n",
       "      <td>NaN</td>\n",
       "      <td>360x800</td>\n",
       "      <td>Chrome</td>\n",
       "      <td>Russia</td>\n",
       "      <td>Moscow</td>\n",
       "    </tr>\n",
       "    <tr>\n",
       "      <th>207261</th>\n",
       "      <td>1682284231298311525.1640424805.1640424805</td>\n",
       "      <td>391687320.1640424805</td>\n",
       "      <td>2021-12-25</td>\n",
       "      <td>12:33:25</td>\n",
       "      <td>1</td>\n",
       "      <td>fDLlAcSmythWSCVMvqvL</td>\n",
       "      <td>(none)</td>\n",
       "      <td>LTuZkdKfxRGVceoWkVyg</td>\n",
       "      <td>JNHcPlZPxEMWDnRiyoBf</td>\n",
       "      <td>puhZPIYqKXeFPaUviSjo</td>\n",
       "      <td>mobile</td>\n",
       "      <td>iOS</td>\n",
       "      <td>Apple</td>\n",
       "      <td>NaN</td>\n",
       "      <td>375x812</td>\n",
       "      <td>Safari</td>\n",
       "      <td>Russia</td>\n",
       "      <td>Saint Petersburg</td>\n",
       "    </tr>\n",
       "    <tr>\n",
       "      <th>93412</th>\n",
       "      <td>1170303784354950884.1640345317.1640345317</td>\n",
       "      <td>272482583.164035</td>\n",
       "      <td>2021-12-24</td>\n",
       "      <td>14:28:37</td>\n",
       "      <td>1</td>\n",
       "      <td>fDLlAcSmythWSCVMvqvL</td>\n",
       "      <td>(none)</td>\n",
       "      <td>LTuZkdKfxRGVceoWkVyg</td>\n",
       "      <td>JNHcPlZPxEMWDnRiyoBf</td>\n",
       "      <td>puhZPIYqKXeFPaUviSjo</td>\n",
       "      <td>desktop</td>\n",
       "      <td>Windows</td>\n",
       "      <td>NaN</td>\n",
       "      <td>NaN</td>\n",
       "      <td>1920x1080</td>\n",
       "      <td>Chrome</td>\n",
       "      <td>Russia</td>\n",
       "      <td>Moscow</td>\n",
       "    </tr>\n",
       "    <tr>\n",
       "      <th>1568591</th>\n",
       "      <td>7753976912353269271.1634047522.1634047522</td>\n",
       "      <td>1805363435.163405</td>\n",
       "      <td>2021-10-12</td>\n",
       "      <td>17:00:00</td>\n",
       "      <td>1</td>\n",
       "      <td>ZpYIoDJMcFzVoPFsHGJL</td>\n",
       "      <td>banner</td>\n",
       "      <td>gecBYcKZCPMcVYdSSzKP</td>\n",
       "      <td>JNHcPlZPxEMWDnRiyoBf</td>\n",
       "      <td>NaN</td>\n",
       "      <td>mobile</td>\n",
       "      <td>NaN</td>\n",
       "      <td>Xiaomi</td>\n",
       "      <td>NaN</td>\n",
       "      <td>393x851</td>\n",
       "      <td>Chrome</td>\n",
       "      <td>Russia</td>\n",
       "      <td>Novosibirsk</td>\n",
       "    </tr>\n",
       "    <tr>\n",
       "      <th>1119538</th>\n",
       "      <td>5753600408244704247.1626854393.1626854393</td>\n",
       "      <td>1339614486.162685</td>\n",
       "      <td>2021-07-21</td>\n",
       "      <td>10:00:00</td>\n",
       "      <td>1</td>\n",
       "      <td>MvfHsxITijuriZxsqZqt</td>\n",
       "      <td>cpm</td>\n",
       "      <td>FTjNLDyTrXaWYgZymFkV</td>\n",
       "      <td>dUuXlWzvmhDSyclWRhNP</td>\n",
       "      <td>NaN</td>\n",
       "      <td>mobile</td>\n",
       "      <td>NaN</td>\n",
       "      <td>Xiaomi</td>\n",
       "      <td>NaN</td>\n",
       "      <td>393x851</td>\n",
       "      <td>Chrome</td>\n",
       "      <td>Russia</td>\n",
       "      <td>Saint Petersburg</td>\n",
       "    </tr>\n",
       "  </tbody>\n",
       "</table>\n",
       "<p>1460042 rows × 18 columns</p>\n",
       "</div>"
      ],
      "text/plain": [
       "                                        session_id             client_id  \\\n",
       "1056663   547332070992313735.1638727047.1638727047      127435678.163873   \n",
       "1409550  7049980726847853060.1629809978.1629809978     1641451550.162934   \n",
       "739873   4064566220882386809.1639930788.1639930788      946355569.163992   \n",
       "62902    1033849280328168809.1631647080.1631647080      240711793.163165   \n",
       "1297234  6544287746962620171.1638268683.1638268683     1523710728.163827   \n",
       "...                                            ...                   ...   \n",
       "1793000  8755082352522037809.1633552946.1633552946     2038451459.163355   \n",
       "207261   1682284231298311525.1640424805.1640424805  391687320.1640424805   \n",
       "93412    1170303784354950884.1640345317.1640345317      272482583.164035   \n",
       "1568591  7753976912353269271.1634047522.1634047522     1805363435.163405   \n",
       "1119538  5753600408244704247.1626854393.1626854393     1339614486.162685   \n",
       "\n",
       "         visit_date visit_time  visit_number            utm_source utm_medium  \\\n",
       "1056663  2021-12-05   20:57:27             1  ZpYIoDJMcFzVoPFsHGJL     banner   \n",
       "1409550  2021-08-24   15:00:00             5  MvfHsxITijuriZxsqZqt        cpm   \n",
       "739873   2021-12-19   19:19:48             2  ZpYIoDJMcFzVoPFsHGJL     banner   \n",
       "62902    2021-09-14   22:00:00             1  ZpYIoDJMcFzVoPFsHGJL     banner   \n",
       "1297234  2021-11-30   13:38:03             1  ZpYIoDJMcFzVoPFsHGJL     banner   \n",
       "...             ...        ...           ...                   ...        ...   \n",
       "1793000  2021-10-06   23:00:00             1  fDLlAcSmythWSCVMvqvL     (none)   \n",
       "207261   2021-12-25   12:33:25             1  fDLlAcSmythWSCVMvqvL     (none)   \n",
       "93412    2021-12-24   14:28:37             1  fDLlAcSmythWSCVMvqvL     (none)   \n",
       "1568591  2021-10-12   17:00:00             1  ZpYIoDJMcFzVoPFsHGJL     banner   \n",
       "1119538  2021-07-21   10:00:00             1  MvfHsxITijuriZxsqZqt        cpm   \n",
       "\n",
       "                 utm_campaign         utm_adcontent           utm_keyword  \\\n",
       "1056663  TmThBvoCcwkCZZUWACYq  JNHcPlZPxEMWDnRiyoBf  puhZPIYqKXeFPaUviSjo   \n",
       "1409550  FTjNLDyTrXaWYgZymFkV  PkybGvWbaqORmxjNunqZ                   NaN   \n",
       "739873   LEoPHuyFvzoNfnzGgfcd  vCIpmpaGBnIQhyYNkXqp  puhZPIYqKXeFPaUviSjo   \n",
       "62902    gecBYcKZCPMcVYdSSzKP  JNHcPlZPxEMWDnRiyoBf                   NaN   \n",
       "1297234  LEoPHuyFvzoNfnzGgfcd  vCIpmpaGBnIQhyYNkXqp  puhZPIYqKXeFPaUviSjo   \n",
       "...                       ...                   ...                   ...   \n",
       "1793000  LTuZkdKfxRGVceoWkVyg  JNHcPlZPxEMWDnRiyoBf                   NaN   \n",
       "207261   LTuZkdKfxRGVceoWkVyg  JNHcPlZPxEMWDnRiyoBf  puhZPIYqKXeFPaUviSjo   \n",
       "93412    LTuZkdKfxRGVceoWkVyg  JNHcPlZPxEMWDnRiyoBf  puhZPIYqKXeFPaUviSjo   \n",
       "1568591  gecBYcKZCPMcVYdSSzKP  JNHcPlZPxEMWDnRiyoBf                   NaN   \n",
       "1119538  FTjNLDyTrXaWYgZymFkV  dUuXlWzvmhDSyclWRhNP                   NaN   \n",
       "\n",
       "        device_category device_os device_brand device_model  \\\n",
       "1056663          mobile       iOS        Apple          NaN   \n",
       "1409550          mobile       NaN       Xiaomi          NaN   \n",
       "739873           mobile   Android      Samsung          NaN   \n",
       "62902            mobile       NaN        Apple          NaN   \n",
       "1297234          mobile   Android       Xiaomi          NaN   \n",
       "...                 ...       ...          ...          ...   \n",
       "1793000          mobile       NaN      Samsung          NaN   \n",
       "207261           mobile       iOS        Apple          NaN   \n",
       "93412           desktop   Windows          NaN          NaN   \n",
       "1568591          mobile       NaN       Xiaomi          NaN   \n",
       "1119538          mobile       NaN       Xiaomi          NaN   \n",
       "\n",
       "        device_screen_resolution device_browser geo_country          geo_city  \n",
       "1056663                  428x926         Safari      Russia       Novotroitsk  \n",
       "1409550                  393x851         Chrome      Russia        Balashikha  \n",
       "739873                   339x753         Chrome      Russia        Almetyevsk  \n",
       "62902                    414x896         Safari      Russia  Saint Petersburg  \n",
       "1297234                  393x851         Chrome      Russia            Moscow  \n",
       "...                          ...            ...         ...               ...  \n",
       "1793000                  360x800         Chrome      Russia            Moscow  \n",
       "207261                   375x812         Safari      Russia  Saint Petersburg  \n",
       "93412                  1920x1080         Chrome      Russia            Moscow  \n",
       "1568591                  393x851         Chrome      Russia       Novosibirsk  \n",
       "1119538                  393x851         Chrome      Russia  Saint Petersburg  \n",
       "\n",
       "[1460042 rows x 18 columns]"
      ]
     },
     "execution_count": 539,
     "metadata": {},
     "output_type": "execute_result"
    }
   ],
   "source": [
    "X_train"
   ]
  },
  {
   "cell_type": "code",
   "execution_count": 250,
   "id": "6dadbd43-551f-4dc0-b783-173d1e29ae65",
   "metadata": {
    "id": "d0kki5lZWEwh"
   },
   "outputs": [],
   "source": [
    "optimizing_parameters = {\n",
    "    'rare_encoder_tol': (0.01, 0.1), \n",
    "    'constant_dropper_tol': (0.95, 0.999), \n",
    "    'correlated_dropper_threshold': (0.7, 0.99), \n",
    "    'n_estimators': (50, 5000), \n",
    "    'learning_rate': (0.01, 0.25), \n",
    "    'reg_lambda': (0, 50), \n",
    "    'num_leaves': (10, 120), \n",
    "    'reg_alpha': (0, 50)}"
   ]
  },
  {
   "cell_type": "code",
   "execution_count": 251,
   "id": "be1be778-8908-456c-b1cc-0e0341799f12",
   "metadata": {
    "colab": {
     "base_uri": "https://localhost:8080/"
    },
    "id": "k4Yax3asoOGT",
    "outputId": "6d280cef-0383-4e6c-da63-2a49a0840d1a"
   },
   "outputs": [
    {
     "name": "stdout",
     "output_type": "stream",
     "text": [
      "boosting_type = gbdt\n",
      "|   iter    |  target   | consta... | correl... | learni... | n_esti... | num_le... | rare_e... | reg_alpha | reg_la... |\n",
      "-------------------------------------------------------------------------------------------------------------------------\n",
      "| \u001b[0m1        \u001b[0m | \u001b[0m0.7107   \u001b[0m | \u001b[0m0.9769   \u001b[0m | \u001b[0m0.9074   \u001b[0m | \u001b[0m0.1547   \u001b[0m | \u001b[0m2.747e+03\u001b[0m | \u001b[0m56.6     \u001b[0m | \u001b[0m0.06813  \u001b[0m | \u001b[0m21.88    \u001b[0m | \u001b[0m44.59    \u001b[0m |\n",
      "| \u001b[0m2        \u001b[0m | \u001b[0m0.6836   \u001b[0m | \u001b[0m0.9972   \u001b[0m | \u001b[0m0.8112   \u001b[0m | \u001b[0m0.2      \u001b[0m | \u001b[0m2.668e+03\u001b[0m | \u001b[0m72.48    \u001b[0m | \u001b[0m0.0933   \u001b[0m | \u001b[0m3.552    \u001b[0m | \u001b[0m4.356    \u001b[0m |\n",
      "| \u001b[0m3        \u001b[0m | \u001b[0m0.7094   \u001b[0m | \u001b[0m0.951    \u001b[0m | \u001b[0m0.9415   \u001b[0m | \u001b[0m0.1968   \u001b[0m | \u001b[0m4.357e+03\u001b[0m | \u001b[0m117.6    \u001b[0m | \u001b[0m0.08192  \u001b[0m | \u001b[0m23.07    \u001b[0m | \u001b[0m39.03    \u001b[0m |\n",
      "| \u001b[95m4        \u001b[0m | \u001b[95m0.7113   \u001b[0m | \u001b[95m0.9558   \u001b[0m | \u001b[95m0.8856   \u001b[0m | \u001b[95m0.0444   \u001b[0m | \u001b[95m4.726e+03\u001b[0m | \u001b[95m67.4     \u001b[0m | \u001b[95m0.04732  \u001b[0m | \u001b[95m13.23    \u001b[0m | \u001b[95m38.71    \u001b[0m |\n",
      "| \u001b[0m5        \u001b[0m | \u001b[0m0.7055   \u001b[0m | \u001b[0m0.9724   \u001b[0m | \u001b[0m0.8648   \u001b[0m | \u001b[0m0.01451  \u001b[0m | \u001b[0m3.107e+03\u001b[0m | \u001b[0m77.33    \u001b[0m | \u001b[0m0.06552  \u001b[0m | \u001b[0m47.19    \u001b[0m | \u001b[0m34.09    \u001b[0m |\n",
      "| \u001b[0m6        \u001b[0m | \u001b[0m0.7087   \u001b[0m | \u001b[0m0.9859   \u001b[0m | \u001b[0m0.7406   \u001b[0m | \u001b[0m0.07166  \u001b[0m | \u001b[0m4.72e+03 \u001b[0m | \u001b[0m61.15    \u001b[0m | \u001b[0m0.06792  \u001b[0m | \u001b[0m12.79    \u001b[0m | \u001b[0m47.99    \u001b[0m |\n",
      "| \u001b[0m7        \u001b[0m | \u001b[0m0.709    \u001b[0m | \u001b[0m0.9687   \u001b[0m | \u001b[0m0.7694   \u001b[0m | \u001b[0m0.183    \u001b[0m | \u001b[0m4.745e+03\u001b[0m | \u001b[0m107.8    \u001b[0m | \u001b[0m0.04107  \u001b[0m | \u001b[0m35.41    \u001b[0m | \u001b[0m2.306    \u001b[0m |\n",
      "| \u001b[0m8        \u001b[0m | \u001b[0m0.6953   \u001b[0m | \u001b[0m0.9874   \u001b[0m | \u001b[0m0.9089   \u001b[0m | \u001b[0m0.1418   \u001b[0m | \u001b[0m4.783e+03\u001b[0m | \u001b[0m49.48    \u001b[0m | \u001b[0m0.01103  \u001b[0m | \u001b[0m1.832    \u001b[0m | \u001b[0m11.54    \u001b[0m |\n",
      "| \u001b[0m9        \u001b[0m | \u001b[0m0.7054   \u001b[0m | \u001b[0m0.978    \u001b[0m | \u001b[0m0.8866   \u001b[0m | \u001b[0m0.24     \u001b[0m | \u001b[0m4.735e+03\u001b[0m | \u001b[0m64.69    \u001b[0m | \u001b[0m0.05351  \u001b[0m | \u001b[0m12.02    \u001b[0m | \u001b[0m37.2     \u001b[0m |\n",
      "| \u001b[0m10       \u001b[0m | \u001b[0m0.7092   \u001b[0m | \u001b[0m0.989    \u001b[0m | \u001b[0m0.7662   \u001b[0m | \u001b[0m0.2053   \u001b[0m | \u001b[0m4.746e+03\u001b[0m | \u001b[0m111.7    \u001b[0m | \u001b[0m0.04616  \u001b[0m | \u001b[0m31.5     \u001b[0m | \u001b[0m3.138    \u001b[0m |\n",
      "| \u001b[0m11       \u001b[0m | \u001b[0m0.706    \u001b[0m | \u001b[0m0.9901   \u001b[0m | \u001b[0m0.7797   \u001b[0m | \u001b[0m0.1295   \u001b[0m | \u001b[0m4.706e+03\u001b[0m | \u001b[0m89.92    \u001b[0m | \u001b[0m0.02122  \u001b[0m | \u001b[0m10.07    \u001b[0m | \u001b[0m36.34    \u001b[0m |\n",
      "| \u001b[0m12       \u001b[0m | \u001b[0m0.7072   \u001b[0m | \u001b[0m0.9945   \u001b[0m | \u001b[0m0.7721   \u001b[0m | \u001b[0m0.02904  \u001b[0m | \u001b[0m4.711e+03\u001b[0m | \u001b[0m74.84    \u001b[0m | \u001b[0m0.02862  \u001b[0m | \u001b[0m44.54    \u001b[0m | \u001b[0m32.25    \u001b[0m |\n",
      "| \u001b[0m13       \u001b[0m | \u001b[0m0.7026   \u001b[0m | \u001b[0m0.9845   \u001b[0m | \u001b[0m0.8319   \u001b[0m | \u001b[0m0.224    \u001b[0m | \u001b[0m4.704e+03\u001b[0m | \u001b[0m62.01    \u001b[0m | \u001b[0m0.04982  \u001b[0m | \u001b[0m9.975    \u001b[0m | \u001b[0m21.73    \u001b[0m |\n",
      "| \u001b[0m14       \u001b[0m | \u001b[0m0.7091   \u001b[0m | \u001b[0m0.9731   \u001b[0m | \u001b[0m0.9777   \u001b[0m | \u001b[0m0.2198   \u001b[0m | \u001b[0m2.773e+03\u001b[0m | \u001b[0m59.99    \u001b[0m | \u001b[0m0.0311   \u001b[0m | \u001b[0m34.29    \u001b[0m | \u001b[0m40.44    \u001b[0m |\n",
      "| \u001b[0m15       \u001b[0m | \u001b[0m0.7046   \u001b[0m | \u001b[0m0.9501   \u001b[0m | \u001b[0m0.7732   \u001b[0m | \u001b[0m0.09686  \u001b[0m | \u001b[0m2.74e+03 \u001b[0m | \u001b[0m42.57    \u001b[0m | \u001b[0m0.08392  \u001b[0m | \u001b[0m49.52    \u001b[0m | \u001b[0m40.76    \u001b[0m |\n",
      "=========================================================================================================================\n",
      "boosting_type = goss\n",
      "|   iter    |  target   | consta... | correl... | learni... | n_esti... | num_le... | rare_e... | reg_alpha | reg_la... |\n",
      "-------------------------------------------------------------------------------------------------------------------------\n",
      "| \u001b[0m1        \u001b[0m | \u001b[0m0.7038   \u001b[0m | \u001b[0m0.9769   \u001b[0m | \u001b[0m0.9074   \u001b[0m | \u001b[0m0.1547   \u001b[0m | \u001b[0m2.747e+03\u001b[0m | \u001b[0m56.6     \u001b[0m | \u001b[0m0.06813  \u001b[0m | \u001b[0m21.88    \u001b[0m | \u001b[0m44.59    \u001b[0m |\n",
      "| \u001b[0m2        \u001b[0m | \u001b[0m0.6776   \u001b[0m | \u001b[0m0.9972   \u001b[0m | \u001b[0m0.8112   \u001b[0m | \u001b[0m0.2      \u001b[0m | \u001b[0m2.668e+03\u001b[0m | \u001b[0m72.48    \u001b[0m | \u001b[0m0.0933   \u001b[0m | \u001b[0m3.552    \u001b[0m | \u001b[0m4.356    \u001b[0m |\n",
      "| \u001b[0m3        \u001b[0m | \u001b[0m0.6914   \u001b[0m | \u001b[0m0.951    \u001b[0m | \u001b[0m0.9415   \u001b[0m | \u001b[0m0.1968   \u001b[0m | \u001b[0m4.357e+03\u001b[0m | \u001b[0m117.6    \u001b[0m | \u001b[0m0.08192  \u001b[0m | \u001b[0m23.07    \u001b[0m | \u001b[0m39.03    \u001b[0m |\n",
      "| \u001b[95m4        \u001b[0m | \u001b[95m0.7065   \u001b[0m | \u001b[95m0.9558   \u001b[0m | \u001b[95m0.8856   \u001b[0m | \u001b[95m0.0444   \u001b[0m | \u001b[95m4.726e+03\u001b[0m | \u001b[95m67.4     \u001b[0m | \u001b[95m0.04732  \u001b[0m | \u001b[95m13.23    \u001b[0m | \u001b[95m38.71    \u001b[0m |\n",
      "| \u001b[95m5        \u001b[0m | \u001b[95m0.7098   \u001b[0m | \u001b[95m0.9724   \u001b[0m | \u001b[95m0.8648   \u001b[0m | \u001b[95m0.01451  \u001b[0m | \u001b[95m3.107e+03\u001b[0m | \u001b[95m77.33    \u001b[0m | \u001b[95m0.06552  \u001b[0m | \u001b[95m47.19    \u001b[0m | \u001b[95m34.09    \u001b[0m |\n",
      "| \u001b[0m6        \u001b[0m | \u001b[0m0.7009   \u001b[0m | \u001b[0m0.9859   \u001b[0m | \u001b[0m0.7406   \u001b[0m | \u001b[0m0.07166  \u001b[0m | \u001b[0m4.72e+03 \u001b[0m | \u001b[0m61.15    \u001b[0m | \u001b[0m0.06792  \u001b[0m | \u001b[0m12.79    \u001b[0m | \u001b[0m47.99    \u001b[0m |\n",
      "| \u001b[0m7        \u001b[0m | \u001b[0m0.6941   \u001b[0m | \u001b[0m0.9673   \u001b[0m | \u001b[0m0.7629   \u001b[0m | \u001b[0m0.1495   \u001b[0m | \u001b[0m3.1e+03  \u001b[0m | \u001b[0m71.47    \u001b[0m | \u001b[0m0.09376  \u001b[0m | \u001b[0m14.61    \u001b[0m | \u001b[0m39.34    \u001b[0m |\n",
      "| \u001b[0m8        \u001b[0m | \u001b[0m0.7082   \u001b[0m | \u001b[0m0.9952   \u001b[0m | \u001b[0m0.7474   \u001b[0m | \u001b[0m0.03482  \u001b[0m | \u001b[0m3.122e+03\u001b[0m | \u001b[0m69.63    \u001b[0m | \u001b[0m0.08773  \u001b[0m | \u001b[0m47.67    \u001b[0m | \u001b[0m42.17    \u001b[0m |\n",
      "| \u001b[0m9        \u001b[0m | \u001b[0m0.6855   \u001b[0m | \u001b[0m0.978    \u001b[0m | \u001b[0m0.8866   \u001b[0m | \u001b[0m0.24     \u001b[0m | \u001b[0m4.735e+03\u001b[0m | \u001b[0m64.69    \u001b[0m | \u001b[0m0.05351  \u001b[0m | \u001b[0m12.02    \u001b[0m | \u001b[0m37.2     \u001b[0m |\n",
      "| \u001b[0m10       \u001b[0m | \u001b[0m0.7086   \u001b[0m | \u001b[0m0.9788   \u001b[0m | \u001b[0m0.7382   \u001b[0m | \u001b[0m0.04363  \u001b[0m | \u001b[0m384.9    \u001b[0m | \u001b[0m117.3    \u001b[0m | \u001b[0m0.0828   \u001b[0m | \u001b[0m30.44    \u001b[0m | \u001b[0m4.359    \u001b[0m |\n",
      "| \u001b[0m11       \u001b[0m | \u001b[0m0.702    \u001b[0m | \u001b[0m0.9922   \u001b[0m | \u001b[0m0.8262   \u001b[0m | \u001b[0m0.1057   \u001b[0m | \u001b[0m2.917e+03\u001b[0m | \u001b[0m76.05    \u001b[0m | \u001b[0m0.04535  \u001b[0m | \u001b[0m17.51    \u001b[0m | \u001b[0m43.0     \u001b[0m |\n",
      "| \u001b[0m12       \u001b[0m | \u001b[0m0.7095   \u001b[0m | \u001b[0m0.9787   \u001b[0m | \u001b[0m0.9699   \u001b[0m | \u001b[0m0.1354   \u001b[0m | \u001b[0m1.554e+03\u001b[0m | \u001b[0m107.4    \u001b[0m | \u001b[0m0.02774  \u001b[0m | \u001b[0m34.13    \u001b[0m | \u001b[0m18.62    \u001b[0m |\n",
      "| \u001b[95m13       \u001b[0m | \u001b[95m0.7108   \u001b[0m | \u001b[95m0.9887   \u001b[0m | \u001b[95m0.7021   \u001b[0m | \u001b[95m0.07697  \u001b[0m | \u001b[95m3.026e+03\u001b[0m | \u001b[95m31.61    \u001b[0m | \u001b[95m0.03634  \u001b[0m | \u001b[95m35.23    \u001b[0m | \u001b[95m44.89    \u001b[0m |\n",
      "| \u001b[0m14       \u001b[0m | \u001b[0m0.6929   \u001b[0m | \u001b[0m0.9652   \u001b[0m | \u001b[0m0.9437   \u001b[0m | \u001b[0m0.229    \u001b[0m | \u001b[0m4.437e+03\u001b[0m | \u001b[0m75.66    \u001b[0m | \u001b[0m0.0661   \u001b[0m | \u001b[0m22.42    \u001b[0m | \u001b[0m40.7     \u001b[0m |\n",
      "| \u001b[0m15       \u001b[0m | \u001b[0m0.7001   \u001b[0m | \u001b[0m0.9958   \u001b[0m | \u001b[0m0.7702   \u001b[0m | \u001b[0m0.09209  \u001b[0m | \u001b[0m3.433e+03\u001b[0m | \u001b[0m44.81    \u001b[0m | \u001b[0m0.08533  \u001b[0m | \u001b[0m11.06    \u001b[0m | \u001b[0m9.014    \u001b[0m |\n",
      "=========================================================================================================================\n"
     ]
    }
   ],
   "source": [
    "# байесовский оптимизатор не работает с категориальными значениями, поэтому для \n",
    "# каждого типа бустинга будет проводится своя оптимизация гиперпараметров\n",
    "\n",
    "best_score, best_parameters = 0.0, dict()\n",
    "for boosting_type in ('gbdt', 'goss'):\n",
    "\n",
    "    print(f'boosting_type = {boosting_type}')\n",
    "    optimizer = BayesianOptimization(\n",
    "        partial(optimize_lightgbm, boosting_type=boosting_type), \n",
    "        optimizing_parameters, random_state=RANDOM_SEED)\n",
    "    optimizer.maximize(init_points=5, n_iter=10)\n",
    "    \n",
    "    if best_score < optimizer.max['target']:\n",
    "        best_score = optimizer.max['target']\n",
    "        best_parameters.update(optimizer.max['params'])\n",
    "        best_parameters['boosting_type'] = boosting_type"
   ]
  },
  {
   "cell_type": "code",
   "execution_count": 252,
   "id": "38274c1a-629b-4882-9f2d-de35382501a2",
   "metadata": {
    "colab": {
     "base_uri": "https://localhost:8080/"
    },
    "id": "npzZvZ_Um2yH",
    "outputId": "8bff58c0-0014-4216-c895-e2ab6a3032df"
   },
   "outputs": [
    {
     "name": "stdout",
     "output_type": "stream",
     "text": [
      "Лучшее значение метрики ROC-AUC=0.711314521294548 при параметрах:\n",
      "\n",
      "constant_dropper_tol = 0.9557954468675777\n",
      "correlated_dropper_threshold = 0.8855770961849819\n",
      "learning_rate = 0.044404788978171135\n",
      "n_estimators = 4726.111139395441\n",
      "num_leaves = 67.40331539250789\n",
      "rare_encoder_tol = 0.04731957459914713\n",
      "reg_alpha = 13.227780605231349\n",
      "reg_lambda = 38.71168447171083\n",
      "boosting_type = gbdt\n"
     ]
    }
   ],
   "source": [
    "print(f'Лучшее значение метрики ROC-AUC={best_score} при параметрах:\\n')\n",
    "for param, value in best_parameters.items():\n",
    "    print(f'{param} = {value}')"
   ]
  },
  {
   "cell_type": "markdown",
   "id": "79d332e9-611f-477f-803e-d048cfec4620",
   "metadata": {
    "id": "n-mXUuF72-6z",
    "tags": []
   },
   "source": [
    "## Оценка модели"
   ]
  },
  {
   "cell_type": "code",
   "execution_count": 253,
   "id": "dfda30a4-d290-44fb-b6fe-489f11c4149b",
   "metadata": {
    "id": "JWVR-muRJ77Y"
   },
   "outputs": [],
   "source": [
    "final_pipeline = Pipeline(steps=[\n",
    "\n",
    "    # Создание дополнительных признаков и\n",
    "    # Приведение датафрейма к удобному виду \n",
    "    ('indexer', FunctionTransformer(set_index)), \n",
    "    ('imputer', FunctionTransformer(fill_missings)), \n",
    "    ('engineer', FunctionTransformer(create_features)), \n",
    "    ('dropper', DropFeatures(['client_id', 'visit_date', 'visit_time', \n",
    "                              'device_screen_resolution'])), \n",
    "\n",
    "    # Преобразования численных переменных\n",
    "    ('normalization', YeoJohnsonTransformer()), \n",
    "    ('outlier_remover', Winsorizer()), \n",
    "    ('scaler', SklearnTransformerWrapper(StandardScaler())), \n",
    "\n",
    "    # Преобразования категориальных признаков\n",
    "    ('rare_encoder', RareLabelEncoder(tol=0.047319, replace_with='rare')),\n",
    "    ('onehot_encoder', OneHotEncoder(drop_last_binary=True)), \n",
    "    ('bool_converter', FunctionTransformer(converse_types)), \n",
    "\n",
    "    # Удаление дубликатов и коррелируемых признаков\n",
    "    ('constant_dropper', DropConstantFeatures(tol=0.95579)), \n",
    "    ('duplicated_dropper', DropDuplicateFeatures()), \n",
    "    ('correlated_dropper', DropCorrelatedFeatures(threshold=0.8856)), \n",
    "\n",
    "    # Лучшая модель с оптимизированными гиперпараметрами\n",
    "    ('model', LGBMClassifier(\n",
    "        random_state=RANDOM_SEED, learning_rate=0.04440, boosting_type='gbdt', \n",
    "        n_estimators=4726, reg_lambda=38.7116, reg_alpha=13.22778, num_leaves=67)), \n",
    "    \n",
    "])"
   ]
  },
  {
   "cell_type": "markdown",
   "id": "1ad9c36e-1fd3-4426-ab0a-f66d0f1914c3",
   "metadata": {
    "id": "oafZ3oICgABQ",
    "tags": []
   },
   "source": [
    "### Метрики модели\n",
    "\n",
    "Для оценки метрик модели обучим её на объектах тренировочной и валидационной выборках и сделаем предсказания на тестовых данных. \n",
    "\n",
    "Целевая метрика `roc-auc=0.6534` (для пресказанных классов) выбранной модели превосходит 0.65, а значит, цель работы выполнена.\n",
    "\n",
    "Хотя метрика `f1=0.0849` довольно низкая, что неудивительно при большом количестве неверно классифицированных объектов нулевого класса.\n",
    "\n",
    "У модели наблюдается совсем небольшое переобучение."
   ]
  },
  {
   "cell_type": "code",
   "execution_count": 254,
   "id": "071b3339-d772-4929-baec-37c4261877d2",
   "metadata": {
    "id": "5PrafZ4L3Xnj"
   },
   "outputs": [],
   "source": [
    "final_pipeline.fit(X, y);"
   ]
  },
  {
   "cell_type": "code",
   "execution_count": 255,
   "id": "35458768-29bb-492c-86d7-f3bae30d83b2",
   "metadata": {
    "colab": {
     "base_uri": "https://localhost:8080/"
    },
    "id": "Y3sbdVdEUgw0",
    "outputId": "bc65ace9-343b-4068-de62-f59b1de969c1"
   },
   "outputs": [
    {
     "name": "stdout",
     "output_type": "stream",
     "text": [
      "Лучший порог перевода вероятностей в класс: 0.025970171560173425\n"
     ]
    }
   ],
   "source": [
    "test_proba = final_pipeline.predict_proba(X_test)[:, 1]\n",
    "best_threshold = find_best_threshold(y_test, test_proba)\n",
    "test_prediction = (test_proba > best_threshold).astype(int)\n",
    "\n",
    "print(f'Лучший порог перевода вероятностей в класс: {best_threshold}')"
   ]
  },
  {
   "cell_type": "code",
   "execution_count": 256,
   "id": "bf65fafe-9126-482c-a441-9eff93e34ff2",
   "metadata": {
    "colab": {
     "base_uri": "https://localhost:8080/"
    },
    "id": "OMPFEzUXUgtP",
    "outputId": "4607bd5c-4aaf-41a3-e2d9-eb5f1f79eaeb"
   },
   "outputs": [
    {
     "name": "stdout",
     "output_type": "stream",
     "text": [
      "Метрики лучшей модели на обучающей выборке:\n",
      "Порог перевода вероятностей в классы: 0.025970171560173425\n",
      "0.7733082958232637 - roc_auc на вероятностях\n",
      "\n",
      "0.69832994 - roc_auc\n",
      "0.61846869 - accuracy\n",
      "0.05335695 - precision\n",
      "0.78275877 - recall\n",
      "0.09990393 - f1\n",
      "\n",
      "prediction|   0.0    |   1.0    \n",
      "true label|          |          \n",
      "--------------------------------\n",
      "       0.0|    991535|    623603\n",
      "       1.0|      9755|     35149\n"
     ]
    }
   ],
   "source": [
    "print(f'Метрики лучшей модели на обучающей выборке:')\n",
    "print_metrics(final_pipeline, X, y, best_threshold)"
   ]
  },
  {
   "cell_type": "code",
   "execution_count": 257,
   "id": "cb409464-2680-42c1-b7bd-5d785fe66387",
   "metadata": {
    "colab": {
     "base_uri": "https://localhost:8080/",
     "height": 589
    },
    "id": "QoGbh-kvJ5rI",
    "outputId": "06bda910-e7b9-4eb5-bb2d-426d8125927f"
   },
   "outputs": [
    {
     "name": "stdout",
     "output_type": "stream",
     "text": [
      "Метрики лучшей модели на тестовой выборке:\n",
      "Порог перевода вероятностей в классы: 0.025970171560173425\n",
      "0.7138627470108961 - roc_auc на вероятностях\n",
      "\n",
      "0.65279266 - roc_auc\n",
      "0.61286000 - accuracy\n",
      "0.04727300 - precision\n",
      "0.69500924 - recall\n",
      "0.08852474 - f1\n",
      "\n",
      "prediction|   0.0    |   1.0    \n",
      "true label|          |          \n",
      "--------------------------------\n",
      "       0.0|    118812|     75778\n",
      "       1.0|      1650|      3760\n",
      "\n"
     ]
    },
    {
     "data": {
      "image/png": "[encoded data removed]",
      "text/plain": [
       "<Figure size 504x288 with 1 Axes>"
      ]
     },
     "metadata": {
      "needs_background": "light"
     },
     "output_type": "display_data"
    }
   ],
   "source": [
    "print(f'Метрики лучшей модели на тестовой выборке:')\n",
    "print_metrics(\n",
    "    final_pipeline, X_test, y_test, best_threshold, show_roc_curve=True)"
   ]
  },
  {
   "cell_type": "markdown",
   "id": "aee5076d-756e-42fa-a4e5-e42f604131a2",
   "metadata": {
    "id": "rmqEm1P2nT94",
    "tags": []
   },
   "source": [
    "### Обучение на всех данных\n",
    "\n",
    "Для анализа обработки данных и важности признаков разобъём финальный конвейер на препроцессор и модель и обучим их на всех данных. А перед сохранением модели объединим обратно."
   ]
  },
  {
   "cell_type": "code",
   "execution_count": 258,
   "id": "80eb6add-d351-492f-b820-722a1b6138e2",
   "metadata": {
    "id": "40ri9TC6MbLJ"
   },
   "outputs": [],
   "source": [
    "final_model = final_pipeline.named_steps['model']\n",
    "final_preprocessor = final_pipeline.set_params(model=None)"
   ]
  },
  {
   "cell_type": "code",
   "execution_count": 259,
   "id": "3661db53-0665-4131-9e9b-091601da5446",
   "metadata": {
    "id": "Zb-xUv8GzPtR"
   },
   "outputs": [],
   "source": [
    "sessions_preprocessed = final_preprocessor.fit_transform(sessions)"
   ]
  },
  {
   "cell_type": "code",
   "execution_count": 260,
   "id": "c88b35d4-9cfd-46b8-a5e6-bcff6f745140",
   "metadata": {
    "id": "-kdJDViDVV6B"
   },
   "outputs": [],
   "source": [
    "final_model.fit(sessions_preprocessed, target);"
   ]
  },
  {
   "cell_type": "markdown",
   "id": "f2453418-a984-4876-b08b-d51e4a21e630",
   "metadata": {
    "id": "nAkkyr8O4wjG",
    "tags": []
   },
   "source": [
    "### Анализ обработки данных\n",
    "\n",
    "В итоге всех преобразований получается 62 признака, при том, что ещё 16 признаков были удалены из-за корреляций и т.п..\n",
    "\n",
    "Датасет имеет 175 034 дубликатов, но как показали эксперименты, удаление дубликатов из тренировочной выборки ведёт к небольшому ухудшению метрик. \n",
    "\n",
    "Признаков, коррелируемых с целевой переменной, нет."
   ]
  },
  {
   "cell_type": "code",
   "execution_count": 540,
   "id": "b5b13f86-110d-40ae-a553-d67b78b97922",
   "metadata": {
    "colab": {
     "base_uri": "https://localhost:8080/",
     "height": 319
    },
    "id": "O08IthBdYwd2",
    "outputId": "28a29ed1-06c0-441b-e5d0-c254e372a2f6"
   },
   "outputs": [
    {
     "data": {
      "text/plain": [
       "(1860042, 58)"
      ]
     },
     "execution_count": 540,
     "metadata": {},
     "output_type": "execute_result"
    }
   ],
   "source": [
    "sessions_preprocessed.shape"
   ]
  },
  {
   "cell_type": "code",
   "execution_count": 262,
   "id": "6d544cd4-40f7-429f-a84f-97c427d1a7bc",
   "metadata": {
    "colab": {
     "base_uri": "https://localhost:8080/"
    },
    "id": "5SWe0lAcbtwE",
    "outputId": "766f231b-d80e-4239-ccd6-5dbb824f3cc7"
   },
   "outputs": [
    {
     "name": "stdout",
     "output_type": "stream",
     "text": [
      "<class 'pandas.core.frame.DataFrame'>\n",
      "Index: 1860042 entries, 9055434745589932991.1637753792.1637753792 to 9055430416266113553.1640968742.1640968742\n",
      "Data columns (total 58 columns):\n",
      " #   Column                                                     Dtype  \n",
      "---  ------                                                     -----  \n",
      " 0   visit_number                                               float64\n",
      " 1   visit_date_weekday                                         float64\n",
      " 2   visit_date_weekend                                         float64\n",
      " 3   visit_date_day                                             float64\n",
      " 4   visit_time_hour                                            float64\n",
      " 5   visit_time_minute                                          float64\n",
      " 6   visit_time_night                                           float64\n",
      " 7   utm_medium_added_is_organic                                float64\n",
      " 8   utm_source_added_is_social                                 float64\n",
      " 9   device_screen_resolution_width                             float64\n",
      " 10  device_screen_resolution_height                            float64\n",
      " 11  device_screen_resolution_ratio                             float64\n",
      " 12  geo_city_added_is_moscow_region                            float64\n",
      " 13  geo_city_added_is_big                                      float64\n",
      " 14  geo_city_is_big_or_in_moscow_region                        float64\n",
      " 15  geo_city_added_distance_from_moscow                        float64\n",
      " 16  utm_source_ZpYIoDJMcFzVoPFsHGJL                            float64\n",
      " 17  utm_source_MvfHsxITijuriZxsqZqt                            float64\n",
      " 18  utm_source_kjsLglQLzykiRbcDiGcD                            float64\n",
      " 19  utm_source_rare                                            float64\n",
      " 20  utm_source_fDLlAcSmythWSCVMvqvL                            float64\n",
      " 21  utm_source_BHcvLfOaCWvWTykYqHVe                            float64\n",
      " 22  utm_source_bByPQxmDaMXgpHeypKSM                            float64\n",
      " 23  utm_medium_cpm                                             float64\n",
      " 24  utm_medium_cpc                                             float64\n",
      " 25  utm_medium_rare                                            float64\n",
      " 26  utm_medium_referral                                        float64\n",
      " 27  utm_campaign_LEoPHuyFvzoNfnzGgfcd                          float64\n",
      " 28  utm_campaign_(nan)                                         float64\n",
      " 29  utm_campaign_gecBYcKZCPMcVYdSSzKP                          float64\n",
      " 30  utm_campaign_rare                                          float64\n",
      " 31  utm_adcontent_vCIpmpaGBnIQhyYNkXqp                         float64\n",
      " 32  utm_adcontent_xhoenQgDQsgfEPYNPwKO                         float64\n",
      " 33  utm_adcontent_rare                                         float64\n",
      " 34  utm_adcontent_(nan)                                        float64\n",
      " 35  utm_adcontent_JNHcPlZPxEMWDnRiyoBf                         float64\n",
      " 36  utm_keyword_puhZPIYqKXeFPaUviSjo                           float64\n",
      " 37  utm_keyword_rare                                           float64\n",
      " 38  device_category_mobile                                     float64\n",
      " 39  device_os_Android                                          float64\n",
      " 40  device_os_iOS                                              float64\n",
      " 41  device_os_Windows                                          float64\n",
      " 42  device_brand_Huawei                                        float64\n",
      " 43  device_brand_Samsung                                       float64\n",
      " 44  device_brand_Xiaomi                                        float64\n",
      " 45  device_brand_Apple                                         float64\n",
      " 46  device_brand_rare                                          float64\n",
      " 47  device_browser_Chrome                                      float64\n",
      " 48  device_browser_rare                                        float64\n",
      " 49  device_browser_Safari                                      float64\n",
      " 50  device_browser_YaBrowser                                   float64\n",
      " 51  geo_city_rare                                              float64\n",
      " 52  geo_city_Moscow                                            float64\n",
      " 53  geo_city_Saint Petersburg                                  float64\n",
      " 54  geo_city_added_distance_from_moscow_category_1000-3000 km  float64\n",
      " 55  geo_city_added_distance_from_moscow_category_500-1000 km   float64\n",
      " 56  geo_city_added_distance_from_moscow_category_100-500 km    float64\n",
      " 57  geo_city_added_distance_from_moscow_category_no distance   float64\n",
      "dtypes: float64(58)\n",
      "memory usage: 837.3+ MB\n"
     ]
    }
   ],
   "source": [
    "sessions_preprocessed.info()"
   ]
  },
  {
   "cell_type": "code",
   "execution_count": 263,
   "id": "cb1c9191-a0b4-4aa6-b8b1-9066c8a01932",
   "metadata": {
    "colab": {
     "base_uri": "https://localhost:8080/"
    },
    "id": "ENj_Uf0YzbOl",
    "outputId": "f1eb2712-0b39-4b53-be2a-e71e4890b823"
   },
   "outputs": [
    {
     "name": "stdout",
     "output_type": "stream",
     "text": [
      "Количество дубликатов: 176667\n"
     ]
    }
   ],
   "source": [
    "print('Количество дубликатов:', sessions_preprocessed.duplicated().sum())"
   ]
  },
  {
   "cell_type": "code",
   "execution_count": 264,
   "id": "1f90dfb3-dfb9-4833-9128-f109f96c0e79",
   "metadata": {
    "colab": {
     "base_uri": "https://localhost:8080/"
    },
    "id": "f2yUUnezly5y",
    "outputId": "3d868753-ff6c-4bff-a229-6903cb26ce07"
   },
   "outputs": [
    {
     "name": "stdout",
     "output_type": "stream",
     "text": [
      "Корреляция с целевой переменной:\n"
     ]
    },
    {
     "data": {
      "text/plain": [
       "target                                1.000000\n",
       "utm_medium_added_is_organic           0.050813\n",
       "utm_medium_referral                   0.049207\n",
       "utm_adcontent_JNHcPlZPxEMWDnRiyoBf    0.044788\n",
       "utm_source_bByPQxmDaMXgpHeypKSM       0.040561\n",
       "Name: target, dtype: float64"
      ]
     },
     "execution_count": 264,
     "metadata": {},
     "output_type": "execute_result"
    }
   ],
   "source": [
    "print('Корреляция с целевой переменной:')\n",
    "correlation = pd.concat([sessions_preprocessed, target], axis=1).corr()\n",
    "correlation['target'].sort_values(ascending=False, key=abs).head(5)"
   ]
  },
  {
   "cell_type": "markdown",
   "id": "607c5685-2046-492e-a12e-c33202598cb7",
   "metadata": {
    "id": "pCDZ_HVmgDaJ",
    "tags": []
   },
   "source": [
    "### Важность признаков\n",
    "\n",
    "Самыми важными признаками после преобразования оказались численные переменные: день (месяца и недели), час, минута (скорее всего именно нулевая минута часа) и номер посещения, размеры экрана и расстояние до Москвы.\n",
    "\n",
    "После этих признаков важность остальных сильно падает. Возможно такова особенность работы с категориальными признаками (особенно с большим количеством неравномерно распределенных уникальных значений).\n",
    "\n",
    "Самыми важными исходными признаками окзаались: размеры экрана, дата, время и номер посещения, город пользователя, а также признаки с дополнительными данными (как индикатор органического трафика). "
   ]
  },
  {
   "cell_type": "code",
   "execution_count": 265,
   "id": "b5a531b7-3590-4c58-8550-a5b41b81fcc5",
   "metadata": {
    "colab": {
     "base_uri": "https://localhost:8080/"
    },
    "id": "YL5n0vtek5-h",
    "outputId": "df021af6-99c0-4b38-87a9-76d4b78be43a"
   },
   "outputs": [
    {
     "name": "stdout",
     "output_type": "stream",
     "text": [
      "Признаки, удалённые во время feature selection\n",
      "\n",
      "constant_dropper:\n",
      "\tvisit_date_added_holiday\n",
      "\tdevice_screen_resolution_area\n",
      "\tdevice_category_tablet\n",
      "\tdevice_os_rare\n",
      "\tdevice_model_(nan)\n",
      "\tgeo_country_Russia\n",
      "\tgeo_city_added_distance_from_moscow_category_>= 3000 km\n",
      "duplicated_dropper:\n",
      "\tgeo_city_added_distance_from_moscow_category_moscow\n",
      "\tutm_medium_(none)\n",
      "correlated_dropper:\n",
      "\tutm_keyword_(nan)\n",
      "\tutm_campaign_FTjNLDyTrXaWYgZymFkV\n",
      "\tdevice_category_desktop\n",
      "\tgeo_city_added_distance_from_moscow_category_< 100 km\n",
      "\tdevice_os_(nan)\n",
      "\tdevice_brand_(nan)\n",
      "\tutm_campaign_LTuZkdKfxRGVceoWkVyg\n",
      "\tutm_medium_banner\n",
      "\tdevice_screen_resolution_ratio_greater_1\n",
      "Всего удалено: 18\n"
     ]
    }
   ],
   "source": [
    "print('Признаки, удалённые во время feature selection\\n')\n",
    "all = 0\n",
    "\n",
    "for step in ('constant_dropper', 'duplicated_dropper', 'correlated_dropper'):\n",
    "    print(step + ':')\n",
    "    for column in final_preprocessor.named_steps[step].features_to_drop_:\n",
    "        print(f'\\t{column}')\n",
    "        all += 1\n",
    "\n",
    "print(f'Всего удалено: {all}')"
   ]
  },
  {
   "cell_type": "code",
   "execution_count": 266,
   "id": "beb07ea2-ff9e-4855-b1f6-5aba3e252efe",
   "metadata": {
    "id": "zUGLmCB4gvWu"
   },
   "outputs": [],
   "source": [
    "feature_importance = pd.Series(\n",
    "    data=final_model.feature_importances_, \n",
    "    index=sessions_preprocessed.columns)"
   ]
  },
  {
   "cell_type": "code",
   "execution_count": 267,
   "id": "c200abc8-f2ed-4e3e-91bb-f96089ecc10b",
   "metadata": {
    "colab": {
     "base_uri": "https://localhost:8080/",
     "height": 608
    },
    "id": "virCtTBOgvSl",
    "outputId": "ce6e6a81-84b8-49d3-ed51-534ce311ad13"
   },
   "outputs": [
    {
     "data": {
      "image/png": "[encoded data removed]",
      "text/plain": [
       "<Figure size 1152x720 with 1 Axes>"
      ]
     },
     "metadata": {
      "needs_background": "light"
     },
     "output_type": "display_data"
    }
   ],
   "source": [
    "plt.figure(figsize=(16, 10))\n",
    "most_important = feature_importance.sort_values(ascending=False).head(25)\n",
    "sns.barplot(x=most_important, y=most_important.index, orient='h')\n",
    "plt.title('Самые важные признаки после преобразования');"
   ]
  },
  {
   "cell_type": "code",
   "execution_count": 268,
   "id": "48727f10-5b52-4f0a-ba42-f7a28fdc8d56",
   "metadata": {
    "id": "H0QGo6sROydQ"
   },
   "outputs": [],
   "source": [
    "# Из важности производных признаков получим важность оригинальных\n",
    "# Также получим важность признаков с добавленными данными '_added_'\n",
    "\n",
    "original_columns = list(sessions.columns) + ['_added_']\n",
    "column_importances = list()\n",
    "for col in original_columns:\n",
    "    imp = feature_importance[feature_importance.index.str.contains(col)].sum()\n",
    "    column_importances.append(imp)\n",
    "\n",
    "column_importances = pd.Series(column_importances, index=original_columns)\n",
    "column_importances.sort_values(ascending=False, inplace=True)"
   ]
  },
  {
   "cell_type": "code",
   "execution_count": 269,
   "id": "9b40f5b3-3ce7-41d8-8084-e6290d79ac85",
   "metadata": {
    "colab": {
     "base_uri": "https://localhost:8080/",
     "height": 607
    },
    "id": "tglso3v3VOFB",
    "outputId": "c0fb8d2c-2f6e-4de5-ac17-7900970cd957"
   },
   "outputs": [
    {
     "data": {
      "image/png": "[encoded data removed]",
      "text/plain": [
       "<Figure size 1296x720 with 1 Axes>"
      ]
     },
     "metadata": {
      "needs_background": "light"
     },
     "output_type": "display_data"
    }
   ],
   "source": [
    "plt.figure(figsize=(18, 10))\n",
    "sns.barplot(x=column_importances, y=column_importances.index, orient='h')\n",
    "plt.title('Важность оригинальных признаков');"
   ]
  },
  {
   "cell_type": "markdown",
   "id": "caf6e11f-32dd-402c-a10d-346bfd54bba0",
   "metadata": {
    "id": "SD8WsuyWgHfD",
    "tags": []
   },
   "source": [
    "### Сохранение модели"
   ]
  },
  {
   "cell_type": "code",
   "execution_count": 589,
   "id": "fe92d155-cb94-4eb6-b8c6-0f977e742f6f",
   "metadata": {
    "id": "XiidXrOEY8bU"
   },
   "outputs": [],
   "source": [
    "# Объединим препроцессор и модель обратно\n",
    "\n",
    "final_pipeline = final_preprocessor.set_params(model=final_model)"
   ]
  },
  {
   "cell_type": "code",
   "execution_count": 591,
   "id": "f32d4805-27d6-4127-9735-600928899e0c",
   "metadata": {
    "id": "OAGb1h73XpXq"
   },
   "outputs": [],
   "source": [
    "# Добавим метаданные для модели\n",
    "\n",
    "metadata = {\n",
    "    'name': 'SberAutopodpiska: target event prediction', \n",
    "    'descripton': ('Модель по предсказанию совершения пользователем одного из '\n",
    "                   'целевых действий \"Заказать звонок\" или \"Оставить заявку\" '\n",
    "                   'на сайте сервиса СберАвтоподписка.'), \n",
    "    'model_type': final_model.__class__.__name__, \n",
    "    'version': 1.1, \n",
    "    'training_datetime': datetime.now(), \n",
    "    'author': 'Demir Uzun', \n",
    "    'threshold': best_threshold, \n",
    "    'metrics': {\n",
    "        'roc_auc': roc_auc_score(y_test, test_proba), \n",
    "        'roc_auc_by_class': roc_auc_score(y_test, test_prediction),\n",
    "        'accuracy': accuracy_score(y_test, test_prediction), \n",
    "        'precision': precision_score(y_test, test_prediction), \n",
    "        'recall': recall_score(y_test, test_prediction), \n",
    "        'f1': f1_score(y_test, test_prediction),\n",
    "    }\n",
    "}\n",
    "\n",
    "final_pipeline.metadata = metadata"
   ]
  },
  {
   "cell_type": "code",
   "execution_count": 592,
   "id": "4df262ee-b770-42e6-b038-ba2a5c7b38c3",
   "metadata": {
    "id": "y_UVM_E4XeSH"
   },
   "outputs": [],
   "source": [
    "# Сохраним модель\n",
    "\n",
    "models_folder.mkdir(exist_ok=True)\n",
    "filename = f'model_{datetime.now():%Y%m%d%H%M%S}.pkl'\n",
    "\n",
    "with open(models_folder / filename, 'wb') as file:\n",
    "    dill.dump(final_pipeline, file)"
   ]
  },
  {
   "cell_type": "markdown",
   "id": "0bb39fad-d0da-41be-9105-f20ee93dc2b1",
   "metadata": {
    "id": "YuL-rxUw4JmK"
   },
   "source": [
    "## Выводы"
   ]
  },
  {
   "cell_type": "markdown",
   "id": "768b39bc-e7fe-4b36-b22d-c4da4e389eb2",
   "metadata": {
    "id": "Cq2Ps1_Ymsw4"
   },
   "source": [
    "Для преобразования входных данных, со структурой как в файле `ga_sessions.csv`, в удобный для предсказания вид понадобилось четыре этапа:\n",
    "1. Заполнение пропусков и генерация признаков. В том числе добавление новых данных, как-то органический трафик или расстояние до Москвы.\n",
    "2. Преобразование численных переменных: нормализация и удаление выбросов.\n",
    "3. Преобразование категориальных признаков. Основная сложность с ними была в многообразии редких уникальных значений. В итоге только самые популярные значения были закодированы методом one-hot.\n",
    "4. Удаление дублирующих и коррелируемых признаков. Признаки могут коррелировать до 0.95, но именно с таким порогом финальная модель даёт лучший результат.\n",
    "\n",
    "Было проверено 10 моделей с гиперпараметрами по умолчанию. В тройке лучших оказались алгоритмы бустинга от sklearn, lightgbm и catboost.\n",
    "\n",
    "В итоге в качестве лучшей модели был выбран `LightGBM` по следующим причинам: \n",
    "+ Один из лучших показателей `roc_auc`.\n",
    "+ Быстрое обучение. \n",
    "+ Модель интерпретируема, то есть можно получить показатели важности признаков.\n",
    "+ Может предсказывать вероятность класса.\n",
    "+ Нет проблем с процессорами без SSE4 как у CatBoost.\n",
    "\n",
    "Шаг оптимизации модели помог выбрать лучшие гиперпараметры для модели: n_estimators=800, learning_rate=0.07, reg_lambda=10, num_leaves=26, reg_alpha=10, boosting_type='goss'.\n",
    "\n",
    "Качество модели по метрике `roc-auc` составляет **0.7148** (0.6535 при предсказании классов). Но метрика `f1`=0.0871 оставляет желать лучшего. Тем не менее, переобучения нет и цель проекта выполнена - `roc-auc` > 0.65.\n",
    "\n",
    "Для улучшения качества предсказания можно было бы: \n",
    "1. Увеличить количество данных. Тестовая выборка пойдёт на дообучение модели, так что может модель будет лучше в конечном итоге.\n",
    "2. Провести ребалансировку классов. Но если уменьшить выборку с отрицательной целевой переменной, то модель теряет в качестве, а если увеличивать выборку с положительным классом, то модели обучаются слишком долго. \n",
    "3. Провести более тщательный поиск наилучших гиперпараметров - это займёт много времени, а прирост качества будет небольшим. \n",
    "4. Провести дополнительную генерацию признаков. Но хорошие идеи придумывать сложно.\n",
    "5. Попробовать более сложные модели, например, нейронные сети глубокого обучения. "
   ]
  },
  {
   "cell_type": "code",
   "execution_count": 593,
   "id": "19217d2f-faac-4cee-a187-f9d1330df04a",
   "metadata": {},
   "outputs": [],
   "source": [
    "import json\n"
   ]
  },
  {
   "cell_type": "code",
   "execution_count": 622,
   "id": "c6f079ff-e3aa-4c11-ab90-50890471814d",
   "metadata": {},
   "outputs": [],
   "source": [
    "with open('data/exemples/examples.json', 'rb') as file:\n",
    "    examples = json.load(file)"
   ]
  },
  {
   "cell_type": "code",
   "execution_count": 623,
   "id": "8734404d-5c3f-43d5-8a64-b08cea31ce3c",
   "metadata": {},
   "outputs": [
    {
     "name": "stdout",
     "output_type": "stream",
     "text": [
      "Запрос предсказания класса для одного объекта.\n"
     ]
    }
   ],
   "source": [
    "print('Запрос предсказания класса для одного объекта.')\n",
    "data = json.dumps(examples[0])#.encode(\"utf-8\")"
   ]
  },
  {
   "cell_type": "code",
   "execution_count": 655,
   "id": "84c3699c-7a5e-4e98-b018-ff7d31886dc3",
   "metadata": {},
   "outputs": [],
   "source": [
    "#df = pd.DataFrame.from_dict([examples[0]])\n",
    "df = pd.DataFrame.from_dict(examples)"
   ]
  },
  {
   "cell_type": "code",
   "execution_count": 657,
   "id": "04576a8c-c1b3-419c-8a0a-abd6f559f5af",
   "metadata": {},
   "outputs": [
    {
     "data": {
      "text/plain": [
       "(5, 18)"
      ]
     },
     "execution_count": 657,
     "metadata": {},
     "output_type": "execute_result"
    }
   ],
   "source": [
    "df.shape"
   ]
  },
  {
   "cell_type": "code",
   "execution_count": 625,
   "id": "b511a669-f69b-4d35-9d79-5715d1196353",
   "metadata": {},
   "outputs": [
    {
     "ename": "ValueError",
     "evalue": "Expected 2D array, got scalar array instead:\narray={\"session_id\": \"905544597018549464.1636867290.1636867290\", \"client_id\": \"210838531.1636867225\", \"visit_date\": \"2021-11-14\", \"visit_time\": \"08:21:30\", \"visit_number\": 1, \"utm_source\": \"MvfHsxITijuriZxsqZqt\", \"utm_medium\": \"cpm\", \"utm_campaign\": \"FTjNLDyTrXaWYgZymFkV\", \"utm_adcontent\": \"xhoenQgDQsgfEPYNPwKO\", \"utm_keyword\": \"IGUCNvHlhfHpROGclCit\", \"device_category\": \"mobile\", \"device_os\": \"Android\", \"device_brand\": \"Samsung\", \"device_model\": null, \"device_screen_resolution\": \"385x854\", \"device_browser\": \"Samsung Internet\", \"geo_country\": \"Russia\", \"geo_city\": \"Moscow\"}.\nReshape your data either using array.reshape(-1, 1) if your data has a single feature or array.reshape(1, -1) if it contains a single sample.",
     "output_type": "error",
     "traceback": [
      "\u001b[1;31m---------------------------------------------------------------------------\u001b[0m",
      "\u001b[1;31mValueError\u001b[0m                                Traceback (most recent call last)",
      "\u001b[1;32mC:\\Users\\HPZ2~1\\AppData\\Local\\Temp/ipykernel_9240/1972417851.py\u001b[0m in \u001b[0;36m<module>\u001b[1;34m\u001b[0m\n\u001b[1;32m----> 1\u001b[1;33m \u001b[0my\u001b[0m \u001b[1;33m=\u001b[0m \u001b[0mmodel\u001b[0m\u001b[1;33m[\u001b[0m\u001b[1;34m'model'\u001b[0m\u001b[1;33m]\u001b[0m\u001b[1;33m.\u001b[0m\u001b[0mpredict_proba\u001b[0m\u001b[1;33m(\u001b[0m\u001b[0mdata\u001b[0m\u001b[1;33m)\u001b[0m\u001b[1;33m[\u001b[0m\u001b[1;33m:\u001b[0m\u001b[1;33m,\u001b[0m \u001b[1;36m1\u001b[0m\u001b[1;33m]\u001b[0m\u001b[1;33m\u001b[0m\u001b[1;33m\u001b[0m\u001b[0m\n\u001b[0m",
      "\u001b[1;32m~\\anaconda3\\lib\\site-packages\\lightgbm\\sklearn.py\u001b[0m in \u001b[0;36mpredict_proba\u001b[1;34m(self, X, raw_score, start_iteration, num_iteration, pred_leaf, pred_contrib, **kwargs)\u001b[0m\n\u001b[0;32m    995\u001b[0m                       pred_leaf=False, pred_contrib=False, **kwargs):\n\u001b[0;32m    996\u001b[0m         \u001b[1;34m\"\"\"Docstring is set after definition, using a template.\"\"\"\u001b[0m\u001b[1;33m\u001b[0m\u001b[1;33m\u001b[0m\u001b[0m\n\u001b[1;32m--> 997\u001b[1;33m         \u001b[0mresult\u001b[0m \u001b[1;33m=\u001b[0m \u001b[0msuper\u001b[0m\u001b[1;33m(\u001b[0m\u001b[1;33m)\u001b[0m\u001b[1;33m.\u001b[0m\u001b[0mpredict\u001b[0m\u001b[1;33m(\u001b[0m\u001b[0mX\u001b[0m\u001b[1;33m,\u001b[0m \u001b[0mraw_score\u001b[0m\u001b[1;33m,\u001b[0m \u001b[0mstart_iteration\u001b[0m\u001b[1;33m,\u001b[0m \u001b[0mnum_iteration\u001b[0m\u001b[1;33m,\u001b[0m \u001b[0mpred_leaf\u001b[0m\u001b[1;33m,\u001b[0m \u001b[0mpred_contrib\u001b[0m\u001b[1;33m,\u001b[0m \u001b[1;33m**\u001b[0m\u001b[0mkwargs\u001b[0m\u001b[1;33m)\u001b[0m\u001b[1;33m\u001b[0m\u001b[1;33m\u001b[0m\u001b[0m\n\u001b[0m\u001b[0;32m    998\u001b[0m         \u001b[1;32mif\u001b[0m \u001b[0mcallable\u001b[0m\u001b[1;33m(\u001b[0m\u001b[0mself\u001b[0m\u001b[1;33m.\u001b[0m\u001b[0m_objective\u001b[0m\u001b[1;33m)\u001b[0m \u001b[1;32mand\u001b[0m \u001b[1;32mnot\u001b[0m \u001b[1;33m(\u001b[0m\u001b[0mraw_score\u001b[0m \u001b[1;32mor\u001b[0m \u001b[0mpred_leaf\u001b[0m \u001b[1;32mor\u001b[0m \u001b[0mpred_contrib\u001b[0m\u001b[1;33m)\u001b[0m\u001b[1;33m:\u001b[0m\u001b[1;33m\u001b[0m\u001b[1;33m\u001b[0m\u001b[0m\n\u001b[0;32m    999\u001b[0m             _log_warning(\"Cannot compute class probabilities or labels \"\n",
      "\u001b[1;32m~\\anaconda3\\lib\\site-packages\\lightgbm\\sklearn.py\u001b[0m in \u001b[0;36mpredict\u001b[1;34m(self, X, raw_score, start_iteration, num_iteration, pred_leaf, pred_contrib, **kwargs)\u001b[0m\n\u001b[0;32m    795\u001b[0m             \u001b[1;32mraise\u001b[0m \u001b[0mLGBMNotFittedError\u001b[0m\u001b[1;33m(\u001b[0m\u001b[1;34m\"Estimator not fitted, call fit before exploiting the model.\"\u001b[0m\u001b[1;33m)\u001b[0m\u001b[1;33m\u001b[0m\u001b[1;33m\u001b[0m\u001b[0m\n\u001b[0;32m    796\u001b[0m         \u001b[1;32mif\u001b[0m \u001b[1;32mnot\u001b[0m \u001b[0misinstance\u001b[0m\u001b[1;33m(\u001b[0m\u001b[0mX\u001b[0m\u001b[1;33m,\u001b[0m \u001b[1;33m(\u001b[0m\u001b[0mpd_DataFrame\u001b[0m\u001b[1;33m,\u001b[0m \u001b[0mdt_DataTable\u001b[0m\u001b[1;33m)\u001b[0m\u001b[1;33m)\u001b[0m\u001b[1;33m:\u001b[0m\u001b[1;33m\u001b[0m\u001b[1;33m\u001b[0m\u001b[0m\n\u001b[1;32m--> 797\u001b[1;33m             \u001b[0mX\u001b[0m \u001b[1;33m=\u001b[0m \u001b[0m_LGBMCheckArray\u001b[0m\u001b[1;33m(\u001b[0m\u001b[0mX\u001b[0m\u001b[1;33m,\u001b[0m \u001b[0maccept_sparse\u001b[0m\u001b[1;33m=\u001b[0m\u001b[1;32mTrue\u001b[0m\u001b[1;33m,\u001b[0m \u001b[0mforce_all_finite\u001b[0m\u001b[1;33m=\u001b[0m\u001b[1;32mFalse\u001b[0m\u001b[1;33m)\u001b[0m\u001b[1;33m\u001b[0m\u001b[1;33m\u001b[0m\u001b[0m\n\u001b[0m\u001b[0;32m    798\u001b[0m         \u001b[0mn_features\u001b[0m \u001b[1;33m=\u001b[0m \u001b[0mX\u001b[0m\u001b[1;33m.\u001b[0m\u001b[0mshape\u001b[0m\u001b[1;33m[\u001b[0m\u001b[1;36m1\u001b[0m\u001b[1;33m]\u001b[0m\u001b[1;33m\u001b[0m\u001b[1;33m\u001b[0m\u001b[0m\n\u001b[0;32m    799\u001b[0m         \u001b[1;32mif\u001b[0m \u001b[0mself\u001b[0m\u001b[1;33m.\u001b[0m\u001b[0m_n_features\u001b[0m \u001b[1;33m!=\u001b[0m \u001b[0mn_features\u001b[0m\u001b[1;33m:\u001b[0m\u001b[1;33m\u001b[0m\u001b[1;33m\u001b[0m\u001b[0m\n",
      "\u001b[1;32m~\\anaconda3\\lib\\site-packages\\sklearn\\utils\\validation.py\u001b[0m in \u001b[0;36mcheck_array\u001b[1;34m(array, accept_sparse, accept_large_sparse, dtype, order, copy, force_all_finite, ensure_2d, allow_nd, ensure_min_samples, ensure_min_features, estimator, input_name)\u001b[0m\n\u001b[0;32m    892\u001b[0m             \u001b[1;31m# If input is scalar raise error\u001b[0m\u001b[1;33m\u001b[0m\u001b[1;33m\u001b[0m\u001b[0m\n\u001b[0;32m    893\u001b[0m             \u001b[1;32mif\u001b[0m \u001b[0marray\u001b[0m\u001b[1;33m.\u001b[0m\u001b[0mndim\u001b[0m \u001b[1;33m==\u001b[0m \u001b[1;36m0\u001b[0m\u001b[1;33m:\u001b[0m\u001b[1;33m\u001b[0m\u001b[1;33m\u001b[0m\u001b[0m\n\u001b[1;32m--> 894\u001b[1;33m                 raise ValueError(\n\u001b[0m\u001b[0;32m    895\u001b[0m                     \u001b[1;34m\"Expected 2D array, got scalar array instead:\\narray={}.\\n\"\u001b[0m\u001b[1;33m\u001b[0m\u001b[1;33m\u001b[0m\u001b[0m\n\u001b[0;32m    896\u001b[0m                     \u001b[1;34m\"Reshape your data either using array.reshape(-1, 1) if \"\u001b[0m\u001b[1;33m\u001b[0m\u001b[1;33m\u001b[0m\u001b[0m\n",
      "\u001b[1;31mValueError\u001b[0m: Expected 2D array, got scalar array instead:\narray={\"session_id\": \"905544597018549464.1636867290.1636867290\", \"client_id\": \"210838531.1636867225\", \"visit_date\": \"2021-11-14\", \"visit_time\": \"08:21:30\", \"visit_number\": 1, \"utm_source\": \"MvfHsxITijuriZxsqZqt\", \"utm_medium\": \"cpm\", \"utm_campaign\": \"FTjNLDyTrXaWYgZymFkV\", \"utm_adcontent\": \"xhoenQgDQsgfEPYNPwKO\", \"utm_keyword\": \"IGUCNvHlhfHpROGclCit\", \"device_category\": \"mobile\", \"device_os\": \"Android\", \"device_brand\": \"Samsung\", \"device_model\": null, \"device_screen_resolution\": \"385x854\", \"device_browser\": \"Samsung Internet\", \"geo_country\": \"Russia\", \"geo_city\": \"Moscow\"}.\nReshape your data either using array.reshape(-1, 1) if your data has a single feature or array.reshape(1, -1) if it contains a single sample."
     ]
    }
   ],
   "source": [
    "y = model['model'].predict_proba(data)[:, 1]"
   ]
  },
  {
   "cell_type": "code",
   "execution_count": 627,
   "id": "21bda15e-6e92-45d7-816d-b83e0232f925",
   "metadata": {},
   "outputs": [
    {
     "ename": "AttributeError",
     "evalue": "'str' object has no attribute 'reshape'",
     "output_type": "error",
     "traceback": [
      "\u001b[1;31m---------------------------------------------------------------------------\u001b[0m",
      "\u001b[1;31mAttributeError\u001b[0m                            Traceback (most recent call last)",
      "\u001b[1;32mC:\\Users\\HPZ2~1\\AppData\\Local\\Temp/ipykernel_9240/1725176514.py\u001b[0m in \u001b[0;36m<module>\u001b[1;34m\u001b[0m\n\u001b[1;32m----> 1\u001b[1;33m \u001b[0mdata\u001b[0m\u001b[1;33m.\u001b[0m\u001b[0mreshape\u001b[0m\u001b[1;33m(\u001b[0m\u001b[1;33m-\u001b[0m\u001b[1;36m1\u001b[0m\u001b[1;33m,\u001b[0m \u001b[1;36m1\u001b[0m\u001b[1;33m)\u001b[0m\u001b[1;33m\u001b[0m\u001b[1;33m\u001b[0m\u001b[0m\n\u001b[0m",
      "\u001b[1;31mAttributeError\u001b[0m: 'str' object has no attribute 'reshape'"
     ]
    }
   ],
   "source": [
    "data.reshape(-1, 1)"
   ]
  },
  {
   "cell_type": "code",
   "execution_count": 629,
   "id": "c20ee7e8-f839-4747-9050-bbb78298cbf8",
   "metadata": {
    "id": "JWVR-muRJ77Y"
   },
   "outputs": [],
   "source": [
    "my_pipi = Pipeline(steps=[\n",
    "\n",
    "    # Создание дополнительных признаков и\n",
    "    # Приведение датафрейма к удобному виду \n",
    "    ('indexer', FunctionTransformer(set_index)), \n",
    "    ('imputer', FunctionTransformer(fill_missings)), \n",
    "    ('engineer', FunctionTransformer(create_features)), \n",
    "    ('dropper', DropFeatures(['client_id', 'visit_date', 'visit_time', \n",
    "                              'device_screen_resolution'])), \n",
    "\n",
    "    # Преобразования численных переменных\n",
    "    ('normalization', YeoJohnsonTransformer()), \n",
    "    ('outlier_remover', Winsorizer()), \n",
    "    ('scaler', SklearnTransformerWrapper(StandardScaler())), \n",
    "\n",
    "    # Преобразования категориальных признаков\n",
    "    ('rare_encoder', RareLabelEncoder(tol=0.047319, replace_with='rare')),\n",
    "    ('onehot_encoder', OneHotEncoder(drop_last_binary=True)), \n",
    "    ('bool_converter', FunctionTransformer(converse_types)), \n",
    "\n",
    "    # Удаление дубликатов и коррелируемых признаков\n",
    "    ('constant_dropper', DropConstantFeatures(tol=0.95579)), \n",
    "    ('duplicated_dropper', DropDuplicateFeatures()), \n",
    "    ('correlated_dropper', DropCorrelatedFeatures(threshold=0.8856)), \n",
    "\n",
    "    # # Лучшая модель с оптимизированными гиперпараметрами\n",
    "    # ('model', LGBMClassifier(\n",
    "    #     random_state=RANDOM_SEED, learning_rate=0.04440, boosting_type='gbdt', \n",
    "    #     n_estimators=4726, reg_lambda=38.7116, reg_alpha=13.22778, num_leaves=67)), \n",
    "    \n",
    "])"
   ]
  },
  {
   "cell_type": "code",
   "execution_count": 630,
   "id": "27176265-1633-46de-b6bb-d33bdd876f66",
   "metadata": {},
   "outputs": [
    {
     "data": {
      "text/html": [
       "<style>#sk-container-id-27 {color: black;background-color: white;}#sk-container-id-27 pre{padding: 0;}#sk-container-id-27 div.sk-toggleable {background-color: white;}#sk-container-id-27 label.sk-toggleable__label {cursor: pointer;display: block;width: 100%;margin-bottom: 0;padding: 0.3em;box-sizing: border-box;text-align: center;}#sk-container-id-27 label.sk-toggleable__label-arrow:before {content: \"▸\";float: left;margin-right: 0.25em;color: #696969;}#sk-container-id-27 label.sk-toggleable__label-arrow:hover:before {color: black;}#sk-container-id-27 div.sk-estimator:hover label.sk-toggleable__label-arrow:before {color: black;}#sk-container-id-27 div.sk-toggleable__content {max-height: 0;max-width: 0;overflow: hidden;text-align: left;background-color: #f0f8ff;}#sk-container-id-27 div.sk-toggleable__content pre {margin: 0.2em;color: black;border-radius: 0.25em;background-color: #f0f8ff;}#sk-container-id-27 input.sk-toggleable__control:checked~div.sk-toggleable__content {max-height: 200px;max-width: 100%;overflow: auto;}#sk-container-id-27 input.sk-toggleable__control:checked~label.sk-toggleable__label-arrow:before {content: \"▾\";}#sk-container-id-27 div.sk-estimator input.sk-toggleable__control:checked~label.sk-toggleable__label {background-color: #d4ebff;}#sk-container-id-27 div.sk-label input.sk-toggleable__control:checked~label.sk-toggleable__label {background-color: #d4ebff;}#sk-container-id-27 input.sk-hidden--visually {border: 0;clip: rect(1px 1px 1px 1px);clip: rect(1px, 1px, 1px, 1px);height: 1px;margin: -1px;overflow: hidden;padding: 0;position: absolute;width: 1px;}#sk-container-id-27 div.sk-estimator {font-family: monospace;background-color: #f0f8ff;border: 1px dotted black;border-radius: 0.25em;box-sizing: border-box;margin-bottom: 0.5em;}#sk-container-id-27 div.sk-estimator:hover {background-color: #d4ebff;}#sk-container-id-27 div.sk-parallel-item::after {content: \"\";width: 100%;border-bottom: 1px solid gray;flex-grow: 1;}#sk-container-id-27 div.sk-label:hover label.sk-toggleable__label {background-color: #d4ebff;}#sk-container-id-27 div.sk-serial::before {content: \"\";position: absolute;border-left: 1px solid gray;box-sizing: border-box;top: 0;bottom: 0;left: 50%;z-index: 0;}#sk-container-id-27 div.sk-serial {display: flex;flex-direction: column;align-items: center;background-color: white;padding-right: 0.2em;padding-left: 0.2em;position: relative;}#sk-container-id-27 div.sk-item {position: relative;z-index: 1;}#sk-container-id-27 div.sk-parallel {display: flex;align-items: stretch;justify-content: center;background-color: white;position: relative;}#sk-container-id-27 div.sk-item::before, #sk-container-id-27 div.sk-parallel-item::before {content: \"\";position: absolute;border-left: 1px solid gray;box-sizing: border-box;top: 0;bottom: 0;left: 50%;z-index: -1;}#sk-container-id-27 div.sk-parallel-item {display: flex;flex-direction: column;z-index: 1;position: relative;background-color: white;}#sk-container-id-27 div.sk-parallel-item:first-child::after {align-self: flex-end;width: 50%;}#sk-container-id-27 div.sk-parallel-item:last-child::after {align-self: flex-start;width: 50%;}#sk-container-id-27 div.sk-parallel-item:only-child::after {width: 0;}#sk-container-id-27 div.sk-dashed-wrapped {border: 1px dashed gray;margin: 0 0.4em 0.5em 0.4em;box-sizing: border-box;padding-bottom: 0.4em;background-color: white;}#sk-container-id-27 div.sk-label label {font-family: monospace;font-weight: bold;display: inline-block;line-height: 1.2em;}#sk-container-id-27 div.sk-label-container {text-align: center;}#sk-container-id-27 div.sk-container {/* jupyter's `normalize.less` sets `[hidden] { display: none; }` but bootstrap.min.css set `[hidden] { display: none !important; }` so we also need the `!important` here to be able to override the default hidden behavior on the sphinx rendered scikit-learn.org. See: https://github.com/scikit-learn/scikit-learn/issues/21755 */display: inline-block !important;position: relative;}#sk-container-id-27 div.sk-text-repr-fallback {display: none;}</style><div id=\"sk-container-id-27\" class=\"sk-top-container\"><div class=\"sk-text-repr-fallback\"><pre>Pipeline(steps=[(&#x27;indexer&#x27;,\n",
       "                 FunctionTransformer(func=&lt;function set_index at 0x0000020CF5CC4940&gt;)),\n",
       "                (&#x27;imputer&#x27;,\n",
       "                 FunctionTransformer(func=&lt;function fill_missings at 0x0000020CF5CC4040&gt;)),\n",
       "                (&#x27;engineer&#x27;,\n",
       "                 FunctionTransformer(func=&lt;function create_features at 0x0000020CCAA9D4C0&gt;)),\n",
       "                (&#x27;dropper&#x27;,\n",
       "                 DropFeatures(features_to_drop=[&#x27;client_id&#x27;, &#x27;visit_date&#x27;,\n",
       "                                                &#x27;visit_time&#x27;,\n",
       "                                                &#x27;device_s...\n",
       "                 RareLabelEncoder(replace_with=&#x27;rare&#x27;, tol=0.047319)),\n",
       "                (&#x27;onehot_encoder&#x27;, OneHotEncoder(drop_last_binary=True)),\n",
       "                (&#x27;bool_converter&#x27;,\n",
       "                 FunctionTransformer(func=&lt;function converse_types at 0x0000020CF5CC4D30&gt;)),\n",
       "                (&#x27;constant_dropper&#x27;, DropConstantFeatures(tol=0.95579)),\n",
       "                (&#x27;duplicated_dropper&#x27;, DropDuplicateFeatures()),\n",
       "                (&#x27;correlated_dropper&#x27;,\n",
       "                 DropCorrelatedFeatures(threshold=0.8856))])</pre><b>In a Jupyter environment, please rerun this cell to show the HTML representation or trust the notebook. <br />On GitHub, the HTML representation is unable to render, please try loading this page with nbviewer.org.</b></div><div class=\"sk-container\" hidden><div class=\"sk-item sk-dashed-wrapped\"><div class=\"sk-label-container\"><div class=\"sk-label sk-toggleable\"><input class=\"sk-toggleable__control sk-hidden--visually\" id=\"sk-estimator-id-121\" type=\"checkbox\" ><label for=\"sk-estimator-id-121\" class=\"sk-toggleable__label sk-toggleable__label-arrow\">Pipeline</label><div class=\"sk-toggleable__content\"><pre>Pipeline(steps=[(&#x27;indexer&#x27;,\n",
       "                 FunctionTransformer(func=&lt;function set_index at 0x0000020CF5CC4940&gt;)),\n",
       "                (&#x27;imputer&#x27;,\n",
       "                 FunctionTransformer(func=&lt;function fill_missings at 0x0000020CF5CC4040&gt;)),\n",
       "                (&#x27;engineer&#x27;,\n",
       "                 FunctionTransformer(func=&lt;function create_features at 0x0000020CCAA9D4C0&gt;)),\n",
       "                (&#x27;dropper&#x27;,\n",
       "                 DropFeatures(features_to_drop=[&#x27;client_id&#x27;, &#x27;visit_date&#x27;,\n",
       "                                                &#x27;visit_time&#x27;,\n",
       "                                                &#x27;device_s...\n",
       "                 RareLabelEncoder(replace_with=&#x27;rare&#x27;, tol=0.047319)),\n",
       "                (&#x27;onehot_encoder&#x27;, OneHotEncoder(drop_last_binary=True)),\n",
       "                (&#x27;bool_converter&#x27;,\n",
       "                 FunctionTransformer(func=&lt;function converse_types at 0x0000020CF5CC4D30&gt;)),\n",
       "                (&#x27;constant_dropper&#x27;, DropConstantFeatures(tol=0.95579)),\n",
       "                (&#x27;duplicated_dropper&#x27;, DropDuplicateFeatures()),\n",
       "                (&#x27;correlated_dropper&#x27;,\n",
       "                 DropCorrelatedFeatures(threshold=0.8856))])</pre></div></div></div><div class=\"sk-serial\"><div class=\"sk-item\"><div class=\"sk-estimator sk-toggleable\"><input class=\"sk-toggleable__control sk-hidden--visually\" id=\"sk-estimator-id-122\" type=\"checkbox\" ><label for=\"sk-estimator-id-122\" class=\"sk-toggleable__label sk-toggleable__label-arrow\">FunctionTransformer</label><div class=\"sk-toggleable__content\"><pre>FunctionTransformer(func=&lt;function set_index at 0x0000020CF5CC4940&gt;)</pre></div></div></div><div class=\"sk-item\"><div class=\"sk-estimator sk-toggleable\"><input class=\"sk-toggleable__control sk-hidden--visually\" id=\"sk-estimator-id-123\" type=\"checkbox\" ><label for=\"sk-estimator-id-123\" class=\"sk-toggleable__label sk-toggleable__label-arrow\">FunctionTransformer</label><div class=\"sk-toggleable__content\"><pre>FunctionTransformer(func=&lt;function fill_missings at 0x0000020CF5CC4040&gt;)</pre></div></div></div><div class=\"sk-item\"><div class=\"sk-estimator sk-toggleable\"><input class=\"sk-toggleable__control sk-hidden--visually\" id=\"sk-estimator-id-124\" type=\"checkbox\" ><label for=\"sk-estimator-id-124\" class=\"sk-toggleable__label sk-toggleable__label-arrow\">FunctionTransformer</label><div class=\"sk-toggleable__content\"><pre>FunctionTransformer(func=&lt;function create_features at 0x0000020CCAA9D4C0&gt;)</pre></div></div></div><div class=\"sk-item\"><div class=\"sk-estimator sk-toggleable\"><input class=\"sk-toggleable__control sk-hidden--visually\" id=\"sk-estimator-id-125\" type=\"checkbox\" ><label for=\"sk-estimator-id-125\" class=\"sk-toggleable__label sk-toggleable__label-arrow\">DropFeatures</label><div class=\"sk-toggleable__content\"><pre>DropFeatures(features_to_drop=[&#x27;client_id&#x27;, &#x27;visit_date&#x27;, &#x27;visit_time&#x27;,\n",
       "                               &#x27;device_screen_resolution&#x27;])</pre></div></div></div><div class=\"sk-item\"><div class=\"sk-estimator sk-toggleable\"><input class=\"sk-toggleable__control sk-hidden--visually\" id=\"sk-estimator-id-126\" type=\"checkbox\" ><label for=\"sk-estimator-id-126\" class=\"sk-toggleable__label sk-toggleable__label-arrow\">YeoJohnsonTransformer</label><div class=\"sk-toggleable__content\"><pre>YeoJohnsonTransformer()</pre></div></div></div><div class=\"sk-item\"><div class=\"sk-estimator sk-toggleable\"><input class=\"sk-toggleable__control sk-hidden--visually\" id=\"sk-estimator-id-127\" type=\"checkbox\" ><label for=\"sk-estimator-id-127\" class=\"sk-toggleable__label sk-toggleable__label-arrow\">Winsorizer</label><div class=\"sk-toggleable__content\"><pre>Winsorizer()</pre></div></div></div><div class=\"sk-item sk-dashed-wrapped\"><div class=\"sk-label-container\"><div class=\"sk-label sk-toggleable\"><input class=\"sk-toggleable__control sk-hidden--visually\" id=\"sk-estimator-id-128\" type=\"checkbox\" ><label for=\"sk-estimator-id-128\" class=\"sk-toggleable__label sk-toggleable__label-arrow\">scaler: SklearnTransformerWrapper</label><div class=\"sk-toggleable__content\"><pre>SklearnTransformerWrapper(transformer=StandardScaler())</pre></div></div></div><div class=\"sk-parallel\"><div class=\"sk-parallel-item\"><div class=\"sk-item\"><div class=\"sk-label-container\"><div class=\"sk-label sk-toggleable\"><input class=\"sk-toggleable__control sk-hidden--visually\" id=\"sk-estimator-id-129\" type=\"checkbox\" ><label for=\"sk-estimator-id-129\" class=\"sk-toggleable__label sk-toggleable__label-arrow\">transformer: StandardScaler</label><div class=\"sk-toggleable__content\"><pre>StandardScaler()</pre></div></div></div><div class=\"sk-serial\"><div class=\"sk-item\"><div class=\"sk-estimator sk-toggleable\"><input class=\"sk-toggleable__control sk-hidden--visually\" id=\"sk-estimator-id-130\" type=\"checkbox\" ><label for=\"sk-estimator-id-130\" class=\"sk-toggleable__label sk-toggleable__label-arrow\">StandardScaler</label><div class=\"sk-toggleable__content\"><pre>StandardScaler()</pre></div></div></div></div></div></div></div></div><div class=\"sk-item\"><div class=\"sk-estimator sk-toggleable\"><input class=\"sk-toggleable__control sk-hidden--visually\" id=\"sk-estimator-id-131\" type=\"checkbox\" ><label for=\"sk-estimator-id-131\" class=\"sk-toggleable__label sk-toggleable__label-arrow\">RareLabelEncoder</label><div class=\"sk-toggleable__content\"><pre>RareLabelEncoder(replace_with=&#x27;rare&#x27;, tol=0.047319)</pre></div></div></div><div class=\"sk-item\"><div class=\"sk-estimator sk-toggleable\"><input class=\"sk-toggleable__control sk-hidden--visually\" id=\"sk-estimator-id-132\" type=\"checkbox\" ><label for=\"sk-estimator-id-132\" class=\"sk-toggleable__label sk-toggleable__label-arrow\">OneHotEncoder</label><div class=\"sk-toggleable__content\"><pre>OneHotEncoder(drop_last_binary=True)</pre></div></div></div><div class=\"sk-item\"><div class=\"sk-estimator sk-toggleable\"><input class=\"sk-toggleable__control sk-hidden--visually\" id=\"sk-estimator-id-133\" type=\"checkbox\" ><label for=\"sk-estimator-id-133\" class=\"sk-toggleable__label sk-toggleable__label-arrow\">FunctionTransformer</label><div class=\"sk-toggleable__content\"><pre>FunctionTransformer(func=&lt;function converse_types at 0x0000020CF5CC4D30&gt;)</pre></div></div></div><div class=\"sk-item\"><div class=\"sk-estimator sk-toggleable\"><input class=\"sk-toggleable__control sk-hidden--visually\" id=\"sk-estimator-id-134\" type=\"checkbox\" ><label for=\"sk-estimator-id-134\" class=\"sk-toggleable__label sk-toggleable__label-arrow\">DropConstantFeatures</label><div class=\"sk-toggleable__content\"><pre>DropConstantFeatures(tol=0.95579)</pre></div></div></div><div class=\"sk-item\"><div class=\"sk-estimator sk-toggleable\"><input class=\"sk-toggleable__control sk-hidden--visually\" id=\"sk-estimator-id-135\" type=\"checkbox\" ><label for=\"sk-estimator-id-135\" class=\"sk-toggleable__label sk-toggleable__label-arrow\">DropDuplicateFeatures</label><div class=\"sk-toggleable__content\"><pre>DropDuplicateFeatures()</pre></div></div></div><div class=\"sk-item\"><div class=\"sk-estimator sk-toggleable\"><input class=\"sk-toggleable__control sk-hidden--visually\" id=\"sk-estimator-id-136\" type=\"checkbox\" ><label for=\"sk-estimator-id-136\" class=\"sk-toggleable__label sk-toggleable__label-arrow\">DropCorrelatedFeatures</label><div class=\"sk-toggleable__content\"><pre>DropCorrelatedFeatures(threshold=0.8856)</pre></div></div></div></div></div></div></div>"
      ],
      "text/plain": [
       "Pipeline(steps=[('indexer',\n",
       "                 FunctionTransformer(func=<function set_index at 0x0000020CF5CC4940>)),\n",
       "                ('imputer',\n",
       "                 FunctionTransformer(func=<function fill_missings at 0x0000020CF5CC4040>)),\n",
       "                ('engineer',\n",
       "                 FunctionTransformer(func=<function create_features at 0x0000020CCAA9D4C0>)),\n",
       "                ('dropper',\n",
       "                 DropFeatures(features_to_drop=['client_id', 'visit_date',\n",
       "                                                'visit_time',\n",
       "                                                'device_s...\n",
       "                 RareLabelEncoder(replace_with='rare', tol=0.047319)),\n",
       "                ('onehot_encoder', OneHotEncoder(drop_last_binary=True)),\n",
       "                ('bool_converter',\n",
       "                 FunctionTransformer(func=<function converse_types at 0x0000020CF5CC4D30>)),\n",
       "                ('constant_dropper', DropConstantFeatures(tol=0.95579)),\n",
       "                ('duplicated_dropper', DropDuplicateFeatures()),\n",
       "                ('correlated_dropper',\n",
       "                 DropCorrelatedFeatures(threshold=0.8856))])"
      ]
     },
     "execution_count": 630,
     "metadata": {},
     "output_type": "execute_result"
    }
   ],
   "source": [
    "my_pipi"
   ]
  },
  {
   "cell_type": "code",
   "execution_count": 645,
   "id": "b728a2c8-055f-472d-90d5-f8ea0069fc7e",
   "metadata": {},
   "outputs": [
    {
     "ename": "ValueError",
     "evalue": "The resulting dataframe will have no columns after dropping all constant or quasi-constant features. Try changing the tol value.",
     "output_type": "error",
     "traceback": [
      "\u001b[1;31m---------------------------------------------------------------------------\u001b[0m",
      "\u001b[1;31mValueError\u001b[0m                                Traceback (most recent call last)",
      "\u001b[1;32mC:\\Users\\HPZ2~1\\AppData\\Local\\Temp/ipykernel_9240/3470311679.py\u001b[0m in \u001b[0;36m<module>\u001b[1;34m\u001b[0m\n\u001b[1;32m----> 1\u001b[1;33m \u001b[0md\u001b[0m \u001b[1;33m=\u001b[0m \u001b[0mmy_pipi\u001b[0m\u001b[1;33m.\u001b[0m\u001b[0mfit\u001b[0m\u001b[1;33m(\u001b[0m\u001b[0mdf\u001b[0m\u001b[1;33m)\u001b[0m\u001b[1;33m\u001b[0m\u001b[1;33m\u001b[0m\u001b[0m\n\u001b[0m",
      "\u001b[1;32m~\\anaconda3\\lib\\site-packages\\sklearn\\pipeline.py\u001b[0m in \u001b[0;36mfit\u001b[1;34m(self, X, y, **fit_params)\u001b[0m\n\u001b[0;32m    399\u001b[0m         \"\"\"\n\u001b[0;32m    400\u001b[0m         \u001b[0mfit_params_steps\u001b[0m \u001b[1;33m=\u001b[0m \u001b[0mself\u001b[0m\u001b[1;33m.\u001b[0m\u001b[0m_check_fit_params\u001b[0m\u001b[1;33m(\u001b[0m\u001b[1;33m**\u001b[0m\u001b[0mfit_params\u001b[0m\u001b[1;33m)\u001b[0m\u001b[1;33m\u001b[0m\u001b[1;33m\u001b[0m\u001b[0m\n\u001b[1;32m--> 401\u001b[1;33m         \u001b[0mXt\u001b[0m \u001b[1;33m=\u001b[0m \u001b[0mself\u001b[0m\u001b[1;33m.\u001b[0m\u001b[0m_fit\u001b[0m\u001b[1;33m(\u001b[0m\u001b[0mX\u001b[0m\u001b[1;33m,\u001b[0m \u001b[0my\u001b[0m\u001b[1;33m,\u001b[0m \u001b[1;33m**\u001b[0m\u001b[0mfit_params_steps\u001b[0m\u001b[1;33m)\u001b[0m\u001b[1;33m\u001b[0m\u001b[1;33m\u001b[0m\u001b[0m\n\u001b[0m\u001b[0;32m    402\u001b[0m         \u001b[1;32mwith\u001b[0m \u001b[0m_print_elapsed_time\u001b[0m\u001b[1;33m(\u001b[0m\u001b[1;34m\"Pipeline\"\u001b[0m\u001b[1;33m,\u001b[0m \u001b[0mself\u001b[0m\u001b[1;33m.\u001b[0m\u001b[0m_log_message\u001b[0m\u001b[1;33m(\u001b[0m\u001b[0mlen\u001b[0m\u001b[1;33m(\u001b[0m\u001b[0mself\u001b[0m\u001b[1;33m.\u001b[0m\u001b[0msteps\u001b[0m\u001b[1;33m)\u001b[0m \u001b[1;33m-\u001b[0m \u001b[1;36m1\u001b[0m\u001b[1;33m)\u001b[0m\u001b[1;33m)\u001b[0m\u001b[1;33m:\u001b[0m\u001b[1;33m\u001b[0m\u001b[1;33m\u001b[0m\u001b[0m\n\u001b[0;32m    403\u001b[0m             \u001b[1;32mif\u001b[0m \u001b[0mself\u001b[0m\u001b[1;33m.\u001b[0m\u001b[0m_final_estimator\u001b[0m \u001b[1;33m!=\u001b[0m \u001b[1;34m\"passthrough\"\u001b[0m\u001b[1;33m:\u001b[0m\u001b[1;33m\u001b[0m\u001b[1;33m\u001b[0m\u001b[0m\n",
      "\u001b[1;32m~\\anaconda3\\lib\\site-packages\\sklearn\\pipeline.py\u001b[0m in \u001b[0;36m_fit\u001b[1;34m(self, X, y, **fit_params_steps)\u001b[0m\n\u001b[0;32m    357\u001b[0m                 \u001b[0mcloned_transformer\u001b[0m \u001b[1;33m=\u001b[0m \u001b[0mclone\u001b[0m\u001b[1;33m(\u001b[0m\u001b[0mtransformer\u001b[0m\u001b[1;33m)\u001b[0m\u001b[1;33m\u001b[0m\u001b[1;33m\u001b[0m\u001b[0m\n\u001b[0;32m    358\u001b[0m             \u001b[1;31m# Fit or load from cache the current transformer\u001b[0m\u001b[1;33m\u001b[0m\u001b[1;33m\u001b[0m\u001b[0m\n\u001b[1;32m--> 359\u001b[1;33m             X, fitted_transformer = fit_transform_one_cached(\n\u001b[0m\u001b[0;32m    360\u001b[0m                 \u001b[0mcloned_transformer\u001b[0m\u001b[1;33m,\u001b[0m\u001b[1;33m\u001b[0m\u001b[1;33m\u001b[0m\u001b[0m\n\u001b[0;32m    361\u001b[0m                 \u001b[0mX\u001b[0m\u001b[1;33m,\u001b[0m\u001b[1;33m\u001b[0m\u001b[1;33m\u001b[0m\u001b[0m\n",
      "\u001b[1;32m~\\anaconda3\\lib\\site-packages\\joblib\\memory.py\u001b[0m in \u001b[0;36m__call__\u001b[1;34m(self, *args, **kwargs)\u001b[0m\n\u001b[0;32m    347\u001b[0m \u001b[1;33m\u001b[0m\u001b[0m\n\u001b[0;32m    348\u001b[0m     \u001b[1;32mdef\u001b[0m \u001b[0m__call__\u001b[0m\u001b[1;33m(\u001b[0m\u001b[0mself\u001b[0m\u001b[1;33m,\u001b[0m \u001b[1;33m*\u001b[0m\u001b[0margs\u001b[0m\u001b[1;33m,\u001b[0m \u001b[1;33m**\u001b[0m\u001b[0mkwargs\u001b[0m\u001b[1;33m)\u001b[0m\u001b[1;33m:\u001b[0m\u001b[1;33m\u001b[0m\u001b[1;33m\u001b[0m\u001b[0m\n\u001b[1;32m--> 349\u001b[1;33m         \u001b[1;32mreturn\u001b[0m \u001b[0mself\u001b[0m\u001b[1;33m.\u001b[0m\u001b[0mfunc\u001b[0m\u001b[1;33m(\u001b[0m\u001b[1;33m*\u001b[0m\u001b[0margs\u001b[0m\u001b[1;33m,\u001b[0m \u001b[1;33m**\u001b[0m\u001b[0mkwargs\u001b[0m\u001b[1;33m)\u001b[0m\u001b[1;33m\u001b[0m\u001b[1;33m\u001b[0m\u001b[0m\n\u001b[0m\u001b[0;32m    350\u001b[0m \u001b[1;33m\u001b[0m\u001b[0m\n\u001b[0;32m    351\u001b[0m     \u001b[1;32mdef\u001b[0m \u001b[0mcall_and_shelve\u001b[0m\u001b[1;33m(\u001b[0m\u001b[0mself\u001b[0m\u001b[1;33m,\u001b[0m \u001b[1;33m*\u001b[0m\u001b[0margs\u001b[0m\u001b[1;33m,\u001b[0m \u001b[1;33m**\u001b[0m\u001b[0mkwargs\u001b[0m\u001b[1;33m)\u001b[0m\u001b[1;33m:\u001b[0m\u001b[1;33m\u001b[0m\u001b[1;33m\u001b[0m\u001b[0m\n",
      "\u001b[1;32m~\\anaconda3\\lib\\site-packages\\sklearn\\pipeline.py\u001b[0m in \u001b[0;36m_fit_transform_one\u001b[1;34m(transformer, X, y, weight, message_clsname, message, **fit_params)\u001b[0m\n\u001b[0;32m    891\u001b[0m     \u001b[1;32mwith\u001b[0m \u001b[0m_print_elapsed_time\u001b[0m\u001b[1;33m(\u001b[0m\u001b[0mmessage_clsname\u001b[0m\u001b[1;33m,\u001b[0m \u001b[0mmessage\u001b[0m\u001b[1;33m)\u001b[0m\u001b[1;33m:\u001b[0m\u001b[1;33m\u001b[0m\u001b[1;33m\u001b[0m\u001b[0m\n\u001b[0;32m    892\u001b[0m         \u001b[1;32mif\u001b[0m \u001b[0mhasattr\u001b[0m\u001b[1;33m(\u001b[0m\u001b[0mtransformer\u001b[0m\u001b[1;33m,\u001b[0m \u001b[1;34m\"fit_transform\"\u001b[0m\u001b[1;33m)\u001b[0m\u001b[1;33m:\u001b[0m\u001b[1;33m\u001b[0m\u001b[1;33m\u001b[0m\u001b[0m\n\u001b[1;32m--> 893\u001b[1;33m             \u001b[0mres\u001b[0m \u001b[1;33m=\u001b[0m \u001b[0mtransformer\u001b[0m\u001b[1;33m.\u001b[0m\u001b[0mfit_transform\u001b[0m\u001b[1;33m(\u001b[0m\u001b[0mX\u001b[0m\u001b[1;33m,\u001b[0m \u001b[0my\u001b[0m\u001b[1;33m,\u001b[0m \u001b[1;33m**\u001b[0m\u001b[0mfit_params\u001b[0m\u001b[1;33m)\u001b[0m\u001b[1;33m\u001b[0m\u001b[1;33m\u001b[0m\u001b[0m\n\u001b[0m\u001b[0;32m    894\u001b[0m         \u001b[1;32melse\u001b[0m\u001b[1;33m:\u001b[0m\u001b[1;33m\u001b[0m\u001b[1;33m\u001b[0m\u001b[0m\n\u001b[0;32m    895\u001b[0m             \u001b[0mres\u001b[0m \u001b[1;33m=\u001b[0m \u001b[0mtransformer\u001b[0m\u001b[1;33m.\u001b[0m\u001b[0mfit\u001b[0m\u001b[1;33m(\u001b[0m\u001b[0mX\u001b[0m\u001b[1;33m,\u001b[0m \u001b[0my\u001b[0m\u001b[1;33m,\u001b[0m \u001b[1;33m**\u001b[0m\u001b[0mfit_params\u001b[0m\u001b[1;33m)\u001b[0m\u001b[1;33m.\u001b[0m\u001b[0mtransform\u001b[0m\u001b[1;33m(\u001b[0m\u001b[0mX\u001b[0m\u001b[1;33m)\u001b[0m\u001b[1;33m\u001b[0m\u001b[1;33m\u001b[0m\u001b[0m\n",
      "\u001b[1;32m~\\anaconda3\\lib\\site-packages\\sklearn\\utils\\_set_output.py\u001b[0m in \u001b[0;36mwrapped\u001b[1;34m(self, X, *args, **kwargs)\u001b[0m\n\u001b[0;32m    138\u001b[0m     \u001b[1;33m@\u001b[0m\u001b[0mwraps\u001b[0m\u001b[1;33m(\u001b[0m\u001b[0mf\u001b[0m\u001b[1;33m)\u001b[0m\u001b[1;33m\u001b[0m\u001b[1;33m\u001b[0m\u001b[0m\n\u001b[0;32m    139\u001b[0m     \u001b[1;32mdef\u001b[0m \u001b[0mwrapped\u001b[0m\u001b[1;33m(\u001b[0m\u001b[0mself\u001b[0m\u001b[1;33m,\u001b[0m \u001b[0mX\u001b[0m\u001b[1;33m,\u001b[0m \u001b[1;33m*\u001b[0m\u001b[0margs\u001b[0m\u001b[1;33m,\u001b[0m \u001b[1;33m**\u001b[0m\u001b[0mkwargs\u001b[0m\u001b[1;33m)\u001b[0m\u001b[1;33m:\u001b[0m\u001b[1;33m\u001b[0m\u001b[1;33m\u001b[0m\u001b[0m\n\u001b[1;32m--> 140\u001b[1;33m         \u001b[0mdata_to_wrap\u001b[0m \u001b[1;33m=\u001b[0m \u001b[0mf\u001b[0m\u001b[1;33m(\u001b[0m\u001b[0mself\u001b[0m\u001b[1;33m,\u001b[0m \u001b[0mX\u001b[0m\u001b[1;33m,\u001b[0m \u001b[1;33m*\u001b[0m\u001b[0margs\u001b[0m\u001b[1;33m,\u001b[0m \u001b[1;33m**\u001b[0m\u001b[0mkwargs\u001b[0m\u001b[1;33m)\u001b[0m\u001b[1;33m\u001b[0m\u001b[1;33m\u001b[0m\u001b[0m\n\u001b[0m\u001b[0;32m    141\u001b[0m         \u001b[1;32mif\u001b[0m \u001b[0misinstance\u001b[0m\u001b[1;33m(\u001b[0m\u001b[0mdata_to_wrap\u001b[0m\u001b[1;33m,\u001b[0m \u001b[0mtuple\u001b[0m\u001b[1;33m)\u001b[0m\u001b[1;33m:\u001b[0m\u001b[1;33m\u001b[0m\u001b[1;33m\u001b[0m\u001b[0m\n\u001b[0;32m    142\u001b[0m             \u001b[1;31m# only wrap the first output for cross decomposition\u001b[0m\u001b[1;33m\u001b[0m\u001b[1;33m\u001b[0m\u001b[0m\n",
      "\u001b[1;32m~\\anaconda3\\lib\\site-packages\\sklearn\\base.py\u001b[0m in \u001b[0;36mfit_transform\u001b[1;34m(self, X, y, **fit_params)\u001b[0m\n\u001b[0;32m    876\u001b[0m         \u001b[1;32mif\u001b[0m \u001b[0my\u001b[0m \u001b[1;32mis\u001b[0m \u001b[1;32mNone\u001b[0m\u001b[1;33m:\u001b[0m\u001b[1;33m\u001b[0m\u001b[1;33m\u001b[0m\u001b[0m\n\u001b[0;32m    877\u001b[0m             \u001b[1;31m# fit method of arity 1 (unsupervised transformation)\u001b[0m\u001b[1;33m\u001b[0m\u001b[1;33m\u001b[0m\u001b[0m\n\u001b[1;32m--> 878\u001b[1;33m             \u001b[1;32mreturn\u001b[0m \u001b[0mself\u001b[0m\u001b[1;33m.\u001b[0m\u001b[0mfit\u001b[0m\u001b[1;33m(\u001b[0m\u001b[0mX\u001b[0m\u001b[1;33m,\u001b[0m \u001b[1;33m**\u001b[0m\u001b[0mfit_params\u001b[0m\u001b[1;33m)\u001b[0m\u001b[1;33m.\u001b[0m\u001b[0mtransform\u001b[0m\u001b[1;33m(\u001b[0m\u001b[0mX\u001b[0m\u001b[1;33m)\u001b[0m\u001b[1;33m\u001b[0m\u001b[1;33m\u001b[0m\u001b[0m\n\u001b[0m\u001b[0;32m    879\u001b[0m         \u001b[1;32melse\u001b[0m\u001b[1;33m:\u001b[0m\u001b[1;33m\u001b[0m\u001b[1;33m\u001b[0m\u001b[0m\n\u001b[0;32m    880\u001b[0m             \u001b[1;31m# fit method of arity 2 (supervised transformation)\u001b[0m\u001b[1;33m\u001b[0m\u001b[1;33m\u001b[0m\u001b[0m\n",
      "\u001b[1;32m~\\anaconda3\\lib\\site-packages\\feature_engine\\selection\\drop_constant_features.py\u001b[0m in \u001b[0;36mfit\u001b[1;34m(self, X, y)\u001b[0m\n\u001b[0;32m    175\u001b[0m         \u001b[1;31m# check we are not dropping all the columns in the df\u001b[0m\u001b[1;33m\u001b[0m\u001b[1;33m\u001b[0m\u001b[0m\n\u001b[0;32m    176\u001b[0m         \u001b[1;32mif\u001b[0m \u001b[0mlen\u001b[0m\u001b[1;33m(\u001b[0m\u001b[0mself\u001b[0m\u001b[1;33m.\u001b[0m\u001b[0mfeatures_to_drop_\u001b[0m\u001b[1;33m)\u001b[0m \u001b[1;33m==\u001b[0m \u001b[0mlen\u001b[0m\u001b[1;33m(\u001b[0m\u001b[0mX\u001b[0m\u001b[1;33m.\u001b[0m\u001b[0mcolumns\u001b[0m\u001b[1;33m)\u001b[0m\u001b[1;33m:\u001b[0m\u001b[1;33m\u001b[0m\u001b[1;33m\u001b[0m\u001b[0m\n\u001b[1;32m--> 177\u001b[1;33m             raise ValueError(\n\u001b[0m\u001b[0;32m    178\u001b[0m                 \u001b[1;34m\"The resulting dataframe will have no columns after dropping all \"\u001b[0m\u001b[1;33m\u001b[0m\u001b[1;33m\u001b[0m\u001b[0m\n\u001b[0;32m    179\u001b[0m                 \u001b[1;34m\"constant or quasi-constant features. Try changing the tol value.\"\u001b[0m\u001b[1;33m\u001b[0m\u001b[1;33m\u001b[0m\u001b[0m\n",
      "\u001b[1;31mValueError\u001b[0m: The resulting dataframe will have no columns after dropping all constant or quasi-constant features. Try changing the tol value."
     ]
    }
   ],
   "source": [
    "d = my_pipi.fit(df)"
   ]
  },
  {
   "cell_type": "code",
   "execution_count": 646,
   "id": "fedb0d94-dbc9-4040-9ba0-a3d2f4b2a679",
   "metadata": {},
   "outputs": [
    {
     "ename": "NameError",
     "evalue": "name 'd' is not defined",
     "output_type": "error",
     "traceback": [
      "\u001b[1;31m---------------------------------------------------------------------------\u001b[0m",
      "\u001b[1;31mNameError\u001b[0m                                 Traceback (most recent call last)",
      "\u001b[1;32mC:\\Users\\HPZ2~1\\AppData\\Local\\Temp/ipykernel_9240/3161387801.py\u001b[0m in \u001b[0;36m<module>\u001b[1;34m\u001b[0m\n\u001b[1;32m----> 1\u001b[1;33m \u001b[0md\u001b[0m\u001b[1;33m\u001b[0m\u001b[1;33m\u001b[0m\u001b[0m\n\u001b[0m",
      "\u001b[1;31mNameError\u001b[0m: name 'd' is not defined"
     ]
    }
   ],
   "source": [
    "d"
   ]
  },
  {
   "cell_type": "code",
   "execution_count": 664,
   "id": "f8e614cf-517c-4d84-9158-7900626e0551",
   "metadata": {},
   "outputs": [],
   "source": [
    "wwwwww = df.iloc[[0]]"
   ]
  },
  {
   "cell_type": "code",
   "execution_count": 665,
   "id": "cac5786d-4832-4099-bd99-31571b4f7888",
   "metadata": {},
   "outputs": [
    {
     "data": {
      "text/html": [
       "<div>\n",
       "<style scoped>\n",
       "    .dataframe tbody tr th:only-of-type {\n",
       "        vertical-align: middle;\n",
       "    }\n",
       "\n",
       "    .dataframe tbody tr th {\n",
       "        vertical-align: top;\n",
       "    }\n",
       "\n",
       "    .dataframe thead th {\n",
       "        text-align: right;\n",
       "    }\n",
       "</style>\n",
       "<table border=\"1\" class=\"dataframe\">\n",
       "  <thead>\n",
       "    <tr style=\"text-align: right;\">\n",
       "      <th></th>\n",
       "      <th>session_id</th>\n",
       "      <th>client_id</th>\n",
       "      <th>visit_date</th>\n",
       "      <th>visit_time</th>\n",
       "      <th>visit_number</th>\n",
       "      <th>utm_source</th>\n",
       "      <th>utm_medium</th>\n",
       "      <th>utm_campaign</th>\n",
       "      <th>utm_adcontent</th>\n",
       "      <th>utm_keyword</th>\n",
       "      <th>device_category</th>\n",
       "      <th>device_os</th>\n",
       "      <th>device_brand</th>\n",
       "      <th>device_model</th>\n",
       "      <th>device_screen_resolution</th>\n",
       "      <th>device_browser</th>\n",
       "      <th>geo_country</th>\n",
       "      <th>geo_city</th>\n",
       "    </tr>\n",
       "  </thead>\n",
       "  <tbody>\n",
       "    <tr>\n",
       "      <th>0</th>\n",
       "      <td>905544597018549464.1636867290.1636867290</td>\n",
       "      <td>210838531.1636867225</td>\n",
       "      <td>2021-11-14</td>\n",
       "      <td>08:21:30</td>\n",
       "      <td>1</td>\n",
       "      <td>MvfHsxITijuriZxsqZqt</td>\n",
       "      <td>cpm</td>\n",
       "      <td>FTjNLDyTrXaWYgZymFkV</td>\n",
       "      <td>xhoenQgDQsgfEPYNPwKO</td>\n",
       "      <td>IGUCNvHlhfHpROGclCit</td>\n",
       "      <td>mobile</td>\n",
       "      <td>Android</td>\n",
       "      <td>Samsung</td>\n",
       "      <td>None</td>\n",
       "      <td>385x854</td>\n",
       "      <td>Samsung Internet</td>\n",
       "      <td>Russia</td>\n",
       "      <td>Moscow</td>\n",
       "    </tr>\n",
       "  </tbody>\n",
       "</table>\n",
       "</div>"
      ],
      "text/plain": [
       "                                 session_id             client_id  visit_date  \\\n",
       "0  905544597018549464.1636867290.1636867290  210838531.1636867225  2021-11-14   \n",
       "\n",
       "  visit_time  visit_number            utm_source utm_medium  \\\n",
       "0   08:21:30             1  MvfHsxITijuriZxsqZqt        cpm   \n",
       "\n",
       "           utm_campaign         utm_adcontent           utm_keyword  \\\n",
       "0  FTjNLDyTrXaWYgZymFkV  xhoenQgDQsgfEPYNPwKO  IGUCNvHlhfHpROGclCit   \n",
       "\n",
       "  device_category device_os device_brand device_model  \\\n",
       "0          mobile   Android      Samsung         None   \n",
       "\n",
       "  device_screen_resolution    device_browser geo_country geo_city  \n",
       "0                  385x854  Samsung Internet      Russia   Moscow  "
      ]
     },
     "execution_count": 665,
     "metadata": {},
     "output_type": "execute_result"
    }
   ],
   "source": [
    "wwwwww"
   ]
  },
  {
   "cell_type": "code",
   "execution_count": 668,
   "id": "8ee293be-6726-41e5-811a-aff1dfe8e5a3",
   "metadata": {
    "colab": {
     "base_uri": "https://localhost:8080/"
    },
    "id": "2vtF_r6P1sen",
    "outputId": "491885c9-2d6a-4a7e-d1a2-1e5325b51986"
   },
   "outputs": [],
   "source": [
    "we = preprocessor.fit_transform(df)\n",
    "# we3 = preprocessor.transform(df)\n",
    "\n",
    "# print(f'X_train.shape = {we.shape}')"
   ]
  },
  {
   "cell_type": "code",
   "execution_count": 669,
   "id": "ef360303-1f9d-4092-b5a8-725c879d99a4",
   "metadata": {},
   "outputs": [
    {
     "data": {
      "text/html": [
       "<div>\n",
       "<style scoped>\n",
       "    .dataframe tbody tr th:only-of-type {\n",
       "        vertical-align: middle;\n",
       "    }\n",
       "\n",
       "    .dataframe tbody tr th {\n",
       "        vertical-align: top;\n",
       "    }\n",
       "\n",
       "    .dataframe thead th {\n",
       "        text-align: right;\n",
       "    }\n",
       "</style>\n",
       "<table border=\"1\" class=\"dataframe\">\n",
       "  <thead>\n",
       "    <tr style=\"text-align: right;\">\n",
       "      <th></th>\n",
       "      <th>visit_number</th>\n",
       "      <th>visit_date_weekday</th>\n",
       "      <th>visit_date_weekend</th>\n",
       "      <th>visit_date_day</th>\n",
       "      <th>visit_time_hour</th>\n",
       "      <th>visit_time_minute</th>\n",
       "      <th>utm_medium_added_is_organic</th>\n",
       "      <th>device_screen_resolution_width</th>\n",
       "      <th>utm_source_ZpYIoDJMcFzVoPFsHGJL</th>\n",
       "      <th>utm_campaign_LEoPHuyFvzoNfnzGgfcd</th>\n",
       "    </tr>\n",
       "    <tr>\n",
       "      <th>session_id</th>\n",
       "      <th></th>\n",
       "      <th></th>\n",
       "      <th></th>\n",
       "      <th></th>\n",
       "      <th></th>\n",
       "      <th></th>\n",
       "      <th></th>\n",
       "      <th></th>\n",
       "      <th></th>\n",
       "      <th></th>\n",
       "    </tr>\n",
       "  </thead>\n",
       "  <tbody>\n",
       "    <tr>\n",
       "      <th>905544597018549464.1636867290.1636867290</th>\n",
       "      <td>-0.5</td>\n",
       "      <td>1.332099</td>\n",
       "      <td>1.0</td>\n",
       "      <td>-0.466530</td>\n",
       "      <td>-0.365225</td>\n",
       "      <td>0.398810</td>\n",
       "      <td>0.0</td>\n",
       "      <td>0.422743</td>\n",
       "      <td>0.0</td>\n",
       "      <td>0.0</td>\n",
       "    </tr>\n",
       "    <tr>\n",
       "      <th>9055446045651783499.1640648526.1640648526</th>\n",
       "      <td>-0.5</td>\n",
       "      <td>-0.174235</td>\n",
       "      <td>0.0</td>\n",
       "      <td>0.861966</td>\n",
       "      <td>-1.625726</td>\n",
       "      <td>1.061528</td>\n",
       "      <td>0.0</td>\n",
       "      <td>-0.431235</td>\n",
       "      <td>1.0</td>\n",
       "      <td>1.0</td>\n",
       "    </tr>\n",
       "    <tr>\n",
       "      <th>9055447192389856083.1622453074.1622453074</th>\n",
       "      <td>-0.5</td>\n",
       "      <td>-1.062745</td>\n",
       "      <td>0.0</td>\n",
       "      <td>1.151198</td>\n",
       "      <td>0.862834</td>\n",
       "      <td>-1.194269</td>\n",
       "      <td>1.0</td>\n",
       "      <td>0.065987</td>\n",
       "      <td>0.0</td>\n",
       "      <td>0.0</td>\n",
       "    </tr>\n",
       "    <tr>\n",
       "      <th>9055466554104774132.1629442326.1629442326</th>\n",
       "      <td>2.0</td>\n",
       "      <td>0.967626</td>\n",
       "      <td>0.0</td>\n",
       "      <td>0.097909</td>\n",
       "      <td>-0.085101</td>\n",
       "      <td>-1.194269</td>\n",
       "      <td>0.0</td>\n",
       "      <td>1.492653</td>\n",
       "      <td>1.0</td>\n",
       "      <td>1.0</td>\n",
       "    </tr>\n",
       "    <tr>\n",
       "      <th>9055488359664698205.1635763037.1635763037</th>\n",
       "      <td>-0.5</td>\n",
       "      <td>-1.062745</td>\n",
       "      <td>0.0</td>\n",
       "      <td>-1.644543</td>\n",
       "      <td>1.213219</td>\n",
       "      <td>0.928199</td>\n",
       "      <td>0.0</td>\n",
       "      <td>-1.550147</td>\n",
       "      <td>1.0</td>\n",
       "      <td>0.0</td>\n",
       "    </tr>\n",
       "  </tbody>\n",
       "</table>\n",
       "</div>"
      ],
      "text/plain": [
       "                                           visit_number  visit_date_weekday  \\\n",
       "session_id                                                                    \n",
       "905544597018549464.1636867290.1636867290           -0.5            1.332099   \n",
       "9055446045651783499.1640648526.1640648526          -0.5           -0.174235   \n",
       "9055447192389856083.1622453074.1622453074          -0.5           -1.062745   \n",
       "9055466554104774132.1629442326.1629442326           2.0            0.967626   \n",
       "9055488359664698205.1635763037.1635763037          -0.5           -1.062745   \n",
       "\n",
       "                                           visit_date_weekend  visit_date_day  \\\n",
       "session_id                                                                      \n",
       "905544597018549464.1636867290.1636867290                  1.0       -0.466530   \n",
       "9055446045651783499.1640648526.1640648526                 0.0        0.861966   \n",
       "9055447192389856083.1622453074.1622453074                 0.0        1.151198   \n",
       "9055466554104774132.1629442326.1629442326                 0.0        0.097909   \n",
       "9055488359664698205.1635763037.1635763037                 0.0       -1.644543   \n",
       "\n",
       "                                           visit_time_hour  visit_time_minute  \\\n",
       "session_id                                                                      \n",
       "905544597018549464.1636867290.1636867290         -0.365225           0.398810   \n",
       "9055446045651783499.1640648526.1640648526        -1.625726           1.061528   \n",
       "9055447192389856083.1622453074.1622453074         0.862834          -1.194269   \n",
       "9055466554104774132.1629442326.1629442326        -0.085101          -1.194269   \n",
       "9055488359664698205.1635763037.1635763037         1.213219           0.928199   \n",
       "\n",
       "                                           utm_medium_added_is_organic  \\\n",
       "session_id                                                               \n",
       "905544597018549464.1636867290.1636867290                           0.0   \n",
       "9055446045651783499.1640648526.1640648526                          0.0   \n",
       "9055447192389856083.1622453074.1622453074                          1.0   \n",
       "9055466554104774132.1629442326.1629442326                          0.0   \n",
       "9055488359664698205.1635763037.1635763037                          0.0   \n",
       "\n",
       "                                           device_screen_resolution_width  \\\n",
       "session_id                                                                  \n",
       "905544597018549464.1636867290.1636867290                         0.422743   \n",
       "9055446045651783499.1640648526.1640648526                       -0.431235   \n",
       "9055447192389856083.1622453074.1622453074                        0.065987   \n",
       "9055466554104774132.1629442326.1629442326                        1.492653   \n",
       "9055488359664698205.1635763037.1635763037                       -1.550147   \n",
       "\n",
       "                                           utm_source_ZpYIoDJMcFzVoPFsHGJL  \\\n",
       "session_id                                                                   \n",
       "905544597018549464.1636867290.1636867290                               0.0   \n",
       "9055446045651783499.1640648526.1640648526                              1.0   \n",
       "9055447192389856083.1622453074.1622453074                              0.0   \n",
       "9055466554104774132.1629442326.1629442326                              1.0   \n",
       "9055488359664698205.1635763037.1635763037                              1.0   \n",
       "\n",
       "                                           utm_campaign_LEoPHuyFvzoNfnzGgfcd  \n",
       "session_id                                                                    \n",
       "905544597018549464.1636867290.1636867290                                 0.0  \n",
       "9055446045651783499.1640648526.1640648526                                1.0  \n",
       "9055447192389856083.1622453074.1622453074                                0.0  \n",
       "9055466554104774132.1629442326.1629442326                                1.0  \n",
       "9055488359664698205.1635763037.1635763037                                0.0  "
      ]
     },
     "execution_count": 669,
     "metadata": {},
     "output_type": "execute_result"
    }
   ],
   "source": [
    "we"
   ]
  },
  {
   "cell_type": "code",
   "execution_count": null,
   "id": "857824ce-e74b-4318-9956-82345cca2d26",
   "metadata": {},
   "outputs": [],
   "source": []
  }
 ],
 "metadata": {
  "kernelspec": {
   "display_name": "Python 3 (ipykernel)",
   "language": "python",
   "name": "python3"
  },
  "language_info": {
   "codemirror_mode": {
    "name": "ipython",
    "version": 3
   },
   "file_extension": ".py",
   "mimetype": "text/x-python",
   "name": "python",
   "nbconvert_exporter": "python",
   "pygments_lexer": "ipython3",
   "version": "3.9.7"
  }
 },
 "nbformat": 4,
 "nbformat_minor": 5
}
